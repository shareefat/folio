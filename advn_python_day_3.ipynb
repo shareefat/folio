{
  "nbformat": 4,
  "nbformat_minor": 0,
  "metadata": {
    "colab": {
      "provenance": [],
      "authorship_tag": "ABX9TyPrhwCZt+rgeFlARBxFZCqA",
      "include_colab_link": true
    },
    "kernelspec": {
      "name": "python3",
      "display_name": "Python 3"
    },
    "language_info": {
      "name": "python"
    }
  },
  "cells": [
    {
      "cell_type": "markdown",
      "metadata": {
        "id": "view-in-github",
        "colab_type": "text"
      },
      "source": [
        "<a href=\"https://colab.research.google.com/github/shareefat/folio/blob/main/advn_python_day_3.ipynb\" target=\"_parent\"><img src=\"https://colab.research.google.com/assets/colab-badge.svg\" alt=\"Open In Colab\"/></a>"
      ]
    },
    {
      "cell_type": "code",
      "execution_count": 22,
      "metadata": {
        "id": "Xck-BPMkJ2kQ"
      },
      "outputs": [],
      "source": [
        "class student:\n",
        "  def __init__(self,name,age,grade):\n",
        "    self.name=name\n",
        "    self.age=age\n",
        "    self.grade=grade\n",
        "  def get_grade(self):\n",
        "    return self.grade"
      ]
    },
    {
      "cell_type": "code",
      "source": [
        "obj=student(\"sha\",22,\"A+\")"
      ],
      "metadata": {
        "id": "UbFEOknkgEJn"
      },
      "execution_count": 14,
      "outputs": []
    },
    {
      "cell_type": "code",
      "source": [
        "obj.get_grade()"
      ],
      "metadata": {
        "id": "KC-qF0dMgWc3"
      },
      "execution_count": 15,
      "outputs": []
    },
    {
      "cell_type": "code",
      "source": [
        "class student:\n",
        "  def method():\n",
        "    print(\"class and object\")\n",
        "    print(\"the id of method is\",id(self))"
      ],
      "metadata": {
        "id": "bjXGXXC2kRXn"
      },
      "execution_count": 23,
      "outputs": []
    },
    {
      "cell_type": "code",
      "source": [
        "s1=student()\n",
        "s2=student()\n",
        "print(\"the id of object is\",id(s1))\n",
        "print(\"the id of object is\",id(s2))\n",
        "\n",
        "#the id will be different because each object is different"
      ],
      "metadata": {
        "colab": {
          "base_uri": "https://localhost:8080/"
        },
        "id": "_pUX2k-skozz",
        "outputId": "716cf09f-d517-4def-d7de-8076111dbb24"
      },
      "execution_count": 24,
      "outputs": [
        {
          "output_type": "stream",
          "name": "stdout",
          "text": [
            "the id of object is 132718927570128\n",
            "the id of object is 132718927571664\n"
          ]
        }
      ]
    },
    {
      "cell_type": "code",
      "source": [
        "class student:\n",
        "  def __init__(self,name,age,marks):\n",
        "    self.name=name\n",
        "    self.age=age\n",
        "    self.marks=marks\n",
        "  def get_marks(self):\n",
        "    return self.marks"
      ],
      "metadata": {
        "id": "cb0NPREYlM-m"
      },
      "execution_count": 25,
      "outputs": []
    },
    {
      "cell_type": "code",
      "source": [
        "obj=student(\"shareef\",22,95)\n"
      ],
      "metadata": {
        "id": "22NObw64pDiI"
      },
      "execution_count": 26,
      "outputs": []
    },
    {
      "cell_type": "code",
      "source": [
        "obj.get_marks()"
      ],
      "metadata": {
        "colab": {
          "base_uri": "https://localhost:8080/"
        },
        "id": "QVuRXMKbpK6y",
        "outputId": "412ea32c-a7eb-476c-ede5-9fc9ffbb6ae0"
      },
      "execution_count": 27,
      "outputs": [
        {
          "output_type": "execute_result",
          "data": {
            "text/plain": [
              "95"
            ]
          },
          "metadata": {},
          "execution_count": 27
        }
      ]
    },
    {
      "cell_type": "code",
      "source": [
        "class student:\n",
        "  def __init__(self,regno,name,mark,sem =1):\n",
        "    self.regno=regno\n",
        "    self.name=name\n",
        "    self.sem=sem\n",
        "    self.mark=mark\n",
        "\n",
        "\n"
      ],
      "metadata": {
        "id": "WOK3GZdVpPMl"
      },
      "execution_count": 34,
      "outputs": []
    },
    {
      "cell_type": "code",
      "source": [
        "s1=student(101,\"shareef\",95)\n",
        "print(\"reg no  :\",s1.regno)\n",
        "print(\"name  :\",s1.name)\n",
        "print(\"sem  :\",s1.sem)\n",
        "print(\"mark   :\",s1.mark)"
      ],
      "metadata": {
        "colab": {
          "base_uri": "https://localhost:8080/"
        },
        "id": "pgejCaPjpnyU",
        "outputId": "3b4e0b81-39b9-478b-ee7c-882f53e8bc7b"
      },
      "execution_count": 35,
      "outputs": [
        {
          "output_type": "stream",
          "name": "stdout",
          "text": [
            "reg no  : 101\n",
            "name  : shareef\n",
            "sem  : 1\n",
            "mark   : 95\n"
          ]
        }
      ]
    },
    {
      "cell_type": "code",
      "source": [
        "class emp:\n",
        "  def __init__(self,name,age,salary):\n",
        "    self.name=name\n",
        "    self.age=age\n",
        "    self.salary=salary\n",
        "  def __str__(self):\n",
        "    return f\"name  : {self.name}, age:{self.age} salary:{self.salary}\""
      ],
      "metadata": {
        "id": "uyOU1cZJqNaA"
      },
      "execution_count": 46,
      "outputs": []
    },
    {
      "cell_type": "code",
      "source": [
        "obj=emp(\"shareef\",22,100000)"
      ],
      "metadata": {
        "id": "8cciMyYhrEo2"
      },
      "execution_count": 37,
      "outputs": []
    },
    {
      "cell_type": "code",
      "source": [
        "print(obj.name)\n",
        "print(obj.age)\n",
        "print(obj.salary)\n"
      ],
      "metadata": {
        "colab": {
          "base_uri": "https://localhost:8080/"
        },
        "id": "TsF5F1c9rVfH",
        "outputId": "35b2410a-d8c7-4ab9-939c-375322faf945"
      },
      "execution_count": 41,
      "outputs": [
        {
          "output_type": "stream",
          "name": "stdout",
          "text": [
            "shareef\n",
            "22\n",
            "100000\n"
          ]
        }
      ]
    },
    {
      "cell_type": "code",
      "source": [
        "class measurement:\n",
        "  def __init__(self,feet,inches):\n",
        "    self.feet=feet\n",
        "    self.inches=inches\n",
        "  def __add__(self,other):\n",
        "    feet=self.feet+other.feet\n",
        "    inches=self.inches+other.inches\n",
        "    if inches>=12:\n",
        "      feet+=1\n",
        "      inches-=12\n",
        "    return measurement(feet,inches)"
      ],
      "metadata": {
        "id": "fcZ-6gPGvgiS"
      },
      "execution_count": 48,
      "outputs": []
    },
    {
      "cell_type": "code",
      "source": [
        "m1=measurement(5,8)\n",
        "m2=measurement(4,10)\n",
        "m=m1+m2\n",
        "print(m.feet,m.inches)\n"
      ],
      "metadata": {
        "colab": {
          "base_uri": "https://localhost:8080/"
        },
        "id": "oJWI_RGFx057",
        "outputId": "5329a4ef-9745-4775-937f-45500772e45b"
      },
      "execution_count": 50,
      "outputs": [
        {
          "output_type": "stream",
          "name": "stdout",
          "text": [
            "10 6\n"
          ]
        }
      ]
    },
    {
      "cell_type": "code",
      "source": [
        "class student:\n",
        "  studcount=5            #class attribute\n",
        "  def __init__(self,name):\n",
        "    self.name=name"
      ],
      "metadata": {
        "id": "TPDspqy-5JM_"
      },
      "execution_count": 60,
      "outputs": []
    },
    {
      "cell_type": "code",
      "source": [
        "s1= student(\"shareef\")\n",
        "s2= student(\"nitha\")\n"
      ],
      "metadata": {
        "id": "1wWrzuET58DS"
      },
      "execution_count": 66,
      "outputs": []
    },
    {
      "cell_type": "code",
      "source": [
        "student.studcount"
      ],
      "metadata": {
        "colab": {
          "base_uri": "https://localhost:8080/"
        },
        "id": "gi3yYaAh6Y9q",
        "outputId": "caf37c05-c5e9-4a36-9443-a737ad8152d9"
      },
      "execution_count": 61,
      "outputs": [
        {
          "output_type": "execute_result",
          "data": {
            "text/plain": [
              "5"
            ]
          },
          "metadata": {},
          "execution_count": 61
        }
      ]
    },
    {
      "cell_type": "code",
      "source": [
        "s1.studcount"
      ],
      "metadata": {
        "colab": {
          "base_uri": "https://localhost:8080/"
        },
        "id": "br33h_tX6z8-",
        "outputId": "a7b39a92-a10a-4023-8daf-cf70ec2bce90"
      },
      "execution_count": 67,
      "outputs": [
        {
          "output_type": "execute_result",
          "data": {
            "text/plain": [
              "5"
            ]
          },
          "metadata": {},
          "execution_count": 67
        }
      ]
    },
    {
      "cell_type": "code",
      "source": [
        "s2.studcount"
      ],
      "metadata": {
        "colab": {
          "base_uri": "https://localhost:8080/"
        },
        "id": "GphT4gLP7LBg",
        "outputId": "ac026a5e-392f-4cb7-889f-a6721900ad80"
      },
      "execution_count": 68,
      "outputs": [
        {
          "output_type": "execute_result",
          "data": {
            "text/plain": [
              "5"
            ]
          },
          "metadata": {},
          "execution_count": 68
        }
      ]
    },
    {
      "cell_type": "code",
      "source": [
        "s1.studcount=20"
      ],
      "metadata": {
        "id": "WdfARJTK7NsG"
      },
      "execution_count": 69,
      "outputs": []
    },
    {
      "cell_type": "code",
      "source": [
        "s1.studcount"
      ],
      "metadata": {
        "colab": {
          "base_uri": "https://localhost:8080/"
        },
        "id": "SbL-kcCd7Qrd",
        "outputId": "b022dea0-63b1-41e4-af3d-378e3880561c"
      },
      "execution_count": 70,
      "outputs": [
        {
          "output_type": "execute_result",
          "data": {
            "text/plain": [
              "20"
            ]
          },
          "metadata": {},
          "execution_count": 70
        }
      ]
    },
    {
      "cell_type": "code",
      "source": [
        "print(\"name is : \",s1.student)"
      ],
      "metadata": {
        "colab": {
          "base_uri": "https://localhost:8080/",
          "height": 141
        },
        "id": "i5C5LM607VGi",
        "outputId": "1ff7717b-2dd6-4935-a239-b28ac5ac6fe3"
      },
      "execution_count": 79,
      "outputs": [
        {
          "output_type": "error",
          "ename": "AttributeError",
          "evalue": "'student' object has no attribute 'student'",
          "traceback": [
            "\u001b[0;31m---------------------------------------------------------------------------\u001b[0m",
            "\u001b[0;31mAttributeError\u001b[0m                            Traceback (most recent call last)",
            "\u001b[0;32m<ipython-input-79-c1f9262dc775>\u001b[0m in \u001b[0;36m<cell line: 1>\u001b[0;34m()\u001b[0m\n\u001b[0;32m----> 1\u001b[0;31m \u001b[0mprint\u001b[0m\u001b[0;34m(\u001b[0m\u001b[0;34m\"name is : \"\u001b[0m\u001b[0;34m,\u001b[0m\u001b[0ms1\u001b[0m\u001b[0;34m.\u001b[0m\u001b[0mstudent\u001b[0m\u001b[0;34m)\u001b[0m\u001b[0;34m\u001b[0m\u001b[0;34m\u001b[0m\u001b[0m\n\u001b[0m",
            "\u001b[0;31mAttributeError\u001b[0m: 'student' object has no attribute 'student'"
          ]
        }
      ]
    }
  ]
}