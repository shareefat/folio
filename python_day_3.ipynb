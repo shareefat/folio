{
  "nbformat": 4,
  "nbformat_minor": 0,
  "metadata": {
    "colab": {
      "provenance": [],
      "authorship_tag": "ABX9TyNR4HVVRlLmBHVXpnaVMC2Z",
      "include_colab_link": true
    },
    "kernelspec": {
      "name": "python3",
      "display_name": "Python 3"
    },
    "language_info": {
      "name": "python"
    }
  },
  "cells": [
    {
      "cell_type": "markdown",
      "metadata": {
        "id": "view-in-github",
        "colab_type": "text"
      },
      "source": [
        "<a href=\"https://colab.research.google.com/github/shareefat/folio/blob/main/python_day_3.ipynb\" target=\"_parent\"><img src=\"https://colab.research.google.com/assets/colab-badge.svg\" alt=\"Open In Colab\"/></a>"
      ]
    },
    {
      "cell_type": "code",
      "source": [
        "arithmetic operators"
      ],
      "metadata": {
        "id": "OeNJTtWUXMJ1"
      },
      "execution_count": null,
      "outputs": []
    },
    {
      "cell_type": "markdown",
      "source": [],
      "metadata": {
        "id": "1kwiqmcRXLyl"
      }
    },
    {
      "cell_type": "code",
      "execution_count": 4,
      "metadata": {
        "colab": {
          "base_uri": "https://localhost:8080/"
        },
        "id": "MJ9G9sUhR6Nu",
        "outputId": "05e5e262-29f4-4ba4-c66a-c7638e5241c2"
      },
      "outputs": [
        {
          "output_type": "stream",
          "name": "stdout",
          "text": [
            "enter the first number :4\n",
            "enter the second number :7\n",
            "addition 11\n"
          ]
        }
      ],
      "source": [
        "a=int(input(\"enter the first number :\"))    #addition\n",
        "b=int(input(\"enter the second number :\"))\n",
        "print(\"addition\",(a+b))"
      ]
    },
    {
      "cell_type": "code",
      "source": [
        "a=int(input(\"enter the first number :\"))    #sunstraction\n",
        "b=int(input(\"enter the second number :\"))\n",
        "print(a-b)"
      ],
      "metadata": {
        "colab": {
          "base_uri": "https://localhost:8080/"
        },
        "id": "D-S0KFk5TESW",
        "outputId": "ead3852a-6f6a-4a1f-abce-2f50b058c026"
      },
      "execution_count": 6,
      "outputs": [
        {
          "output_type": "stream",
          "name": "stdout",
          "text": [
            "enter the first number :3\n",
            "enter the second number :5\n",
            "-2\n"
          ]
        }
      ]
    },
    {
      "cell_type": "code",
      "source": [
        "a=int(input(\"enter the first number :\"))    #multiplication\n",
        "b=int(input(\"enter the second number :\"))\n",
        "print(\"multiplication\",(a*b))"
      ],
      "metadata": {
        "id": "asbNbObVTT5M"
      },
      "execution_count": null,
      "outputs": []
    },
    {
      "cell_type": "code",
      "source": [
        "a=int(input(\"enter the first number :\"))\n",
        "b=int(input(\"enter the second number :\"))\n",
        "print(\"dividion\",(a/b))\n",
        "print(\"molulus\",(a%b))\n",
        "print(\"exponent\",(a**b))\n",
        "print(\"floor division\",(a//b))"
      ],
      "metadata": {
        "colab": {
          "base_uri": "https://localhost:8080/"
        },
        "id": "s30I2U6PTeyR",
        "outputId": "91032058-37e2-49e5-85cb-4989e50d9153"
      },
      "execution_count": 7,
      "outputs": [
        {
          "output_type": "stream",
          "name": "stdout",
          "text": [
            "enter the first number :6\n",
            "enter the second number :3\n",
            "dividion 2.0\n",
            "molulus 0\n",
            "exponent 216\n",
            "floor division 2\n"
          ]
        }
      ]
    },
    {
      "cell_type": "code",
      "source": [
        "#relational operators\n",
        "\n",
        "a=int(input(\"enter the first number :\"))\n",
        "b=int(input(\"enter the second number :\"))\n",
        "print (a>b)\n",
        "print (a<b)\n",
        "print (a==b)\n",
        "print (a!=b)\n",
        "print (a>=b)\n",
        "print (a<=b)\n"
      ],
      "metadata": {
        "colab": {
          "base_uri": "https://localhost:8080/"
        },
        "id": "YwwQLHwvT4B6",
        "outputId": "9db6d400-13b4-4e79-a038-920e07ddab7c"
      },
      "execution_count": 9,
      "outputs": [
        {
          "output_type": "stream",
          "name": "stdout",
          "text": [
            "enter the first number :8\n",
            "enter the second number :4\n",
            "True\n",
            "False\n",
            "False\n",
            "True\n",
            "True\n",
            "False\n"
          ]
        }
      ]
    },
    {
      "cell_type": "code",
      "source": [
        "a=int(input(\"enter the first number :\"))\n",
        "a= int(input(\"enter the second number :\"))\n",
        "print(a<<b)\n",
        "print(a>>b)"
      ],
      "metadata": {
        "colab": {
          "base_uri": "https://localhost:8080/"
        },
        "id": "t5A-ec5hXGsz",
        "outputId": "08bd8423-0eb9-4822-b3b4-cb7c58ce9ab9"
      },
      "execution_count": 13,
      "outputs": [
        {
          "output_type": "stream",
          "name": "stdout",
          "text": [
            "enter the first number :6\n",
            "enter the second number :5\n",
            "80\n",
            "0\n"
          ]
        }
      ]
    },
    {
      "cell_type": "code",
      "source": [
        "#logical operators\n",
        "\n",
        "a=1;b=0\n",
        "a,b=1,0\n",
        "print(\"AND :\",(a and b))\n",
        "print(\"OR :\",(a or b))\n",
        "print(\"NOT :\",(not a))"
      ],
      "metadata": {
        "colab": {
          "base_uri": "https://localhost:8080/"
        },
        "id": "E_ZxJwwfhlQu",
        "outputId": "c9d90a7d-f3cc-4f58-b116-f51880bd263f"
      },
      "execution_count": 15,
      "outputs": [
        {
          "output_type": "stream",
          "name": "stdout",
          "text": [
            "AND : 0\n",
            "OR : 1\n",
            "NOT : False\n"
          ]
        }
      ]
    },
    {
      "cell_type": "code",
      "source": [
        "#IDENTITY OPERATOR\n",
        "\n",
        "a=10;b=10\n",
        "print(a is b)\n",
        "print (b is not a)"
      ],
      "metadata": {
        "colab": {
          "base_uri": "https://localhost:8080/"
        },
        "id": "jcjio656iZVl",
        "outputId": "4b0e7bc9-4c94-4508-f616-dba7934028c4"
      },
      "execution_count": 16,
      "outputs": [
        {
          "output_type": "stream",
          "name": "stdout",
          "text": [
            "True\n",
            "False\n"
          ]
        }
      ]
    },
    {
      "cell_type": "code",
      "source": [
        "#membership operator\n",
        "\n",
        "a=[10,20,30]\n",
        "print(100 in a)\n",
        "print(100 not in a)\n",
        "print(30 in a)\n",
        "print(40 not in a)"
      ],
      "metadata": {
        "colab": {
          "base_uri": "https://localhost:8080/"
        },
        "id": "7uTVMqpikI4H",
        "outputId": "e31b1337-605d-4bae-fd03-a3205fe8c02e"
      },
      "execution_count": 17,
      "outputs": [
        {
          "output_type": "stream",
          "name": "stdout",
          "text": [
            "False\n",
            "True\n",
            "True\n",
            "True\n"
          ]
        }
      ]
    },
    {
      "cell_type": "code",
      "source": [
        "#methord or function\n",
        "print(\"list methords\",[i for i in dir(list) if '__' not in i])"
      ],
      "metadata": {
        "colab": {
          "base_uri": "https://localhost:8080/"
        },
        "id": "hWyWApV6khNw",
        "outputId": "85615f4b-c160-4e17-fe40-d1159fe9970d"
      },
      "execution_count": 19,
      "outputs": [
        {
          "output_type": "stream",
          "name": "stdout",
          "text": [
            "list methords ['append', 'clear', 'copy', 'count', 'extend', 'index', 'insert', 'pop', 'remove', 'reverse', 'sort']\n"
          ]
        }
      ]
    },
    {
      "cell_type": "code",
      "source": [
        "dir(list)"
      ],
      "metadata": {
        "colab": {
          "base_uri": "https://localhost:8080/"
        },
        "id": "TOtTug9ZwM3T",
        "outputId": "c155a9a8-7104-41be-86a0-782aa0f8ee52"
      },
      "execution_count": 20,
      "outputs": [
        {
          "output_type": "execute_result",
          "data": {
            "text/plain": [
              "['__add__',\n",
              " '__class__',\n",
              " '__class_getitem__',\n",
              " '__contains__',\n",
              " '__delattr__',\n",
              " '__delitem__',\n",
              " '__dir__',\n",
              " '__doc__',\n",
              " '__eq__',\n",
              " '__format__',\n",
              " '__ge__',\n",
              " '__getattribute__',\n",
              " '__getitem__',\n",
              " '__gt__',\n",
              " '__hash__',\n",
              " '__iadd__',\n",
              " '__imul__',\n",
              " '__init__',\n",
              " '__init_subclass__',\n",
              " '__iter__',\n",
              " '__le__',\n",
              " '__len__',\n",
              " '__lt__',\n",
              " '__mul__',\n",
              " '__ne__',\n",
              " '__new__',\n",
              " '__reduce__',\n",
              " '__reduce_ex__',\n",
              " '__repr__',\n",
              " '__reversed__',\n",
              " '__rmul__',\n",
              " '__setattr__',\n",
              " '__setitem__',\n",
              " '__sizeof__',\n",
              " '__str__',\n",
              " '__subclasshook__',\n",
              " 'append',\n",
              " 'clear',\n",
              " 'copy',\n",
              " 'count',\n",
              " 'extend',\n",
              " 'index',\n",
              " 'insert',\n",
              " 'pop',\n",
              " 'remove',\n",
              " 'reverse',\n",
              " 'sort']"
            ]
          },
          "metadata": {},
          "execution_count": 20
        }
      ]
    },
    {
      "cell_type": "code",
      "source": [
        "lst=[\"shareef\",\"cse\",\"100\"]\n",
        "print(lst)"
      ],
      "metadata": {
        "colab": {
          "base_uri": "https://localhost:8080/"
        },
        "id": "9eZ404jcw4Oi",
        "outputId": "89c34aec-9c16-445d-a223-edcf4327e05f"
      },
      "execution_count": 26,
      "outputs": [
        {
          "output_type": "stream",
          "name": "stdout",
          "text": [
            "['shareef', 'cse', '100']\n"
          ]
        }
      ]
    },
    {
      "cell_type": "code",
      "source": [
        "#Append adding the element at the end of the list\n",
        "lst.append([\"18-09-2024\",\"11:44\"])\n",
        "print(len(lst))"
      ],
      "metadata": {
        "colab": {
          "base_uri": "https://localhost:8080/"
        },
        "id": "fL3uwtVix6Fn",
        "outputId": "a8567839-1bdf-430f-8b2f-cc749e0036eb"
      },
      "execution_count": 27,
      "outputs": [
        {
          "output_type": "stream",
          "name": "stdout",
          "text": [
            "4\n"
          ]
        }
      ]
    },
    {
      "cell_type": "code",
      "source": [
        "print(lst)"
      ],
      "metadata": {
        "colab": {
          "base_uri": "https://localhost:8080/"
        },
        "id": "1rEm1JnTyBZ9",
        "outputId": "2c8c03fe-672c-4c59-bd00-1a1a43e029f9"
      },
      "execution_count": 28,
      "outputs": [
        {
          "output_type": "stream",
          "name": "stdout",
          "text": [
            "['shareef', 'cse', '100', ['18-09-2024', '11:44']]\n"
          ]
        }
      ]
    },
    {
      "cell_type": "code",
      "source": [
        "lst\n",
        "lst.extend([12,200])\n",
        "print(len(lst))"
      ],
      "metadata": {
        "colab": {
          "base_uri": "https://localhost:8080/"
        },
        "id": "Pl7Xb2pOyJEY",
        "outputId": "8a30e70a-1ac0-4fc8-a7c3-8d02e630dcb6"
      },
      "execution_count": 29,
      "outputs": [
        {
          "output_type": "stream",
          "name": "stdout",
          "text": [
            "6\n"
          ]
        }
      ]
    },
    {
      "cell_type": "code",
      "source": [
        "print(len(lst))"
      ],
      "metadata": {
        "colab": {
          "base_uri": "https://localhost:8080/"
        },
        "id": "3cp-vrNCyXg6",
        "outputId": "6de9066d-21d8-476a-bf17-7608703c919d"
      },
      "execution_count": 30,
      "outputs": [
        {
          "output_type": "stream",
          "name": "stdout",
          "text": [
            "6\n"
          ]
        }
      ]
    },
    {
      "cell_type": "code",
      "source": [
        "lst.index([\"18-09-2024\",\"11:44\"])   #index will the show the positon number"
      ],
      "metadata": {
        "colab": {
          "base_uri": "https://localhost:8080/"
        },
        "id": "QjdKuqhS0iR6",
        "outputId": "f2f31157-2814-4efb-8863-1e97cf691fd1"
      },
      "execution_count": 38,
      "outputs": [
        {
          "output_type": "execute_result",
          "data": {
            "text/plain": [
              "3"
            ]
          },
          "metadata": {},
          "execution_count": 38
        }
      ]
    },
    {
      "cell_type": "code",
      "source": [
        "lst[2]=200\n",
        "print(lst)\n"
      ],
      "metadata": {
        "colab": {
          "base_uri": "https://localhost:8080/"
        },
        "id": "sGpZlPbG1HXv",
        "outputId": "6a1bfc92-3c82-4ab8-877d-219990d44850"
      },
      "execution_count": 40,
      "outputs": [
        {
          "output_type": "stream",
          "name": "stdout",
          "text": [
            "['shareef', 'cse', 200, ['18-09-2024', '11:44'], 12, 200]\n"
          ]
        }
      ]
    },
    {
      "cell_type": "code",
      "source": [
        "lst[2]=200\n",
        "print(lst)\n",
        "print(id(lst))"
      ],
      "metadata": {
        "colab": {
          "base_uri": "https://localhost:8080/"
        },
        "id": "zmLKgRJ31hEU",
        "outputId": "e49ac591-fd60-4d7a-a297-62192a9a1e3c"
      },
      "execution_count": 41,
      "outputs": [
        {
          "output_type": "stream",
          "name": "stdout",
          "text": [
            "['shareef', 'cse', 200, ['18-09-2024', '11:44'], 12, 200]\n",
            "135183722598592\n"
          ]
        }
      ]
    },
    {
      "cell_type": "code",
      "source": [
        "print(lst[-1])"
      ],
      "metadata": {
        "colab": {
          "base_uri": "https://localhost:8080/"
        },
        "id": "ZKh_BuZs1iPo",
        "outputId": "ae916243-b08b-4a16-8d13-3ccc58bc2230"
      },
      "execution_count": 42,
      "outputs": [
        {
          "output_type": "stream",
          "name": "stdout",
          "text": [
            "200\n"
          ]
        }
      ]
    },
    {
      "cell_type": "code",
      "source": [
        "lst[::-1]"
      ],
      "metadata": {
        "colab": {
          "base_uri": "https://localhost:8080/"
        },
        "id": "BPkfjtaV-aKA",
        "outputId": "c67a274e-b2ab-46c3-c145-eb8f5dca1231"
      },
      "execution_count": 43,
      "outputs": [
        {
          "output_type": "execute_result",
          "data": {
            "text/plain": [
              "[200, 12, ['18-09-2024', '11:44'], 200, 'cse', 'shareef']"
            ]
          },
          "metadata": {},
          "execution_count": 43
        }
      ]
    },
    {
      "cell_type": "code",
      "source": [
        "arr = [20,250,300,350,60,30,70,]\n",
        "arr.sort()\n",
        "print(arr)"
      ],
      "metadata": {
        "colab": {
          "base_uri": "https://localhost:8080/"
        },
        "id": "DRydsNq7_Y-m",
        "outputId": "455aab8b-0220-4913-b1e6-7b118daaa52f"
      },
      "execution_count": 44,
      "outputs": [
        {
          "output_type": "stream",
          "name": "stdout",
          "text": [
            "[20, 30, 60, 70, 250, 300, 350]\n"
          ]
        }
      ]
    },
    {
      "cell_type": "code",
      "source": [
        "arr.sort(reverse=True)\n",
        "print(arr)"
      ],
      "metadata": {
        "colab": {
          "base_uri": "https://localhost:8080/"
        },
        "id": "mAmEJilp_l1V",
        "outputId": "dea93cd6-ef49-486a-c494-f61f6faf1755"
      },
      "execution_count": 46,
      "outputs": [
        {
          "output_type": "stream",
          "name": "stdout",
          "text": [
            "[350, 300, 250, 70, 60, 30, 20]\n"
          ]
        }
      ]
    }
  ]
}