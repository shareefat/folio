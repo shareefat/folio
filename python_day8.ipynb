{
  "nbformat": 4,
  "nbformat_minor": 0,
  "metadata": {
    "colab": {
      "provenance": [],
      "authorship_tag": "ABX9TyPMgRmmtcpQ5vt1f3DFcKZa",
      "include_colab_link": true
    },
    "kernelspec": {
      "name": "python3",
      "display_name": "Python 3"
    },
    "language_info": {
      "name": "python"
    }
  },
  "cells": [
    {
      "cell_type": "markdown",
      "metadata": {
        "id": "view-in-github",
        "colab_type": "text"
      },
      "source": [
        "<a href=\"https://colab.research.google.com/github/shareefat/folio/blob/main/python_day8.ipynb\" target=\"_parent\"><img src=\"https://colab.research.google.com/assets/colab-badge.svg\" alt=\"Open In Colab\"/></a>"
      ]
    },
    {
      "cell_type": "markdown",
      "source": [
        "#task\n",
        "write a program to check how many numbersin the file are even or odd"
      ],
      "metadata": {
        "id": "zh4TEvL1UuRu"
      }
    },
    {
      "cell_type": "code",
      "execution_count": 1,
      "metadata": {
        "id": "91dKHfpUUqAU"
      },
      "outputs": [],
      "source": [
        "file=open('internship.txt','w')\n",
        "file.write('1,2,3,4,5,6,7,8,9,10')\n",
        "file.close()"
      ]
    },
    {
      "cell_type": "code",
      "source": [
        "file=open('internship.txt','r')\n",
        "d=file.read()\n",
        "print(d)\n",
        "file.close()"
      ],
      "metadata": {
        "colab": {
          "base_uri": "https://localhost:8080/"
        },
        "id": "NqZoxIfBZCTX",
        "outputId": "3c6fb356-cda1-4bb4-a24a-39263d4bfdea"
      },
      "execution_count": 2,
      "outputs": [
        {
          "output_type": "stream",
          "name": "stdout",
          "text": [
            "1,2,3,4,5,6,7,8,9,10\n"
          ]
        }
      ]
    },
    {
      "cell_type": "code",
      "source": [
        "file=open('internship.txt','r')\n",
        "d=file.read()\n",
        "even=0\n",
        "odd=0\n",
        "for character in d:\n",
        "  if character.isdigit():\n",
        "   if int(character)%2==0:\n",
        "    even=even+1\n",
        "   else:\n",
        "      odd=odd+1\n",
        "print(\"even numbers are\",even)\n",
        "print(\"odd numbers are\",odd)"
      ],
      "metadata": {
        "colab": {
          "base_uri": "https://localhost:8080/"
        },
        "id": "UeMUKS3zZKaV",
        "outputId": "22bc40d1-222e-4968-a16e-f6d2dd01556e"
      },
      "execution_count": 17,
      "outputs": [
        {
          "output_type": "stream",
          "name": "stdout",
          "text": [
            "even numbers are 5\n",
            "odd numbers are 6\n"
          ]
        }
      ]
    },
    {
      "cell_type": "markdown",
      "source": [
        "create a list of even and odd numbers"
      ],
      "metadata": {
        "id": "RW34ho5Qdb8V"
      }
    },
    {
      "cell_type": "code",
      "source": [
        "file=open('intern.txt','w')\n",
        "file.write('1,\\n2,\\n3,\\n4,\\n5,\\n6,\\n7,\\n8,\\n9,\\n10')\n",
        "file.close()"
      ],
      "metadata": {
        "id": "y2VQE8V7dZce"
      },
      "execution_count": 18,
      "outputs": []
    },
    {
      "cell_type": "code",
      "source": [
        "file=open('intern.txt','r')\n",
        "d=file.read()\n",
        "even=[]\n",
        "odd=[]\n",
        "for item in d:\n",
        "  if item.isdigit():\n",
        "   if int(item)%2==0:\n",
        "    even.append(item)\n",
        "   else:\n",
        "      odd.append(int(item))\n",
        "print(even)\n",
        "print(odd)"
      ],
      "metadata": {
        "colab": {
          "base_uri": "https://localhost:8080/"
        },
        "id": "S9byFKKieAzz",
        "outputId": "a4c09e9e-723f-42a5-d161-ebfb3ba45523"
      },
      "execution_count": 26,
      "outputs": [
        {
          "output_type": "stream",
          "name": "stdout",
          "text": [
            "['2', '4', '6', '8', '0']\n",
            "[1, 3, 5, 7, 9, 1]\n"
          ]
        }
      ]
    },
    {
      "cell_type": "markdown",
      "source": [
        "write a program tofind the unique number in the file"
      ],
      "metadata": {
        "id": "V3AlzT4RgISQ"
      }
    },
    {
      "cell_type": "code",
      "source": [
        "file=open('internship.txt','w')\n",
        "file.write('\\n3422554')\n",
        "file.close()"
      ],
      "metadata": {
        "id": "Sx1-PMVDgHsA"
      },
      "execution_count": 22,
      "outputs": []
    },
    {
      "cell_type": "code",
      "source": [
        "file=open('internship.txt','r')\n",
        "d=file.read()\n",
        "num=set()\n",
        "for item in d:\n",
        "  if item.isdigit():\n",
        "    num.add(item)\n",
        "print(num)\n",
        "print(list(num))"
      ],
      "metadata": {
        "colab": {
          "base_uri": "https://localhost:8080/"
        },
        "id": "mNsSFbbzgWcD",
        "outputId": "f312ee69-9032-49bf-8eec-f1bbacbf3f4a"
      },
      "execution_count": 28,
      "outputs": [
        {
          "output_type": "stream",
          "name": "stdout",
          "text": [
            "{'3', '2', '4', '5'}\n",
            "['3', '2', '4', '5']\n"
          ]
        }
      ]
    },
    {
      "cell_type": "code",
      "source": [
        "file=open(give the path of the drive after that put a \\ and add the file name after that 'w')\n",
        "file.write('hello')\n",
        "file.close"
      ],
      "metadata": {
        "id": "ty4HtA2oiydd"
      },
      "execution_count": null,
      "outputs": []
    },
    {
      "cell_type": "markdown",
      "source": [
        "find the factorial of each number in the file.pritn the fafctorial as a list"
      ],
      "metadata": {
        "id": "8_lv4-ycwvva"
      }
    },
    {
      "cell_type": "markdown",
      "source": [
        "#error and exception Handing\n",
        "\n",
        "used for handling error in python"
      ],
      "metadata": {
        "id": "negHnajSx46J"
      }
    },
    {
      "cell_type": "code",
      "source": [
        "try :\n",
        "  print(\"a\")\n",
        "  print(\"b\")\n",
        "  print(ghbbb)\n",
        "  print(\"c\")\n",
        "  print(\"d\")\n",
        "except:\n",
        "  print(\"error here\")\n",
        "\n"
      ],
      "metadata": {
        "colab": {
          "base_uri": "https://localhost:8080/"
        },
        "id": "DZgOW6tHzEtE",
        "outputId": "22013a3b-6def-442b-e4d0-7bde61096441"
      },
      "execution_count": 5,
      "outputs": [
        {
          "output_type": "stream",
          "name": "stdout",
          "text": [
            "a\n",
            "b\n",
            "error here\n"
          ]
        }
      ]
    },
    {
      "cell_type": "code",
      "source": [
        "file=open('internship.txt','w')\n",
        "file.write('1,2,3,4,5')\n",
        "file.close()"
      ],
      "metadata": {
        "id": "GOw-qg6UqmLU"
      },
      "execution_count": 1,
      "outputs": []
    },
    {
      "cell_type": "code",
      "source": [
        "file=open('internship.txt','r')\n",
        "d=file.read()\n",
        "factorial=[]\n",
        "for item in d:\n",
        "  if item.isdigit():\n",
        "    fact=1\n",
        "    for i in range(1,int(item)+1):\n",
        "      fact=fact*i\n",
        "    factorial.append(fact)\n",
        "print(factorial)\n",
        "\n"
      ],
      "metadata": {
        "colab": {
          "base_uri": "https://localhost:8080/"
        },
        "id": "_NV0ZGbjxFYA",
        "outputId": "3ef81035-4e10-4ebf-c0d4-a3716398cbb9"
      },
      "execution_count": 4,
      "outputs": [
        {
          "output_type": "stream",
          "name": "stdout",
          "text": [
            "[1, 2, 6, 24, 120]\n"
          ]
        }
      ]
    },
    {
      "cell_type": "code",
      "source": [
        "#try except else\n",
        "\n",
        "\n",
        "try:\n",
        "  print(\"hello\")\n",
        "  print(\"hi\")\n",
        "  print(\"iam\")\n",
        "except:\n",
        "  print(\"error\")\n",
        "else:\n",
        "  print(\"no error\")"
      ],
      "metadata": {
        "colab": {
          "base_uri": "https://localhost:8080/"
        },
        "id": "jxblQAKD5tln",
        "outputId": "5d545b61-b256-471e-d874-ad359944fb0c"
      },
      "execution_count": 8,
      "outputs": [
        {
          "output_type": "stream",
          "name": "stdout",
          "text": [
            "hello\n",
            "hi\n",
            "iam\n",
            "no error\n"
          ]
        }
      ]
    },
    {
      "cell_type": "code",
      "source": [
        "try:\n",
        "  print(\"hello\")\n",
        "  print(\"hi\")\n",
        "  print(ghbbb)\n",
        "  print(\"iam\")\n",
        "except Exception as ex:\n",
        "  print(\"error is\",ex)\n",
        "else:\n",
        "  print(\"no error\")"
      ],
      "metadata": {
        "colab": {
          "base_uri": "https://localhost:8080/"
        },
        "id": "xRY0AaKe-6_r",
        "outputId": "af9d2c12-1586-4572-c86c-0071530ed912"
      },
      "execution_count": 10,
      "outputs": [
        {
          "output_type": "stream",
          "name": "stdout",
          "text": [
            "hello\n",
            "hi\n",
            "error is name 'ghbbb' is not defined\n"
          ]
        }
      ]
    },
    {
      "cell_type": "code",
      "source": [
        "#finaly\n",
        "\n",
        "try:\n",
        "  print(\"hello\")\n",
        "  print(\"hi\")\n",
        "  print(ghbbb)\n",
        "  print(\"iam\")\n",
        "except Exception as ex:\n",
        "  print(\"error is\",ex)\n",
        "\n",
        "finally:\n",
        "  print(\"always got excected\")"
      ],
      "metadata": {
        "colab": {
          "base_uri": "https://localhost:8080/"
        },
        "id": "okT670o2_ayy",
        "outputId": "17bf0d7c-2bc1-4fb0-96d2-5e34dcb88eee"
      },
      "execution_count": 11,
      "outputs": [
        {
          "output_type": "stream",
          "name": "stdout",
          "text": [
            "hello\n",
            "hi\n",
            "error is name 'ghbbb' is not defined\n",
            "always got excected\n"
          ]
        }
      ]
    },
    {
      "cell_type": "code",
      "source": [
        "try:\n",
        "  print(\"hello\")\n",
        "  print(\"hi\")\n",
        "  print(\"welcome \")\n",
        "  print(\"iam\")\n",
        "except Exception as ex:\n",
        "  print(\"error is\",ex)\n",
        "finally:\n",
        "  print(\"it will executed\")"
      ],
      "metadata": {
        "colab": {
          "base_uri": "https://localhost:8080/"
        },
        "id": "_vI-IsVe_vIP",
        "outputId": "673e4500-b357-4bce-e2dd-b1d8c941dbf6"
      },
      "execution_count": 12,
      "outputs": [
        {
          "output_type": "stream",
          "name": "stdout",
          "text": [
            "hello\n",
            "hi\n",
            "welcome \n",
            "iam\n",
            "it will executed\n"
          ]
        }
      ]
    }
  ]
}