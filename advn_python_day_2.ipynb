{
  "nbformat": 4,
  "nbformat_minor": 0,
  "metadata": {
    "colab": {
      "provenance": [],
      "authorship_tag": "ABX9TyMQ8JqCCBHHbqpcRaeTihI1",
      "include_colab_link": true
    },
    "kernelspec": {
      "name": "python3",
      "display_name": "Python 3"
    },
    "language_info": {
      "name": "python"
    }
  },
  "cells": [
    {
      "cell_type": "markdown",
      "metadata": {
        "id": "view-in-github",
        "colab_type": "text"
      },
      "source": [
        "<a href=\"https://colab.research.google.com/github/shareefat/folio/blob/main/advn_python_day_2.ipynb\" target=\"_parent\"><img src=\"https://colab.research.google.com/assets/colab-badge.svg\" alt=\"Open In Colab\"/></a>"
      ]
    },
    {
      "cell_type": "markdown",
      "source": [
        "match"
      ],
      "metadata": {
        "id": "_cDEB0q_nigH"
      }
    },
    {
      "cell_type": "code",
      "execution_count": null,
      "metadata": {
        "id": "0ZqP8gqb1T9H",
        "colab": {
          "base_uri": "https://localhost:8080/"
        },
        "outputId": "7c947445-2549-4df5-8f7e-a156b213cdf1"
      },
      "outputs": [
        {
          "output_type": "stream",
          "name": "stdout",
          "text": [
            "this is starting with sh\n"
          ]
        }
      ],
      "source": [
        "import re\n",
        "sequence=\"shareef\"\n",
        "pattern=\"sh\"\n",
        "if re.match(pattern,sequence):\n",
        "  print(\"this is starting with\",pattern)\n",
        "else:\n",
        "  print(\"this is not starting with\",pattern)"
      ]
    },
    {
      "cell_type": "markdown",
      "source": [
        "search"
      ],
      "metadata": {
        "id": "8UbIja_Qnkqh"
      }
    },
    {
      "cell_type": "code",
      "source": [
        "import re\n",
        "sequence=\"asmath nitha my wife\"\n",
        "pattern=\"wife\"\n",
        "if re.search (pattern,sequence):\n",
        "  print(\"ichu's one and only\",pattern)\n",
        "else:\n",
        "  print(\"not\",pattern)"
      ],
      "metadata": {
        "colab": {
          "base_uri": "https://localhost:8080/"
        },
        "id": "snK71Vgvnmfa",
        "outputId": "85fb1d9e-40d5-4955-9fa9-d376028192a8"
      },
      "execution_count": null,
      "outputs": [
        {
          "output_type": "stream",
          "name": "stdout",
          "text": [
            "ichu's one and only wife\n"
          ]
        }
      ]
    },
    {
      "cell_type": "code",
      "source": [
        "#findall\n",
        "\n",
        "import re\n",
        "sequence=\"hai iam mohammed shareef iam vry good at editing\"\n",
        "res=re.findall(\"iam\",sequence)\n",
        "print(res)\n"
      ],
      "metadata": {
        "colab": {
          "base_uri": "https://localhost:8080/"
        },
        "id": "oWsOsHQ2wRSF",
        "outputId": "2c496def-e9b6-474a-814f-dd228a8c2f72"
      },
      "execution_count": null,
      "outputs": [
        {
          "output_type": "stream",
          "name": "stdout",
          "text": [
            "['iam', 'iam']\n"
          ]
        }
      ]
    },
    {
      "cell_type": "code",
      "source": [
        "for i in res:\n",
        "  print(i)"
      ],
      "metadata": {
        "colab": {
          "base_uri": "https://localhost:8080/"
        },
        "id": "hhRQq3jzw5eu",
        "outputId": "e79b4e8b-1ac0-4c1c-ef9b-b1e11f2af96e"
      },
      "execution_count": null,
      "outputs": [
        {
          "output_type": "stream",
          "name": "stdout",
          "text": [
            "iam\n",
            "iam\n"
          ]
        }
      ]
    },
    {
      "cell_type": "code",
      "source": [
        "seq ='shareef'\n",
        "pat='ee'\n",
        "res=re.fullmatch(pat,seq)\n",
        "print(res)"
      ],
      "metadata": {
        "colab": {
          "base_uri": "https://localhost:8080/"
        },
        "id": "mx-mvJIsxjX6",
        "outputId": "c7315488-e02c-49bb-c38a-838aa9a2c56f"
      },
      "execution_count": null,
      "outputs": [
        {
          "output_type": "stream",
          "name": "stdout",
          "text": [
            "None\n"
          ]
        }
      ]
    },
    {
      "cell_type": "code",
      "source": [
        "#to print numbers\n",
        "import re\n",
        "sequence='sha123@303reef'\n",
        "digits=re.findall('\\d',sequence)\n",
        "print(digits)"
      ],
      "metadata": {
        "colab": {
          "base_uri": "https://localhost:8080/"
        },
        "id": "OcYJFAqyWnrp",
        "outputId": "6a0fb3b2-624e-4d71-cf5d-29ad50b68f91"
      },
      "execution_count": 5,
      "outputs": [
        {
          "output_type": "stream",
          "name": "stdout",
          "text": [
            "['1', '2', '3', '3', '0', '3']\n"
          ]
        }
      ]
    },
    {
      "cell_type": "code",
      "source": [
        "#without numbers\n",
        "import re\n",
        "sequence='sha123@303reef'\n",
        "d=re.findall('\\D',sequence)\n",
        "print(d)"
      ],
      "metadata": {
        "colab": {
          "base_uri": "https://localhost:8080/"
        },
        "id": "YMEN7CrwXPOf",
        "outputId": "a65aae06-3404-4b3f-b309-420c83f5b7ff"
      },
      "execution_count": 6,
      "outputs": [
        {
          "output_type": "stream",
          "name": "stdout",
          "text": [
            "['s', 'h', 'a', '@', 'r', 'e', 'e', 'f']\n"
          ]
        }
      ]
    },
    {
      "cell_type": "code",
      "source": [
        "#print without specialcharacters\n",
        "import re\n",
        "sequence='sha123@303reef'\n",
        "w=re.findall('\\w',sequence)\n",
        "print(w)"
      ],
      "metadata": {
        "colab": {
          "base_uri": "https://localhost:8080/"
        },
        "id": "ihFjMQMWXdWH",
        "outputId": "ca17ad97-fdb2-47d9-9b71-7c5e92a78243"
      },
      "execution_count": 7,
      "outputs": [
        {
          "output_type": "stream",
          "name": "stdout",
          "text": [
            "['s', 'h', 'a', '1', '2', '3', '3', '0', '3', 'r', 'e', 'e', 'f']\n"
          ]
        }
      ]
    },
    {
      "cell_type": "code",
      "source": [
        "#to print special characters\n",
        "import re\n",
        "sequence='sha123@303reef'\n",
        "W=re.findall('\\W',sequence)\n",
        "print(W)"
      ],
      "metadata": {
        "colab": {
          "base_uri": "https://localhost:8080/"
        },
        "id": "FWFzRYC-XqvN",
        "outputId": "fd1bece9-d9e0-4d43-b763-f8f0bf596ec3"
      },
      "execution_count": 8,
      "outputs": [
        {
          "output_type": "stream",
          "name": "stdout",
          "text": [
            "['@']\n"
          ]
        }
      ]
    },
    {
      "cell_type": "code",
      "source": [
        "#print the no of spaces\n",
        "import re\n",
        "sequence='sha1  23@     303r  eef'\n",
        "space=re.findall('\\s',sequence)\n",
        "print(space)"
      ],
      "metadata": {
        "colab": {
          "base_uri": "https://localhost:8080/"
        },
        "id": "9UvtLdQqX2Fi",
        "outputId": "b4036645-781e-4665-eae0-9ed028d22a5d"
      },
      "execution_count": 10,
      "outputs": [
        {
          "output_type": "stream",
          "name": "stdout",
          "text": [
            "[' ', ' ', ' ', ' ', ' ', ' ', ' ', ' ', ' ']\n"
          ]
        }
      ]
    },
    {
      "cell_type": "code",
      "source": [
        "\n",
        "#print the characters without spaces\n",
        "import re\n",
        "sequence='sha  123@3   03re  ef'\n",
        "non_space=re.findall('\\S',sequence)\n",
        "print(non_space)"
      ],
      "metadata": {
        "colab": {
          "base_uri": "https://localhost:8080/"
        },
        "id": "zQ8iZTBNYH7T",
        "outputId": "4f0ceb9a-634a-4270-800b-4f4f1b4506c6"
      },
      "execution_count": 12,
      "outputs": [
        {
          "output_type": "stream",
          "name": "stdout",
          "text": [
            "['s', 'h', 'a', '1', '2', '3', '@', '3', '0', '3', 'r', 'e', 'e', 'f']\n"
          ]
        }
      ]
    },
    {
      "cell_type": "code",
      "source": [
        "import re\n",
        "seq='FMVPA2740H'\n",
        "res= re.findall('[A-Za-z]',seq)\n",
        "print(res)"
      ],
      "metadata": {
        "colab": {
          "base_uri": "https://localhost:8080/"
        },
        "id": "-kbJEi9hcVgl",
        "outputId": "243a6a56-c251-4b62-ef85-477b1621b240"
      },
      "execution_count": 15,
      "outputs": [
        {
          "output_type": "stream",
          "name": "stdout",
          "text": [
            "['F', 'M', 'V', 'P', 'A', 'H']\n"
          ]
        }
      ]
    },
    {
      "cell_type": "code",
      "source": [
        "seq='the largest ocean is pecific with 23400sqkm'\n",
        "for i in re.finditer('\\d+',seq):\n",
        "  print(i)"
      ],
      "metadata": {
        "colab": {
          "base_uri": "https://localhost:8080/"
        },
        "id": "cJoUd9Y9dVhR",
        "outputId": "7752e12f-6951-421f-ea3b-c8b19ad0163d"
      },
      "execution_count": 23,
      "outputs": [
        {
          "output_type": "stream",
          "name": "stdout",
          "text": [
            "<re.Match object; span=(34, 39), match='23400'>\n"
          ]
        }
      ]
    },
    {
      "cell_type": "code",
      "source": [
        "import re\n",
        "res = re.findall('\\d',seq)\n",
        "res"
      ],
      "metadata": {
        "colab": {
          "base_uri": "https://localhost:8080/"
        },
        "id": "4O1YcPO-eLC0",
        "outputId": "d1d945dc-e711-4bee-f039-e78412607b95"
      },
      "execution_count": 21,
      "outputs": [
        {
          "output_type": "execute_result",
          "data": {
            "text/plain": [
              "['2', '3', '4', '0', '0']"
            ]
          },
          "metadata": {},
          "execution_count": 21
        }
      ]
    },
    {
      "cell_type": "code",
      "source": [
        "#to check phone number is valid or not\n",
        "\n",
        "phone=[\"7446767092\",\"755906\",\"6235767\"]\n",
        "pattern='^[6-9]\\d{9}$'\n",
        "for i in phone:\n",
        "  if re.findall(pattern,i):\n",
        "    print(i,\"is valid\")\n",
        "  else:\n",
        "    print(i,\"is invalide\")\n"
      ],
      "metadata": {
        "colab": {
          "base_uri": "https://localhost:8080/"
        },
        "id": "13GtUTo0fVRl",
        "outputId": "d3e03dd4-fa0f-4b54-eb9b-a557b9b994d2"
      },
      "execution_count": 31,
      "outputs": [
        {
          "output_type": "stream",
          "name": "stdout",
          "text": [
            "7446767092 is valid\n",
            "755906 is invalide\n",
            "6235767 is invalide\n"
          ]
        }
      ]
    },
    {
      "cell_type": "code",
      "source": [
        "pancards =[\"FMVPA2750H\",\"WBCA2546D\"]\n",
        "pat = '^[A-Z]{5}\\d{4}$[A-Z]$'\n",
        "for pan in pancards:\n",
        "     if re.findall(pat,pan):\n",
        "        print(pan)"
      ],
      "metadata": {
        "id": "vFyeGG4Ch5ET"
      },
      "execution_count": 50,
      "outputs": []
    },
    {
      "cell_type": "code",
      "source": [
        "pancards =[\"AMVPA2750H\",\"WBCA2546D\",\"GWREA1234H\"]\n",
        "pat = \"^A|G{1}[A-Z]{4}\\d{4}[A-Z]$\"\n",
        "for pan in pancards:\n",
        "    if re.findall(pat,pan):\n",
        "       print(pan)"
      ],
      "metadata": {
        "colab": {
          "base_uri": "https://localhost:8080/"
        },
        "id": "jDgCMIYPkDnL",
        "outputId": "c9b94506-8446-4abe-ee09-4c1d6eca24bd"
      },
      "execution_count": 45,
      "outputs": [
        {
          "output_type": "stream",
          "name": "stdout",
          "text": [
            "AMVPA2750H\n",
            "GWREA1234H\n"
          ]
        }
      ]
    },
    {
      "cell_type": "code",
      "source": [
        "#re.sub\n",
        "karnataka=\"bangalore is the capital of karnataka.bangalore is called garden city\"\n",
        "res=re.sub('bangalore','bengaluru',karnataka)\n",
        "print(res)"
      ],
      "metadata": {
        "colab": {
          "base_uri": "https://localhost:8080/"
        },
        "id": "_nRdZ4VYlgbl",
        "outputId": "30c73df5-3e61-4c04-db56-7399ead7d5d7"
      },
      "execution_count": 52,
      "outputs": [
        {
          "output_type": "stream",
          "name": "stdout",
          "text": [
            "bengaluru is the capital of karnataka.bengaluru is called garden city\n"
          ]
        }
      ]
    },
    {
      "cell_type": "code",
      "source": [
        "seq=\"MYsore is the city of lights.Mysore is a clean city\"\n",
        "res=re.sub('city','town',seq)\n",
        "print(res)"
      ],
      "metadata": {
        "colab": {
          "base_uri": "https://localhost:8080/"
        },
        "id": "jVFTdvwonDBU",
        "outputId": "ce055cfa-6034-4c5b-f71c-58b69a27a3cd"
      },
      "execution_count": 53,
      "outputs": [
        {
          "output_type": "stream",
          "name": "stdout",
          "text": [
            "MYsore is the town of lights.Mysore is a clean town\n"
          ]
        }
      ]
    },
    {
      "cell_type": "code",
      "source": [
        "#compile\n",
        "import re\n",
        "seq =\"cost of apple is 200 and selling price is 250 \"\n",
        "pat =re.compile('\\d+')\n",
        "res =pat.findall(seq)\n",
        "print(res)"
      ],
      "metadata": {
        "colab": {
          "base_uri": "https://localhost:8080/"
        },
        "id": "bhs7T0Y2nUoK",
        "outputId": "7849d69a-3d23-4ad0-9bc2-6e0475eb0b5c"
      },
      "execution_count": 56,
      "outputs": [
        {
          "output_type": "stream",
          "name": "stdout",
          "text": [
            "['200', '250']\n"
          ]
        }
      ]
    },
    {
      "cell_type": "code",
      "source": [
        "class student:\n",
        "  def get_details(self):\n",
        "    id=1\n",
        "    name=\"shareef\"\n",
        "    print(\"id is :\",id)\n",
        "    print(\"name is :\",name)\n"
      ],
      "metadata": {
        "id": "kVzvH51JoPtg"
      },
      "execution_count": 7,
      "outputs": []
    },
    {
      "cell_type": "code",
      "source": [
        "obj = student()\n",
        "obj.get_details()"
      ],
      "metadata": {
        "colab": {
          "base_uri": "https://localhost:8080/"
        },
        "id": "Qg2jzDFhJD97",
        "outputId": "fb71d1b2-43b8-45a1-9f2a-5bd5f2c25072"
      },
      "execution_count": 8,
      "outputs": [
        {
          "output_type": "stream",
          "name": "stdout",
          "text": [
            "id is : 1\n",
            "name is : shareef\n"
          ]
        }
      ]
    }
  ]
}