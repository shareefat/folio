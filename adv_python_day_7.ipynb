{
  "nbformat": 4,
  "nbformat_minor": 0,
  "metadata": {
    "colab": {
      "provenance": [],
      "authorship_tag": "ABX9TyPq4UTVqRWV4vXJs2qKF/dq",
      "include_colab_link": true
    },
    "kernelspec": {
      "name": "python3",
      "display_name": "Python 3"
    },
    "language_info": {
      "name": "python"
    }
  },
  "cells": [
    {
      "cell_type": "markdown",
      "metadata": {
        "id": "view-in-github",
        "colab_type": "text"
      },
      "source": [
        "<a href=\"https://colab.research.google.com/github/shareefat/folio/blob/main/adv_python_day_7.ipynb\" target=\"_parent\"><img src=\"https://colab.research.google.com/assets/colab-badge.svg\" alt=\"Open In Colab\"/></a>"
      ]
    },
    {
      "cell_type": "code",
      "execution_count": 8,
      "metadata": {
        "colab": {
          "base_uri": "https://localhost:8080/"
        },
        "id": "Td__rBPQePZa",
        "outputId": "5c6d73ce-a184-430a-ff2e-03d88274dbbc"
      },
      "outputs": [
        {
          "output_type": "stream",
          "name": "stdout",
          "text": [
            "Counter({'red': 2, 'blue': 2, 'yellow': 1, 'green': 1})\n"
          ]
        }
      ],
      "source": [
        "from collections import Counter\n",
        "colors = ['red', 'blue', 'yellow', 'green', 'blue', 'red']\n",
        "count = Counter()\n",
        "for color in colors:\n",
        "    count += Counter({color: 1})\n",
        "print(count)"
      ]
    },
    {
      "cell_type": "code",
      "source": [
        "from collections import Counter\n",
        "nums=[1,2,4,5,6,7,8,9]\n",
        "print(Counter(nums))"
      ],
      "metadata": {
        "colab": {
          "base_uri": "https://localhost:8080/"
        },
        "id": "Lj9HLWa5iofO",
        "outputId": "708c77ba-4cc8-45eb-87d4-ec51f84ce52c"
      },
      "execution_count": 6,
      "outputs": [
        {
          "output_type": "stream",
          "name": "stdout",
          "text": [
            "Counter({1: 1, 2: 1, 4: 1, 5: 1, 6: 1, 7: 1, 8: 1, 9: 1})\n"
          ]
        }
      ]
    },
    {
      "cell_type": "code",
      "source": [
        "#named tuples\n",
        "from collections import namedtuple\n",
        "point = namedtuple('point',['x','y'])\n",
        "p1=point(10,20)\n",
        "print(p1)"
      ],
      "metadata": {
        "colab": {
          "base_uri": "https://localhost:8080/"
        },
        "id": "SrKLu0--jLOD",
        "outputId": "f089e95a-e0d7-4bc2-fbd6-58680538911e"
      },
      "execution_count": 10,
      "outputs": [
        {
          "output_type": "stream",
          "name": "stdout",
          "text": [
            "point(x=10, y=20)\n"
          ]
        }
      ]
    },
    {
      "cell_type": "code",
      "source": [
        "def add(a,b):\n",
        "  return(a+b)"
      ],
      "metadata": {
        "id": "7qiC7_sKksxw"
      },
      "execution_count": 11,
      "outputs": []
    },
    {
      "cell_type": "code",
      "source": [
        "add(5,6)"
      ],
      "metadata": {
        "colab": {
          "base_uri": "https://localhost:8080/"
        },
        "id": "5vlZrMmemJnp",
        "outputId": "4c49a6dc-dca6-4d2c-e943-893f6c9eb332"
      },
      "execution_count": 12,
      "outputs": [
        {
          "output_type": "execute_result",
          "data": {
            "text/plain": [
              "11"
            ]
          },
          "metadata": {},
          "execution_count": 12
        }
      ]
    },
    {
      "cell_type": "code",
      "source": [
        "def add(*b):\n",
        "  sum=0\n",
        "  for i in b:\n",
        "    sum=sum+i\n",
        "    return sum"
      ],
      "metadata": {
        "id": "fuBC_MK3mMqf"
      },
      "execution_count": 18,
      "outputs": []
    },
    {
      "cell_type": "code",
      "source": [
        "add (4,3,5)"
      ],
      "metadata": {
        "colab": {
          "base_uri": "https://localhost:8080/"
        },
        "id": "43T8kE1Im1pP",
        "outputId": "d4939ff6-a043-4dda-c3df-421e55696876"
      },
      "execution_count": 19,
      "outputs": [
        {
          "output_type": "execute_result",
          "data": {
            "text/plain": [
              "4"
            ]
          },
          "metadata": {},
          "execution_count": 19
        }
      ]
    },
    {
      "cell_type": "code",
      "source": [
        "color = namedtuple('color',['red','green','blue'])\n",
        "pixel = namedtuple('pixel',point._fields + color._fields)\n",
        "pixel(40,90,128,250,109)"
      ],
      "metadata": {
        "colab": {
          "base_uri": "https://localhost:8080/"
        },
        "id": "s-bfBlrlnYjH",
        "outputId": "82333e79-5c9f-4eae-f611-551b222a5209"
      },
      "execution_count": 22,
      "outputs": [
        {
          "output_type": "execute_result",
          "data": {
            "text/plain": [
              "pixel(x=40, y=90, red=128, green=250, blue=109)"
            ]
          },
          "metadata": {},
          "execution_count": 22
        }
      ]
    },
    {
      "cell_type": "code",
      "source": [],
      "metadata": {
        "id": "TBmk-Pt_sESQ"
      },
      "execution_count": null,
      "outputs": []
    }
  ]
}