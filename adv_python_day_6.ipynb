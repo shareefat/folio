{
  "nbformat": 4,
  "nbformat_minor": 0,
  "metadata": {
    "colab": {
      "provenance": [],
      "authorship_tag": "ABX9TyPUWhafOHnWusNqemJ84tjb",
      "include_colab_link": true
    },
    "kernelspec": {
      "name": "python3",
      "display_name": "Python 3"
    },
    "language_info": {
      "name": "python"
    }
  },
  "cells": [
    {
      "cell_type": "markdown",
      "metadata": {
        "id": "view-in-github",
        "colab_type": "text"
      },
      "source": [
        "<a href=\"https://colab.research.google.com/github/shareefat/folio/blob/main/adv_python_day_6.ipynb\" target=\"_parent\"><img src=\"https://colab.research.google.com/assets/colab-badge.svg\" alt=\"Open In Colab\"/></a>"
      ]
    },
    {
      "cell_type": "code",
      "execution_count": 3,
      "metadata": {
        "id": "hWZhVXyfqGSG"
      },
      "outputs": [],
      "source": [
        "PGDDM44 = {\n",
        "    \"Name\":\"shareef\",\n",
        "    \"Age\":22,\n",
        "    \"Gender\":\"Male\",\n",
        "    \"place\":\"pandikkad\"\n",
        "}"
      ]
    },
    {
      "cell_type": "code",
      "source": [
        "import sys\n",
        "import json\n",
        "print(PGDDM44)\n",
        "print(type(PGDDM44))\n",
        "print(sys.getsizeof(PGDDM44))"
      ],
      "metadata": {
        "colab": {
          "base_uri": "https://localhost:8080/"
        },
        "id": "F13qb6rerAiW",
        "outputId": "3946b0bd-9de9-41ce-dcdb-b4180c4834ab"
      },
      "execution_count": 5,
      "outputs": [
        {
          "output_type": "stream",
          "name": "stdout",
          "text": [
            "{'Name': 'shareef', 'Age': 22, 'Gender': 'Male', 'place': 'pandikkad'}\n",
            "<class 'dict'>\n",
            "232\n"
          ]
        }
      ]
    },
    {
      "cell_type": "markdown",
      "source": [
        "python object to json object"
      ],
      "metadata": {
        "id": "BFgTzTbZrnK6"
      }
    },
    {
      "cell_type": "code",
      "source": [
        "class_json =json.dumps(PGDDM44)\n",
        "print(class_json)\n",
        "print(type(class_json))\n",
        "print(sys.getsizeof(class_json))"
      ],
      "metadata": {
        "colab": {
          "base_uri": "https://localhost:8080/"
        },
        "id": "RU4jqW1TrkRN",
        "outputId": "28b78688-0b68-4945-944f-3e2f74ae1a1e"
      },
      "execution_count": 7,
      "outputs": [
        {
          "output_type": "stream",
          "name": "stdout",
          "text": [
            "{\"Name\": \"shareef\", \"Age\": 22, \"Gender\": \"Male\", \"place\": \"pandikkad\"}\n",
            "<class 'str'>\n",
            "119\n"
          ]
        }
      ]
    },
    {
      "cell_type": "markdown",
      "source": [
        "json to python object"
      ],
      "metadata": {
        "id": "N6bATOVcr_8S"
      }
    },
    {
      "cell_type": "code",
      "source": [
        "class_obj=json.loads(class_json)\n",
        "print(class_obj)\n",
        "print(type(class_obj))\n",
        "print(sys.getsizeof(class_obj))"
      ],
      "metadata": {
        "colab": {
          "base_uri": "https://localhost:8080/"
        },
        "id": "UxBJXr2XsGGh",
        "outputId": "3821af72-277c-4993-d8da-d1e6d056b7f7"
      },
      "execution_count": 8,
      "outputs": [
        {
          "output_type": "stream",
          "name": "stdout",
          "text": [
            "{'Name': 'shareef', 'Age': 22, 'Gender': 'Male', 'place': 'pandikkad'}\n",
            "<class 'dict'>\n",
            "232\n"
          ]
        }
      ]
    },
    {
      "cell_type": "code",
      "source": [
        "names = [\"shareef\",\"adil\",\"sanju\",\"swalih\"]\n",
        "with open(\"names.json\",\"w\") as f :\n",
        "    json.dump(names,f)"
      ],
      "metadata": {
        "id": "G9VhRZibywaY"
      },
      "execution_count": 14,
      "outputs": []
    },
    {
      "cell_type": "code",
      "source": [
        "with open(\"names.json\",\"r\") as f:\n",
        "    data=json.load(f)\n",
        "    print(data)"
      ],
      "metadata": {
        "colab": {
          "base_uri": "https://localhost:8080/"
        },
        "id": "GsW6zwH1zlLj",
        "outputId": "aedc428c-e1d2-4829-9ca5-a407d25156f0"
      },
      "execution_count": 17,
      "outputs": [
        {
          "output_type": "stream",
          "name": "stdout",
          "text": [
            "['shareef', 'adil', 'sanju', 'swalih']\n"
          ]
        }
      ]
    },
    {
      "cell_type": "markdown",
      "source": [
        "import pickle ---> **is used to convert High level language to Binary language**"
      ],
      "metadata": {
        "id": "-0HZufcl4h2n"
      }
    },
    {
      "cell_type": "code",
      "source": [
        "import pickle\n",
        "stud_list=[\"shareef\",\"adil\",\"swalih\",\"sanju\"]\n",
        "with open(\"stud_list.pickle\",\"wb\") as f :\n",
        "  print(stud_list)\n",
        "  pickle.dump(stud_list,f)"
      ],
      "metadata": {
        "colab": {
          "base_uri": "https://localhost:8080/"
        },
        "id": "dD14-Y3az81O",
        "outputId": "64e9f523-c7ba-4959-b5f7-fe3d4e94bf4c"
      },
      "execution_count": 18,
      "outputs": [
        {
          "output_type": "stream",
          "name": "stdout",
          "text": [
            "['shareef', 'adil', 'swalih', 'sanju']\n"
          ]
        }
      ]
    },
    {
      "cell_type": "code",
      "source": [
        "with open(\"stud_list.pickle\",\"rb\") as f :\n",
        "   pickle.load(f)"
      ],
      "metadata": {
        "id": "guAqipWg2AyR"
      },
      "execution_count": 22,
      "outputs": []
    },
    {
      "cell_type": "code",
      "source": [
        "z = complex(2, 5)\n",
        "print(z)\n",
        "print(type(z))"
      ],
      "metadata": {
        "colab": {
          "base_uri": "https://localhost:8080/"
        },
        "id": "11mZVvAZ-P0H",
        "outputId": "f3560461-d350-4ba8-ad33-c15c1fbc5187"
      },
      "execution_count": 36,
      "outputs": [
        {
          "output_type": "stream",
          "name": "stdout",
          "text": [
            "(2+5j)\n",
            "<class 'complex'>\n"
          ]
        }
      ]
    },
    {
      "cell_type": "code",
      "source": [],
      "metadata": {
        "id": "kNO-CQIL-aCS"
      },
      "execution_count": null,
      "outputs": []
    }
  ]
}