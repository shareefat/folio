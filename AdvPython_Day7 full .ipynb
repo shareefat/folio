{
  "nbformat": 4,
  "nbformat_minor": 0,
  "metadata": {
    "colab": {
      "provenance": [],
      "include_colab_link": true
    },
    "kernelspec": {
      "name": "python3",
      "display_name": "Python 3"
    },
    "language_info": {
      "name": "python"
    }
  },
  "cells": [
    {
      "cell_type": "markdown",
      "metadata": {
        "id": "view-in-github",
        "colab_type": "text"
      },
      "source": [
        "<a href=\"https://colab.research.google.com/github/shareefat/folio/blob/main/AdvPython_Day7%20full%20.ipynb\" target=\"_parent\"><img src=\"https://colab.research.google.com/assets/colab-badge.svg\" alt=\"Open In Colab\"/></a>"
      ]
    },
    {
      "cell_type": "markdown",
      "source": [
        "#Collection Frameworks\n",
        "\n",
        "# 1. Counter\n",
        "\n",
        "A counter is a tool to support convinient and rapid tallies"
      ],
      "metadata": {
        "id": "1Z4XIgPt1Jk5"
      }
    },
    {
      "cell_type": "code",
      "execution_count": null,
      "metadata": {
        "id": "tEVxIWAszcdi"
      },
      "outputs": [],
      "source": [
        "from collections import Counter\n",
        "cnt = Counter()"
      ]
    },
    {
      "cell_type": "code",
      "source": [
        "colors = ['red','blue','green','blue','green','red','red','blue']\n",
        "for word in colors:\n",
        "  cnt[word] += 1"
      ],
      "metadata": {
        "id": "q_xPDP-0z7Ma"
      },
      "execution_count": null,
      "outputs": []
    },
    {
      "cell_type": "code",
      "source": [
        "print(cnt)"
      ],
      "metadata": {
        "colab": {
          "base_uri": "https://localhost:8080/"
        },
        "id": "CPrG70PK0ba5",
        "outputId": "a4ddb23c-61c8-4520-e435-2b1f2e58c376"
      },
      "execution_count": null,
      "outputs": [
        {
          "output_type": "stream",
          "name": "stdout",
          "text": [
            "Counter({'red': 3, 'blue': 3, 'green': 2})\n"
          ]
        }
      ]
    },
    {
      "cell_type": "markdown",
      "source": [
        "#2. Named tuple\n",
        "\n",
        "It returns a new tuple sub class named typename. The new subclass is used to create tuple like objects that have fields accessible by an attribute lookup as well as being indexable and iterable"
      ],
      "metadata": {
        "id": "eZLR4t2q1qfo"
      }
    },
    {
      "cell_type": "code",
      "source": [
        "from collections import namedtuple\n",
        "Point = namedtuple('Point',['x','y'])\n",
        "p = Point(11, y=19)          #instantiate with positional and keyword arguments\n",
        "p[0] + p[1]                  #indexable like the tuple(11,19)\n",
        "x,y = p                      #unpack like a tuple\n",
        "p.x + p.y                    #fields are also accessible by name\n",
        "p"
      ],
      "metadata": {
        "colab": {
          "base_uri": "https://localhost:8080/"
        },
        "id": "doJ0tlDl2LA6",
        "outputId": "01c1c65f-245e-45ae-b317-938e37869dd9"
      },
      "execution_count": null,
      "outputs": [
        {
          "output_type": "execute_result",
          "data": {
            "text/plain": [
              "Point(x=11, y=19)"
            ]
          },
          "metadata": {},
          "execution_count": 15
        }
      ]
    },
    {
      "cell_type": "code",
      "source": [
        "t = [40,90]       #make a new instance from an existing sequence or iterable\n",
        "Point._make(t)\n",
        "p = Point(x=10,y=40)\n",
        "p._asdict()"
      ],
      "metadata": {
        "colab": {
          "base_uri": "https://localhost:8080/"
        },
        "id": "9ER7CIo14F4A",
        "outputId": "7f655883-58c3-4ede-ebbd-68c824de5937"
      },
      "execution_count": null,
      "outputs": [
        {
          "output_type": "execute_result",
          "data": {
            "text/plain": [
              "{'x': 10, 'y': 40}"
            ]
          },
          "metadata": {},
          "execution_count": 17
        }
      ]
    },
    {
      "cell_type": "code",
      "source": [
        "p._fields"
      ],
      "metadata": {
        "colab": {
          "base_uri": "https://localhost:8080/"
        },
        "id": "MOn5Cqyz5Ah_",
        "outputId": "452294d6-3f93-462a-b0d2-8839abe18d1b"
      },
      "execution_count": null,
      "outputs": [
        {
          "output_type": "execute_result",
          "data": {
            "text/plain": [
              "('x', 'y')"
            ]
          },
          "metadata": {},
          "execution_count": 18
        }
      ]
    },
    {
      "cell_type": "code",
      "source": [
        "Color = namedtuple('Color','red green blue')\n",
        "Pixel = namedtuple('Pixel',Point._fields + Color._fields)\n",
        "Pixel(40,90, 128,250,109)"
      ],
      "metadata": {
        "colab": {
          "base_uri": "https://localhost:8080/"
        },
        "id": "7Wnf-Jxe5Kqn",
        "outputId": "804fcede-e63c-4f45-d89b-a08d6e3132d5"
      },
      "execution_count": null,
      "outputs": [
        {
          "output_type": "execute_result",
          "data": {
            "text/plain": [
              "Pixel(x=40, y=90, red=128, green=250, blue=109)"
            ]
          },
          "metadata": {},
          "execution_count": 22
        }
      ]
    },
    {
      "cell_type": "markdown",
      "source": [
        "#3. Dequeue\n",
        "\n",
        "It returns a new deque object  initialized - left to right (using append()) with data iterable. If iterable is not specified the new deque is empty"
      ],
      "metadata": {
        "id": "4CyKeXH46zly"
      }
    },
    {
      "cell_type": "code",
      "source": [
        "from collections import deque\n",
        "d = deque('ghi')  #makes a deque with 3 items\n",
        "for ele in d:     #iterate over deque elements\n",
        "  print(ele.upper())"
      ],
      "metadata": {
        "colab": {
          "base_uri": "https://localhost:8080/"
        },
        "id": "IvuDshnp6rpj",
        "outputId": "58cb7619-f162-4e80-d593-f13e495b28b3"
      },
      "execution_count": null,
      "outputs": [
        {
          "output_type": "stream",
          "name": "stdout",
          "text": [
            "G\n",
            "H\n",
            "I\n"
          ]
        }
      ]
    },
    {
      "cell_type": "code",
      "source": [
        "d.append('j')  #add an element in the rear\n",
        "d"
      ],
      "metadata": {
        "colab": {
          "base_uri": "https://localhost:8080/"
        },
        "id": "zGixG68P8pb4",
        "outputId": "35827705-d4c8-4fef-b41c-9d88103c208c"
      },
      "execution_count": null,
      "outputs": [
        {
          "output_type": "execute_result",
          "data": {
            "text/plain": [
              "deque(['g', 'h', 'i', 'j'])"
            ]
          },
          "metadata": {},
          "execution_count": 40
        }
      ]
    },
    {
      "cell_type": "code",
      "source": [
        "d.appendleft('f')  #add an element in the front\n",
        "d"
      ],
      "metadata": {
        "colab": {
          "base_uri": "https://localhost:8080/"
        },
        "id": "RIIKJYGd86kB",
        "outputId": "04ab0706-291e-4656-d2a8-03ab5d817a86"
      },
      "execution_count": null,
      "outputs": [
        {
          "output_type": "execute_result",
          "data": {
            "text/plain": [
              "deque(['f', 'g', 'h', 'i', 'j'])"
            ]
          },
          "metadata": {},
          "execution_count": 41
        }
      ]
    },
    {
      "cell_type": "code",
      "source": [
        "d.pop()        #remove the element from rear\n",
        "d"
      ],
      "metadata": {
        "colab": {
          "base_uri": "https://localhost:8080/"
        },
        "id": "YnJcPicE9bGA",
        "outputId": "9f000b8a-e0a2-4a7b-fb63-aa6bb72f16df"
      },
      "execution_count": null,
      "outputs": [
        {
          "output_type": "execute_result",
          "data": {
            "text/plain": [
              "deque(['f', 'g', 'h', 'i'])"
            ]
          },
          "metadata": {},
          "execution_count": 42
        }
      ]
    },
    {
      "cell_type": "code",
      "source": [
        "d.popleft()      #remove the element from front\n",
        "d"
      ],
      "metadata": {
        "colab": {
          "base_uri": "https://localhost:8080/"
        },
        "id": "nb6AQXlP91tA",
        "outputId": "904985a3-f3c7-435b-c77e-2f88e22e62c4"
      },
      "execution_count": null,
      "outputs": [
        {
          "output_type": "execute_result",
          "data": {
            "text/plain": [
              "deque(['g', 'h', 'i'])"
            ]
          },
          "metadata": {},
          "execution_count": 43
        }
      ]
    },
    {
      "cell_type": "code",
      "source": [
        "list(d)"
      ],
      "metadata": {
        "colab": {
          "base_uri": "https://localhost:8080/"
        },
        "id": "Hm3j54oh-Ksn",
        "outputId": "b808d7bd-a7ba-4808-f1c9-3bd6b8ef6533"
      },
      "execution_count": null,
      "outputs": [
        {
          "output_type": "execute_result",
          "data": {
            "text/plain": [
              "['g', 'h', 'i']"
            ]
          },
          "metadata": {},
          "execution_count": 44
        }
      ]
    },
    {
      "cell_type": "code",
      "source": [
        "d[0]"
      ],
      "metadata": {
        "colab": {
          "base_uri": "https://localhost:8080/",
          "height": 36
        },
        "id": "uoX-NPGa-R9X",
        "outputId": "0d1996ff-6d65-4819-81be-493724890d7e"
      },
      "execution_count": null,
      "outputs": [
        {
          "output_type": "execute_result",
          "data": {
            "text/plain": [
              "'g'"
            ],
            "application/vnd.google.colaboratory.intrinsic+json": {
              "type": "string"
            }
          },
          "metadata": {},
          "execution_count": 45
        }
      ]
    },
    {
      "cell_type": "code",
      "source": [
        "d[-1]"
      ],
      "metadata": {
        "colab": {
          "base_uri": "https://localhost:8080/",
          "height": 36
        },
        "id": "bxiu3rKg-V8R",
        "outputId": "fc738bd9-ed7e-47b8-83ff-02ffe1d6b4f8"
      },
      "execution_count": null,
      "outputs": [
        {
          "output_type": "execute_result",
          "data": {
            "text/plain": [
              "'i'"
            ],
            "application/vnd.google.colaboratory.intrinsic+json": {
              "type": "string"
            }
          },
          "metadata": {},
          "execution_count": 46
        }
      ]
    },
    {
      "cell_type": "code",
      "source": [
        "list(reversed(d))"
      ],
      "metadata": {
        "colab": {
          "base_uri": "https://localhost:8080/"
        },
        "id": "3Tw3hD69-dog",
        "outputId": "204fd3c2-3d03-48a0-af1e-dd58a3a19cb6"
      },
      "execution_count": null,
      "outputs": [
        {
          "output_type": "execute_result",
          "data": {
            "text/plain": [
              "['i', 'h', 'g']"
            ]
          },
          "metadata": {},
          "execution_count": 47
        }
      ]
    },
    {
      "cell_type": "code",
      "source": [
        "d.extend('jkl')\n",
        "d"
      ],
      "metadata": {
        "colab": {
          "base_uri": "https://localhost:8080/"
        },
        "id": "aOCsxrt9-lCw",
        "outputId": "8e152888-5d1a-4aef-e9b1-2c25a593f9b4"
      },
      "execution_count": null,
      "outputs": [
        {
          "output_type": "execute_result",
          "data": {
            "text/plain": [
              "deque(['g', 'h', 'i', 'j', 'k', 'l'])"
            ]
          },
          "metadata": {},
          "execution_count": 48
        }
      ]
    },
    {
      "cell_type": "code",
      "source": [
        "d.rotate(1) #right rotation\n",
        "d"
      ],
      "metadata": {
        "colab": {
          "base_uri": "https://localhost:8080/"
        },
        "id": "OMoNh24K-55I",
        "outputId": "2422955a-0b24-470a-ed81-33bbb146e4d3"
      },
      "execution_count": null,
      "outputs": [
        {
          "output_type": "execute_result",
          "data": {
            "text/plain": [
              "deque(['l', 'g', 'h', 'i', 'j', 'k'])"
            ]
          },
          "metadata": {},
          "execution_count": 49
        }
      ]
    },
    {
      "cell_type": "code",
      "source": [
        "d.rotate(-1)\n",
        "d"
      ],
      "metadata": {
        "colab": {
          "base_uri": "https://localhost:8080/"
        },
        "id": "iI8wD1px_K3f",
        "outputId": "f5060d81-f471-4a8f-938a-537118b161f8"
      },
      "execution_count": null,
      "outputs": [
        {
          "output_type": "execute_result",
          "data": {
            "text/plain": [
              "deque(['g', 'h', 'i', 'j', 'k', 'l'])"
            ]
          },
          "metadata": {},
          "execution_count": 50
        }
      ]
    },
    {
      "cell_type": "code",
      "source": [
        "d.pop()\n",
        "d"
      ],
      "metadata": {
        "colab": {
          "base_uri": "https://localhost:8080/"
        },
        "id": "REr4Fq6X_mZ3",
        "outputId": "e4784b6a-62a7-4b2a-95c8-81fe6f60c000"
      },
      "execution_count": null,
      "outputs": [
        {
          "output_type": "execute_result",
          "data": {
            "text/plain": [
              "deque(['g', 'h', 'i', 'j', 'k'])"
            ]
          },
          "metadata": {},
          "execution_count": 51
        }
      ]
    },
    {
      "cell_type": "code",
      "source": [
        "d.extendleft('fedcba')\n",
        "d"
      ],
      "metadata": {
        "colab": {
          "base_uri": "https://localhost:8080/"
        },
        "id": "Bwmb1grFAPng",
        "outputId": "ca89e4ed-5f0f-4ef2-ee74-3199af666aa6"
      },
      "execution_count": null,
      "outputs": [
        {
          "output_type": "execute_result",
          "data": {
            "text/plain": [
              "deque(['a', 'b', 'c', 'd', 'e', 'f', 'g', 'h', 'i', 'j', 'k'])"
            ]
          },
          "metadata": {},
          "execution_count": 52
        }
      ]
    },
    {
      "cell_type": "markdown",
      "source": [
        "#4. Chainmap\n",
        "\n",
        "It groups multiple dictionaries and other mappings together to create a single updatable view"
      ],
      "metadata": {
        "id": "fjFcFFEcA6wI"
      }
    },
    {
      "cell_type": "code",
      "source": [
        "from collections import ChainMap\n",
        "baseline = {'Music':'Bob', 'Art':'Picasso'}\n",
        "adjustments = {'Art':'Vangogh','Opera':'Carmen'}\n",
        "chain = ChainMap(baseline, adjustments)\n",
        "list(ChainMap(baseline, adjustments))"
      ],
      "metadata": {
        "colab": {
          "base_uri": "https://localhost:8080/"
        },
        "id": "4ZZR0y9kBRr_",
        "outputId": "0dd7bb53-6e4b-4ec8-b31b-38477d17f1df"
      },
      "execution_count": null,
      "outputs": [
        {
          "output_type": "execute_result",
          "data": {
            "text/plain": [
              "['Art', 'Opera', 'Music']"
            ]
          },
          "metadata": {},
          "execution_count": 1
        }
      ]
    },
    {
      "cell_type": "code",
      "source": [
        "combined = baseline.copy()\n",
        "combined.update(adjustments)\n",
        "list(combined)"
      ],
      "metadata": {
        "colab": {
          "base_uri": "https://localhost:8080/"
        },
        "id": "JgZuRSDACe3Q",
        "outputId": "f8c38d20-4efc-4abb-db34-e0608eb8b645"
      },
      "execution_count": null,
      "outputs": [
        {
          "output_type": "execute_result",
          "data": {
            "text/plain": [
              "['Music', 'Art', 'Opera']"
            ]
          },
          "metadata": {},
          "execution_count": 2
        }
      ]
    },
    {
      "cell_type": "code",
      "source": [
        "print(chain.maps)"
      ],
      "metadata": {
        "colab": {
          "base_uri": "https://localhost:8080/"
        },
        "id": "iokq_G83C7vf",
        "outputId": "5c6922e1-796c-4a16-c701-3f4a86e9e337"
      },
      "execution_count": null,
      "outputs": [
        {
          "output_type": "stream",
          "name": "stdout",
          "text": [
            "[{'Music': 'Bob', 'Art': 'Picasso'}, {'Art': 'Vangogh', 'Opera': 'Carmen'}]\n"
          ]
        }
      ]
    },
    {
      "cell_type": "markdown",
      "source": [
        "#5. Defaultdictionary\n",
        "\n",
        " It returns a new dictionary like object and is a subclass of dict class. It over-rides one method and adds on writable instance variable"
      ],
      "metadata": {
        "id": "pfHlDjveDiTD"
      }
    },
    {
      "cell_type": "code",
      "source": [
        "from collections import defaultdict\n",
        "s = [('yellow',1),('blue',2),('yellow',3),('red',1)]\n",
        "d = defaultdict(list)\n",
        "for k,v in s:\n",
        "  d[k].append(v)"
      ],
      "metadata": {
        "id": "_RFQ3eNLEGro"
      },
      "execution_count": null,
      "outputs": []
    },
    {
      "cell_type": "code",
      "source": [
        "sorted(d.items())"
      ],
      "metadata": {
        "colab": {
          "base_uri": "https://localhost:8080/"
        },
        "id": "ldW_NA36EwiO",
        "outputId": "c7da2ce5-64d8-44dd-a7c9-cace1bb0c14f"
      },
      "execution_count": null,
      "outputs": [
        {
          "output_type": "execute_result",
          "data": {
            "text/plain": [
              "[('blue', [2]), ('red', [1]), ('yellow', [1, 3])]"
            ]
          },
          "metadata": {},
          "execution_count": 61
        }
      ]
    },
    {
      "cell_type": "code",
      "source": [
        "d={}\n",
        "for k,v in s:\n",
        "  d.setdefault(k,[]).append(v)\n",
        "sorted(d.items())"
      ],
      "metadata": {
        "colab": {
          "base_uri": "https://localhost:8080/"
        },
        "id": "6LX_RMqvFB5f",
        "outputId": "876e0e43-d2fc-4507-cb2e-d5e3c6a0397b"
      },
      "execution_count": null,
      "outputs": [
        {
          "output_type": "execute_result",
          "data": {
            "text/plain": [
              "[('blue', [2]), ('red', [1]), ('yellow', [1, 3])]"
            ]
          },
          "metadata": {},
          "execution_count": 64
        }
      ]
    },
    {
      "cell_type": "code",
      "source": [
        "s=\"mississippi\"\n",
        "d = defaultdict(int)\n",
        "for k in s:\n",
        "  d[k] += 1\n",
        "sorted(d.items())"
      ],
      "metadata": {
        "colab": {
          "base_uri": "https://localhost:8080/"
        },
        "id": "8icJTDUzFg4H",
        "outputId": "8de687a2-f971-4f17-cdc7-7af25ca76511"
      },
      "execution_count": null,
      "outputs": [
        {
          "output_type": "execute_result",
          "data": {
            "text/plain": [
              "[('i', 4), ('m', 1), ('p', 2), ('s', 4)]"
            ]
          },
          "metadata": {},
          "execution_count": 66
        }
      ]
    },
    {
      "cell_type": "markdown",
      "source": [
        "#6. UserList\n",
        "\n",
        "It acts as a wrapper around list objects. It is a useful base class for our own list-like classes which can inherit from them and over-ride existing methods and new ones"
      ],
      "metadata": {
        "id": "-7ghZbE_GjUJ"
      }
    },
    {
      "cell_type": "code",
      "source": [
        "from collections import UserList\n",
        "class info(UserList):\n",
        "  def pop(self,s=None):\n",
        "    raise RuntimeError(\"Deletion not allowed\")"
      ],
      "metadata": {
        "id": "DHUWHmS5GY2P"
      },
      "execution_count": null,
      "outputs": []
    },
    {
      "cell_type": "code",
      "source": [
        "myinfo = info([10,20,30])\n",
        "myinfo.append(5)\n",
        "print(\"Insertion done\")\n",
        "print(myinfo)"
      ],
      "metadata": {
        "colab": {
          "base_uri": "https://localhost:8080/"
        },
        "id": "HJBb7yl9Hd_Y",
        "outputId": "68486f58-f82f-4972-cd00-261726814b27"
      },
      "execution_count": null,
      "outputs": [
        {
          "output_type": "stream",
          "name": "stdout",
          "text": [
            "Insertion done\n",
            "[10, 20, 30, 5]\n"
          ]
        }
      ]
    },
    {
      "cell_type": "code",
      "source": [
        "myinfo.pop()"
      ],
      "metadata": {
        "id": "87FGs63KH5JK",
        "colab": {
          "base_uri": "https://localhost:8080/",
          "height": 234
        },
        "outputId": "d6eb2b85-6505-48ee-f2e5-a1330e5bd8e5"
      },
      "execution_count": null,
      "outputs": [
        {
          "output_type": "error",
          "ename": "RuntimeError",
          "evalue": "Deletion not allowed",
          "traceback": [
            "\u001b[0;31m---------------------------------------------------------------------------\u001b[0m",
            "\u001b[0;31mRuntimeError\u001b[0m                              Traceback (most recent call last)",
            "\u001b[0;32m<ipython-input-3-5372afed0975>\u001b[0m in \u001b[0;36m<cell line: 1>\u001b[0;34m()\u001b[0m\n\u001b[0;32m----> 1\u001b[0;31m \u001b[0mmyinfo\u001b[0m\u001b[0;34m.\u001b[0m\u001b[0mpop\u001b[0m\u001b[0;34m(\u001b[0m\u001b[0;34m)\u001b[0m\u001b[0;34m\u001b[0m\u001b[0;34m\u001b[0m\u001b[0m\n\u001b[0m",
            "\u001b[0;32m<ipython-input-1-9da9745a7395>\u001b[0m in \u001b[0;36mpop\u001b[0;34m(self, s)\u001b[0m\n\u001b[1;32m      2\u001b[0m \u001b[0;32mclass\u001b[0m \u001b[0minfo\u001b[0m\u001b[0;34m(\u001b[0m\u001b[0mUserList\u001b[0m\u001b[0;34m)\u001b[0m\u001b[0;34m:\u001b[0m\u001b[0;34m\u001b[0m\u001b[0;34m\u001b[0m\u001b[0m\n\u001b[1;32m      3\u001b[0m   \u001b[0;32mdef\u001b[0m \u001b[0mpop\u001b[0m\u001b[0;34m(\u001b[0m\u001b[0mself\u001b[0m\u001b[0;34m,\u001b[0m\u001b[0ms\u001b[0m\u001b[0;34m=\u001b[0m\u001b[0;32mNone\u001b[0m\u001b[0;34m)\u001b[0m\u001b[0;34m:\u001b[0m\u001b[0;34m\u001b[0m\u001b[0;34m\u001b[0m\u001b[0m\n\u001b[0;32m----> 4\u001b[0;31m     \u001b[0;32mraise\u001b[0m \u001b[0mRuntimeError\u001b[0m\u001b[0;34m(\u001b[0m\u001b[0;34m\"Deletion not allowed\"\u001b[0m\u001b[0;34m)\u001b[0m\u001b[0;34m\u001b[0m\u001b[0;34m\u001b[0m\u001b[0m\n\u001b[0m",
            "\u001b[0;31mRuntimeError\u001b[0m: Deletion not allowed"
          ]
        }
      ]
    },
    {
      "cell_type": "markdown",
      "source": [
        "#7. UserString\n",
        "\n",
        "It stimulates string objects. The instance's content is kept as a regular string object, which is accessible via data atrribute of UserString"
      ],
      "metadata": {
        "id": "PsJXf2z4IVRe"
      }
    },
    {
      "cell_type": "code",
      "source": [
        "from collections import UserString as US\n",
        "p = 123456\n",
        "print(type(p))\n",
        "#Here, we are creating a UserString\n",
        "user_string = US(p)\n",
        "print(\"User String 1:\",user_string.data)"
      ],
      "metadata": {
        "colab": {
          "base_uri": "https://localhost:8080/"
        },
        "id": "3vKSGYabIu_x",
        "outputId": "d546a4c1-8f25-4466-c5c8-471fa200742b"
      },
      "execution_count": null,
      "outputs": [
        {
          "output_type": "stream",
          "name": "stdout",
          "text": [
            "<class 'int'>\n",
            "User String 1: 123456\n"
          ]
        }
      ]
    },
    {
      "cell_type": "code",
      "source": [
        "x=str(345)\n",
        "print(x)\n",
        "print(type(x))"
      ],
      "metadata": {
        "colab": {
          "base_uri": "https://localhost:8080/"
        },
        "id": "BaCJBz6dzZ19",
        "outputId": "9438e7af-99a6-46c5-d2ef-50f709fd46c5"
      },
      "execution_count": null,
      "outputs": [
        {
          "output_type": "stream",
          "name": "stdout",
          "text": [
            "345\n",
            "<class 'str'>\n"
          ]
        }
      ]
    },
    {
      "cell_type": "code",
      "source": [
        "user_string = US(\"\")\n",
        "print(\"User String:\",user_string.data)"
      ],
      "metadata": {
        "colab": {
          "base_uri": "https://localhost:8080/"
        },
        "id": "unIRty3rJcf6",
        "outputId": "b5044045-b666-4237-c2ab-4c6b58702514"
      },
      "execution_count": null,
      "outputs": [
        {
          "output_type": "stream",
          "name": "stdout",
          "text": [
            "User String: \n"
          ]
        }
      ]
    }
  ]
}