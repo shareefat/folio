{
  "nbformat": 4,
  "nbformat_minor": 0,
  "metadata": {
    "colab": {
      "provenance": [],
      "authorship_tag": "ABX9TyPKqs/7ej8z+mSkcrqTMvlg",
      "include_colab_link": true
    },
    "kernelspec": {
      "name": "python3",
      "display_name": "Python 3"
    },
    "language_info": {
      "name": "python"
    }
  },
  "cells": [
    {
      "cell_type": "markdown",
      "metadata": {
        "id": "view-in-github",
        "colab_type": "text"
      },
      "source": [
        "<a href=\"https://colab.research.google.com/github/shareefat/folio/blob/main/advn_pythonday_1.ipynb\" target=\"_parent\"><img src=\"https://colab.research.google.com/assets/colab-badge.svg\" alt=\"Open In Colab\"/></a>"
      ]
    },
    {
      "cell_type": "code",
      "execution_count": 9,
      "metadata": {
        "colab": {
          "base_uri": "https://localhost:8080/"
        },
        "id": "hpG4UEMKMf1g",
        "outputId": "17d8b48a-5680-44bd-fca9-09a81cf3dd89"
      },
      "outputs": [
        {
          "output_type": "stream",
          "name": "stdout",
          "text": [
            "no match\n"
          ]
        }
      ],
      "source": [
        "import re\n",
        "x=\"cranes varcity\"\n",
        "pattern=\"varcity\"\n",
        "u=re.match(pattern,x)\n",
        "if u== None:\n",
        "  print(\"no match\")\n",
        "else:\n",
        "    print(\"match\")"
      ]
    },
    {
      "cell_type": "markdown",
      "source": [
        "wap to check whethera sentence starts with \"HELLO\" or not"
      ],
      "metadata": {
        "id": "E84f8cErSNq3"
      }
    },
    {
      "cell_type": "code",
      "source": [
        "import re\n",
        "x=\"hello,How are you?\"\n",
        "pattern=\"hello\"\n",
        "u=re.match(pattern,x)\n",
        "if u == None:\n",
        "  print(\"no match\")\n",
        "else:\n",
        "  print(\"match\")\n"
      ],
      "metadata": {
        "colab": {
          "base_uri": "https://localhost:8080/"
        },
        "id": "Ak306ht6SWAo",
        "outputId": "456dc3e7-b94a-40e1-95b7-159793c12a7f"
      },
      "execution_count": 11,
      "outputs": [
        {
          "output_type": "stream",
          "name": "stdout",
          "text": [
            "match\n"
          ]
        }
      ]
    },
    {
      "cell_type": "markdown",
      "source": [
        "re.SEARCH variable"
      ],
      "metadata": {
        "id": "3syLu7njTzTl"
      }
    },
    {
      "cell_type": "code",
      "source": [
        "x=\"hello,How are you?\"\n",
        "rt=re.search(\"How\",x)\n",
        "print(rt)"
      ],
      "metadata": {
        "colab": {
          "base_uri": "https://localhost:8080/"
        },
        "id": "esDlykyySxe7",
        "outputId": "cef817f3-098a-413b-e870-73e49437f88a"
      },
      "execution_count": 16,
      "outputs": [
        {
          "output_type": "stream",
          "name": "stdout",
          "text": [
            "<re.Match object; span=(6, 9), match='How'>\n"
          ]
        }
      ]
    },
    {
      "cell_type": "code",
      "source": [
        "main=\"the main problem of our contry in poverty it needed to change by developing the country\"\n",
        "r=re.search(\"developing\",main)\n",
        "print(r)"
      ],
      "metadata": {
        "colab": {
          "base_uri": "https://localhost:8080/"
        },
        "id": "YUBgsNFZUYtc",
        "outputId": "351aebbe-b5b5-438e-b9be-9bf07d0ec8b1"
      },
      "execution_count": 17,
      "outputs": [
        {
          "output_type": "stream",
          "name": "stdout",
          "text": [
            "<re.Match object; span=(65, 75), match='developing'>\n"
          ]
        }
      ]
    },
    {
      "cell_type": "code",
      "source": [
        "main=\"the main problem of our contry in poverty it needed to change by developing the country\"\n",
        "r=re.search(\"load\",main)\n",
        "if r==None:\n",
        "  print(\"no match\")\n",
        "else:\n",
        "  print(\"match\")"
      ],
      "metadata": {
        "colab": {
          "base_uri": "https://localhost:8080/"
        },
        "id": "-OuSG9TfU1ov",
        "outputId": "c84ac1a5-9221-4ded-df1b-f06c0c546b14"
      },
      "execution_count": 18,
      "outputs": [
        {
          "output_type": "stream",
          "name": "stdout",
          "text": [
            "no match\n"
          ]
        }
      ]
    },
    {
      "cell_type": "code",
      "source": [
        "main=\"the main problem of our contry in poverty it needed to change by developing the country\"\n",
        "r=re.search(\"our\",main)\n",
        "if r==None:\n",
        "  print(\"no match\")\n",
        "else:\n",
        "  print(\"contain\")"
      ],
      "metadata": {
        "colab": {
          "base_uri": "https://localhost:8080/"
        },
        "id": "xAkY4vDIXK5t",
        "outputId": "17a16dc5-cee7-438d-af8f-94e726e9c8f9"
      },
      "execution_count": 20,
      "outputs": [
        {
          "output_type": "stream",
          "name": "stdout",
          "text": [
            "contain\n"
          ]
        }
      ]
    },
    {
      "cell_type": "code",
      "source": [
        "r.span()"
      ],
      "metadata": {
        "colab": {
          "base_uri": "https://localhost:8080/"
        },
        "id": "_eiGQGqOXSmN",
        "outputId": "e37be57c-da60-42b4-f3fd-965ea1e0bff5"
      },
      "execution_count": 25,
      "outputs": [
        {
          "output_type": "execute_result",
          "data": {
            "text/plain": [
              "(20, 23)"
            ]
          },
          "metadata": {},
          "execution_count": 25
        }
      ]
    },
    {
      "cell_type": "code",
      "source": [
        "r.start()"
      ],
      "metadata": {
        "colab": {
          "base_uri": "https://localhost:8080/"
        },
        "id": "_84HP5WVYLNs",
        "outputId": "c32da7b3-2e40-487e-a28c-b4d4933a6cda"
      },
      "execution_count": 27,
      "outputs": [
        {
          "output_type": "execute_result",
          "data": {
            "text/plain": [
              "20"
            ]
          },
          "metadata": {},
          "execution_count": 27
        }
      ]
    },
    {
      "cell_type": "code",
      "source": [
        "r.end()"
      ],
      "metadata": {
        "colab": {
          "base_uri": "https://localhost:8080/"
        },
        "id": "U2kiepHCYRDw",
        "outputId": "598d4110-21cf-4f21-f32a-b9542c98aa4d"
      },
      "execution_count": 28,
      "outputs": [
        {
          "output_type": "execute_result",
          "data": {
            "text/plain": [
              "23"
            ]
          },
          "metadata": {},
          "execution_count": 28
        }
      ]
    },
    {
      "cell_type": "code",
      "source": [
        "r.group()"
      ],
      "metadata": {
        "colab": {
          "base_uri": "https://localhost:8080/",
          "height": 35
        },
        "id": "5YcnDPvuYVzI",
        "outputId": "60157d3a-c11c-48ca-d311-9225cf04d4dd"
      },
      "execution_count": 29,
      "outputs": [
        {
          "output_type": "execute_result",
          "data": {
            "text/plain": [
              "'our'"
            ],
            "application/vnd.google.colaboratory.intrinsic+json": {
              "type": "string"
            }
          },
          "metadata": {},
          "execution_count": 29
        }
      ]
    },
    {
      "cell_type": "markdown",
      "source": [
        "find all"
      ],
      "metadata": {
        "id": "V97mtQgNm5zR"
      }
    },
    {
      "cell_type": "code",
      "source": [
        "import re\n",
        "sentence=\"the main problem of our contry in poverty it needed to change by developing our country\"\n",
        "pattern=\"our\"\n",
        "res=re.findall(pattern,sentence)\n",
        "if len(res)==0:\n",
        "  print(\"no match\")\n",
        "else:\n",
        "  print(\"match\")"
      ],
      "metadata": {
        "colab": {
          "base_uri": "https://localhost:8080/"
        },
        "id": "JLDiX09KZDc0",
        "outputId": "c84467bc-a87d-4e85-d6d5-a471a47f902d"
      },
      "execution_count": 33,
      "outputs": [
        {
          "output_type": "stream",
          "name": "stdout",
          "text": [
            "match\n"
          ]
        }
      ]
    },
    {
      "cell_type": "code",
      "source": [
        "len(res)"
      ],
      "metadata": {
        "colab": {
          "base_uri": "https://localhost:8080/"
        },
        "id": "CEJGtTTzoL6P",
        "outputId": "672238db-0fac-4416-ff16-84583df19288"
      },
      "execution_count": 35,
      "outputs": [
        {
          "output_type": "execute_result",
          "data": {
            "text/plain": [
              "2"
            ]
          },
          "metadata": {},
          "execution_count": 35
        }
      ]
    },
    {
      "cell_type": "markdown",
      "source": [
        "WAP to count the number of occurance of \"varanasi\" in the given sentence"
      ],
      "metadata": {
        "id": "Ig5lr8Rloq8p"
      }
    },
    {
      "cell_type": "code",
      "source": [
        "import re\n",
        "sen=\"the correct answer is varanasi.varanasi is possibly india's oldest continually inhabited city and has beeb a cradle of indian vedic culture.\"\n",
        "pattern=\"varanasi\"\n",
        "res=re.findall(\"varanasi\",sen)\n",
        "print(res)"
      ],
      "metadata": {
        "colab": {
          "base_uri": "https://localhost:8080/"
        },
        "id": "-MptqS5qoYJI",
        "outputId": "f6209f5c-18f8-4e96-9087-d411599767d6"
      },
      "execution_count": 40,
      "outputs": [
        {
          "output_type": "stream",
          "name": "stdout",
          "text": [
            "['varanasi', 'varanasi']\n"
          ]
        }
      ]
    },
    {
      "cell_type": "code",
      "source": [
        "sen=\"the correct answer 12344 is varanasi.varanasi is possibly india's oldest 56776 continually inhabited city and has beeb a cradle of indian vedic culture.\"\n",
        "pattern=\"varanasi\"\n",
        "res=re.findall(\"\\d\",sen)\n",
        "print(res)"
      ],
      "metadata": {
        "colab": {
          "base_uri": "https://localhost:8080/"
        },
        "id": "VTedutlVpsfB",
        "outputId": "1c84cad0-fae9-4944-d862-e0b92dad0a06"
      },
      "execution_count": 43,
      "outputs": [
        {
          "output_type": "stream",
          "name": "stdout",
          "text": [
            "['1', '2', '3', '4', '4', '5', '6', '7', '7', '6']\n"
          ]
        }
      ]
    },
    {
      "cell_type": "code",
      "source": [
        "import re\n",
        "res=re.findall(\"\\d+\",sen)\n",
        "print(res)"
      ],
      "metadata": {
        "colab": {
          "base_uri": "https://localhost:8080/"
        },
        "id": "I57zhyZzqYym",
        "outputId": "ec354ea1-939a-4741-8e02-5b6d86f475f4"
      },
      "execution_count": 49,
      "outputs": [
        {
          "output_type": "stream",
          "name": "stdout",
          "text": [
            "['12344', '56776']\n"
          ]
        }
      ]
    },
    {
      "cell_type": "code",
      "source": [
        "res=re.findall(\"\\D\",sen)\n",
        "print(res)"
      ],
      "metadata": {
        "colab": {
          "base_uri": "https://localhost:8080/"
        },
        "id": "CpXZlf9Iq_uX",
        "outputId": "65a69fc9-e0df-407f-9cd0-4a32aab5fdc9"
      },
      "execution_count": 50,
      "outputs": [
        {
          "output_type": "stream",
          "name": "stdout",
          "text": [
            "['t', 'h', 'e', ' ', 'c', 'o', 'r', 'r', 'e', 'c', 't', ' ', 'a', 'n', 's', 'w', 'e', 'r', ' ', ' ', 'i', 's', ' ', 'v', 'a', 'r', 'a', 'n', 'a', 's', 'i', '.', 'v', 'a', 'r', 'a', 'n', 'a', 's', 'i', ' ', 'i', 's', ' ', 'p', 'o', 's', 's', 'i', 'b', 'l', 'y', ' ', 'i', 'n', 'd', 'i', 'a', \"'\", 's', ' ', 'o', 'l', 'd', 'e', 's', 't', ' ', ' ', 'c', 'o', 'n', 't', 'i', 'n', 'u', 'a', 'l', 'l', 'y', ' ', 'i', 'n', 'h', 'a', 'b', 'i', 't', 'e', 'd', ' ', 'c', 'i', 't', 'y', ' ', 'a', 'n', 'd', ' ', 'h', 'a', 's', ' ', 'b', 'e', 'e', 'b', ' ', 'a', ' ', 'c', 'r', 'a', 'd', 'l', 'e', ' ', 'o', 'f', ' ', 'i', 'n', 'd', 'i', 'a', 'n', ' ', 'v', 'e', 'd', 'i', 'c', ' ', 'c', 'u', 'l', 't', 'u', 'r', 'e', '.']\n"
          ]
        }
      ]
    },
    {
      "cell_type": "code",
      "source": [
        "a=(\"2313443634fuvhevn$%^#&#$%#^\") #small letter will show the character except special characters\n",
        "r=re.findall(\"\\w\",a)\n",
        "print(r)"
      ],
      "metadata": {
        "colab": {
          "base_uri": "https://localhost:8080/"
        },
        "id": "UqEk24s3t1zy",
        "outputId": "d6679862-b38d-44eb-9021-81adf069c977"
      },
      "execution_count": 57,
      "outputs": [
        {
          "output_type": "stream",
          "name": "stdout",
          "text": [
            "['2', '3', '1', '3', '4', '4', '3', '6', '3', '4', 'f', 'u', 'v', 'h', 'e', 'v', 'n']\n"
          ]
        }
      ]
    },
    {
      "cell_type": "code",
      "source": [
        "a=(\"2313443634fuvhevn$%^#&#$%#^\")  #capital W willshow the special characters\n",
        "r=re.findall(\"\\W\",a)\n",
        "print(r)"
      ],
      "metadata": {
        "colab": {
          "base_uri": "https://localhost:8080/"
        },
        "id": "fGj6ErViuu-s",
        "outputId": "2c619cf3-284c-4678-993c-919f65241d30"
      },
      "execution_count": 58,
      "outputs": [
        {
          "output_type": "stream",
          "name": "stdout",
          "text": [
            "['$', '%', '^', '#', '&', '#', '$', '%', '#', '^']\n"
          ]
        }
      ]
    },
    {
      "cell_type": "code",
      "source": [
        "sen=\"the correct \"\n",
        "r=re.findall(\"\\s\",sen)  #small letter s to calculate the total number of white space and number of new lines and tab space\n",
        "len(r)"
      ],
      "metadata": {
        "colab": {
          "base_uri": "https://localhost:8080/"
        },
        "id": "-iRWQR8IvENX",
        "outputId": "39b92906-39d9-4c4a-c41f-b191dbcf4a12"
      },
      "execution_count": 62,
      "outputs": [
        {
          "output_type": "execute_result",
          "data": {
            "text/plain": [
              "2"
            ]
          },
          "metadata": {},
          "execution_count": 62
        }
      ]
    },
    {
      "cell_type": "code",
      "source": [
        "sen=\"  the correct    way is to do is read\"\n",
        "r=re.findall(\"\\S\",sen)  # capital S is used to calculate all characters without space\n",
        "len(r)"
      ],
      "metadata": {
        "colab": {
          "base_uri": "https://localhost:8080/"
        },
        "id": "dXeBMknGvxbt",
        "outputId": "9e572874-f7ca-4b70-dc59-840c1ab00da9"
      },
      "execution_count": 61,
      "outputs": [
        {
          "output_type": "execute_result",
          "data": {
            "text/plain": [
              "25"
            ]
          },
          "metadata": {},
          "execution_count": 61
        }
      ]
    },
    {
      "cell_type": "markdown",
      "source": [
        "WAP to calculatehow many spaces are there in \"cranes varsity private limited\""
      ],
      "metadata": {
        "id": "d5i2U0cCxa8g"
      }
    },
    {
      "cell_type": "code",
      "source": [
        "s=\"cranes varsity private limited\"\n",
        "r=re.findall(\"\\s\",s)\n",
        "len(r)"
      ],
      "metadata": {
        "colab": {
          "base_uri": "https://localhost:8080/"
        },
        "id": "zGV_TybnxZeB",
        "outputId": "eb6adb5d-c111-4135-d784-0eaf12aeb6af"
      },
      "execution_count": 67,
      "outputs": [
        {
          "output_type": "execute_result",
          "data": {
            "text/plain": [
              "3"
            ]
          },
          "metadata": {},
          "execution_count": 67
        }
      ]
    },
    {
      "cell_type": "code",
      "source": [
        "s=\"cranes varsity private limited #$@#&@#\"\n",
        "r=re.findall(\"\\S\",s)\n",
        "print(r)"
      ],
      "metadata": {
        "colab": {
          "base_uri": "https://localhost:8080/"
        },
        "id": "Hb0JhbX803OJ",
        "outputId": "8cf52ac4-be0c-4789-c2d4-a39e8e861246"
      },
      "execution_count": 71,
      "outputs": [
        {
          "output_type": "stream",
          "name": "stdout",
          "text": [
            "['c', 'r', 'a', 'n', 'e', 's', 'v', 'a', 'r', 's', 'i', 't', 'y', 'p', 'r', 'i', 'v', 'a', 't', 'e', 'l', 'i', 'm', 'i', 't', 'e', 'd', '#', '$', '@', '#', '&', '@', '#']\n"
          ]
        }
      ]
    }
  ]
}