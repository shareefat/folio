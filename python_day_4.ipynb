{
  "nbformat": 4,
  "nbformat_minor": 0,
  "metadata": {
    "colab": {
      "provenance": [],
      "authorship_tag": "ABX9TyMpB16ablbcAMqSYtrm0k63",
      "include_colab_link": true
    },
    "kernelspec": {
      "name": "python3",
      "display_name": "Python 3"
    },
    "language_info": {
      "name": "python"
    }
  },
  "cells": [
    {
      "cell_type": "markdown",
      "metadata": {
        "id": "view-in-github",
        "colab_type": "text"
      },
      "source": [
        "<a href=\"https://colab.research.google.com/github/shareefat/folio/blob/main/python_day_4.ipynb\" target=\"_parent\"><img src=\"https://colab.research.google.com/assets/colab-badge.svg\" alt=\"Open In Colab\"/></a>"
      ]
    },
    {
      "cell_type": "code",
      "source": [
        "x=(1,2,3,\"mango\",1.2)\n",
        "print (x)"
      ],
      "metadata": {
        "colab": {
          "base_uri": "https://localhost:8080/"
        },
        "id": "MIDLrM6NeeED",
        "outputId": "6b5cf5ca-a0e7-4129-d6c4-5e86160d416a"
      },
      "execution_count": null,
      "outputs": [
        {
          "output_type": "stream",
          "name": "stdout",
          "text": [
            "(1, 2, 3, 'mango', 1.2)\n"
          ]
        }
      ]
    },
    {
      "cell_type": "code",
      "source": [
        "x[3]"
      ],
      "metadata": {
        "colab": {
          "base_uri": "https://localhost:8080/",
          "height": 35
        },
        "id": "7NkY_03ZeowZ",
        "outputId": "4c86651f-ac44-4ff2-91c7-a261c3459295"
      },
      "execution_count": null,
      "outputs": [
        {
          "output_type": "execute_result",
          "data": {
            "text/plain": [
              "'mango'"
            ],
            "application/vnd.google.colaboratory.intrinsic+json": {
              "type": "string"
            }
          },
          "metadata": {},
          "execution_count": 17
        }
      ]
    },
    {
      "cell_type": "code",
      "source": [
        "del(x)"
      ],
      "metadata": {
        "id": "IHj7vI27fY7u"
      },
      "execution_count": null,
      "outputs": []
    },
    {
      "cell_type": "code",
      "source": [
        "x=(12,13,14,15,16)\n",
        "print(x)"
      ],
      "metadata": {
        "colab": {
          "base_uri": "https://localhost:8080/"
        },
        "id": "NOlP3TNffbG1",
        "outputId": "34fa5e78-06df-4f26-aec8-29af5a9a6875"
      },
      "execution_count": null,
      "outputs": [
        {
          "output_type": "stream",
          "name": "stdout",
          "text": [
            "(12, 13, 14, 15, 16)\n"
          ]
        }
      ]
    },
    {
      "cell_type": "code",
      "source": [
        "y=(1,2,\"mango\")\n",
        "print(y)"
      ],
      "metadata": {
        "colab": {
          "base_uri": "https://localhost:8080/"
        },
        "id": "kJK6Wn8-gEGA",
        "outputId": "f50cd1e5-a081-4bbe-e5a5-adc01aab4603"
      },
      "execution_count": null,
      "outputs": [
        {
          "output_type": "stream",
          "name": "stdout",
          "text": [
            "(1, 2, 'mango')\n"
          ]
        }
      ]
    },
    {
      "cell_type": "code",
      "source": [
        "type(y)"
      ],
      "metadata": {
        "colab": {
          "base_uri": "https://localhost:8080/"
        },
        "id": "YisIidNrioK6",
        "outputId": "e045ffa9-2721-4502-dfe7-097401312dbb"
      },
      "execution_count": null,
      "outputs": [
        {
          "output_type": "execute_result",
          "data": {
            "text/plain": [
              "tuple"
            ]
          },
          "metadata": {},
          "execution_count": 40
        }
      ]
    },
    {
      "cell_type": "code",
      "source": [
        "another_tuple=(\"one\",2,3,4,5,10)\n",
        "another_tuple[-4]"
      ],
      "metadata": {
        "colab": {
          "base_uri": "https://localhost:8080/"
        },
        "id": "walGT4HXhivI",
        "outputId": "0733c079-5509-4475-b486-4339318735e2"
      },
      "execution_count": null,
      "outputs": [
        {
          "output_type": "execute_result",
          "data": {
            "text/plain": [
              "3"
            ]
          },
          "metadata": {},
          "execution_count": 35
        }
      ]
    },
    {
      "cell_type": "code",
      "source": [
        "another_tuple[2:5]"
      ],
      "metadata": {
        "colab": {
          "base_uri": "https://localhost:8080/"
        },
        "id": "8-VAZb72iFG_",
        "outputId": "cab71359-77c3-447e-9338-bb05a1fa51e5"
      },
      "execution_count": null,
      "outputs": [
        {
          "output_type": "execute_result",
          "data": {
            "text/plain": [
              "(3, 4, 5)"
            ]
          },
          "metadata": {},
          "execution_count": 36
        }
      ]
    },
    {
      "cell_type": "code",
      "source": [
        "another_tuple[2:]"
      ],
      "metadata": {
        "colab": {
          "base_uri": "https://localhost:8080/"
        },
        "id": "puevdAxFiVAH",
        "outputId": "b3133ce9-6e7a-4ce8-baa7-b82d95918f9c"
      },
      "execution_count": null,
      "outputs": [
        {
          "output_type": "execute_result",
          "data": {
            "text/plain": [
              "(3, 4, 5, 10)"
            ]
          },
          "metadata": {},
          "execution_count": 41
        }
      ]
    },
    {
      "cell_type": "code",
      "source": [
        "another_tuple[:5]"
      ],
      "metadata": {
        "colab": {
          "base_uri": "https://localhost:8080/"
        },
        "id": "P0ehJB3EkXrX",
        "outputId": "6248f10f-887f-40eb-fae6-267d9ca1825b"
      },
      "execution_count": null,
      "outputs": [
        {
          "output_type": "execute_result",
          "data": {
            "text/plain": [
              "('one', 2, 3, 4, 5)"
            ]
          },
          "metadata": {},
          "execution_count": 42
        }
      ]
    },
    {
      "cell_type": "code",
      "source": [
        "another_tuple[:]"
      ],
      "metadata": {
        "colab": {
          "base_uri": "https://localhost:8080/"
        },
        "id": "tt17h2NYk_9s",
        "outputId": "517e5315-b200-4e45-aca5-818bf55694fa"
      },
      "execution_count": null,
      "outputs": [
        {
          "output_type": "execute_result",
          "data": {
            "text/plain": [
              "('one', 2, 3, 4, 5, 10)"
            ]
          },
          "metadata": {},
          "execution_count": 43
        }
      ]
    },
    {
      "cell_type": "code",
      "source": [
        "another_tuple[2:6]"
      ],
      "metadata": {
        "colab": {
          "base_uri": "https://localhost:8080/"
        },
        "id": "DyJzJdbVlt0V",
        "outputId": "886b2b5c-b3bf-4e35-e082-ab46c4a3578c"
      },
      "execution_count": null,
      "outputs": [
        {
          "output_type": "execute_result",
          "data": {
            "text/plain": [
              "(3, 4, 5, 10)"
            ]
          },
          "metadata": {},
          "execution_count": 45
        }
      ]
    },
    {
      "cell_type": "code",
      "source": [
        "q=(1,2,3,4,5,6,7,\"sha\",8,9,10,1,2,1)\n",
        "q[-4:]"
      ],
      "metadata": {
        "colab": {
          "base_uri": "https://localhost:8080/"
        },
        "id": "ReWsKydemg_d",
        "outputId": "e2ed15e0-270c-4605-da10-bb0ac191b690"
      },
      "execution_count": null,
      "outputs": [
        {
          "output_type": "execute_result",
          "data": {
            "text/plain": [
              "(10, 1, 2, 1)"
            ]
          },
          "metadata": {},
          "execution_count": 55
        }
      ]
    },
    {
      "cell_type": "code",
      "source": [
        "len(q)"
      ],
      "metadata": {
        "colab": {
          "base_uri": "https://localhost:8080/"
        },
        "id": "LuS62OYMn5j0",
        "outputId": "c05a503f-6772-4f63-d244-818fc8f38eaf"
      },
      "execution_count": null,
      "outputs": [
        {
          "output_type": "execute_result",
          "data": {
            "text/plain": [
              "11"
            ]
          },
          "metadata": {},
          "execution_count": 52
        }
      ]
    },
    {
      "cell_type": "markdown",
      "source": [
        "tuple methods"
      ],
      "metadata": {
        "id": "qm_M7xHrnsfA"
      }
    },
    {
      "cell_type": "markdown",
      "source": [
        "1. index()\n"
      ],
      "metadata": {
        "id": "CUuD1DZanyT1"
      }
    },
    {
      "cell_type": "code",
      "source": [
        "q.index(8)"
      ],
      "metadata": {
        "colab": {
          "base_uri": "https://localhost:8080/"
        },
        "id": "A8wQE4XNnwY8",
        "outputId": "8f70a71a-75cf-4833-9851-8ea99acbea5d"
      },
      "execution_count": null,
      "outputs": [
        {
          "output_type": "execute_result",
          "data": {
            "text/plain": [
              "8"
            ]
          },
          "metadata": {},
          "execution_count": 51
        }
      ]
    },
    {
      "cell_type": "code",
      "source": [
        "q.index(1)"
      ],
      "metadata": {
        "colab": {
          "base_uri": "https://localhost:8080/"
        },
        "id": "NHYcdpGxn9lF",
        "outputId": "0199281b-0491-4261-a69d-6123e1986e17"
      },
      "execution_count": null,
      "outputs": [
        {
          "output_type": "execute_result",
          "data": {
            "text/plain": [
              "0"
            ]
          },
          "metadata": {},
          "execution_count": 54
        }
      ]
    },
    {
      "cell_type": "markdown",
      "source": [
        "2. count"
      ],
      "metadata": {
        "id": "tEGn1QGBoXk5"
      }
    },
    {
      "cell_type": "code",
      "source": [
        "q.count(1)"
      ],
      "metadata": {
        "colab": {
          "base_uri": "https://localhost:8080/"
        },
        "id": "KF7Ru99boaTv",
        "outputId": "9f80a4ee-809e-44d3-ca47-2a4640d841d7"
      },
      "execution_count": null,
      "outputs": [
        {
          "output_type": "execute_result",
          "data": {
            "text/plain": [
              "3"
            ]
          },
          "metadata": {},
          "execution_count": 56
        }
      ]
    },
    {
      "cell_type": "code",
      "source": [
        "q.count(2)"
      ],
      "metadata": {
        "colab": {
          "base_uri": "https://localhost:8080/"
        },
        "id": "6jN1-qTSokPL",
        "outputId": "a31d8c46-0ece-458d-df42-126d5529d60f"
      },
      "execution_count": null,
      "outputs": [
        {
          "output_type": "execute_result",
          "data": {
            "text/plain": [
              "2"
            ]
          },
          "metadata": {},
          "execution_count": 57
        }
      ]
    },
    {
      "cell_type": "markdown",
      "source": [
        "      zip\n",
        "-------------------"
      ],
      "metadata": {
        "id": "W2Nb3tO3tls3"
      }
    },
    {
      "cell_type": "code",
      "source": [
        "a=['delhi','kashmir','banglore']\n",
        "b=['kerala','tamilnade','bihar']\n",
        "list(zip(a,b))"
      ],
      "metadata": {
        "colab": {
          "base_uri": "https://localhost:8080/"
        },
        "id": "vT9WV6hqtAe8",
        "outputId": "a999a91d-578d-4406-d650-906be50cdbe9"
      },
      "execution_count": null,
      "outputs": [
        {
          "output_type": "execute_result",
          "data": {
            "text/plain": [
              "[('delhi', 'kerala'), ('kashmir', 'tamilnade'), ('banglore', 'bihar')]"
            ]
          },
          "metadata": {},
          "execution_count": 59
        }
      ]
    },
    {
      "cell_type": "markdown",
      "source": [
        "set\n",
        "---------"
      ],
      "metadata": {
        "id": "m30di9gftrUS"
      }
    },
    {
      "cell_type": "code",
      "source": [
        "x={1,2,3,4,5,6,7,8,9}\n",
        "type(x)"
      ],
      "metadata": {
        "colab": {
          "base_uri": "https://localhost:8080/"
        },
        "id": "YwOm-yrytngd",
        "outputId": "04c9b25b-3e60-4864-fc1b-50703ce98821"
      },
      "execution_count": null,
      "outputs": [
        {
          "output_type": "execute_result",
          "data": {
            "text/plain": [
              "set"
            ]
          },
          "metadata": {},
          "execution_count": 60
        }
      ]
    },
    {
      "cell_type": "markdown",
      "source": [
        "# it will not contain repetative elements\n",
        "# it is mutable\n",
        "#it is unordered\n",
        "#it should not contain mutable elements"
      ],
      "metadata": {
        "id": "DOqj9HCDt1oI"
      }
    },
    {
      "cell_type": "code",
      "source": [
        "y={1,1,2,2,3,5,1,6,7,8,9,1,4,6,9}\n",
        "set(y)"
      ],
      "metadata": {
        "colab": {
          "base_uri": "https://localhost:8080/"
        },
        "id": "nd5PyVcLt76S",
        "outputId": "3a32a639-b6cc-452d-850f-eea4da0ef3bc"
      },
      "execution_count": null,
      "outputs": [
        {
          "output_type": "execute_result",
          "data": {
            "text/plain": [
              "{1, 2, 3, 4, 5, 6, 7, 8, 9}"
            ]
          },
          "metadata": {},
          "execution_count": 61
        }
      ]
    },
    {
      "cell_type": "code",
      "source": [
        "c={}\n",
        "type(c)"
      ],
      "metadata": {
        "colab": {
          "base_uri": "https://localhost:8080/"
        },
        "id": "gWkrGFzzuH9A",
        "outputId": "89af8f29-9ab2-465e-d827-c1002feea93f"
      },
      "execution_count": null,
      "outputs": [
        {
          "output_type": "execute_result",
          "data": {
            "text/plain": [
              "dict"
            ]
          },
          "metadata": {},
          "execution_count": 65
        }
      ]
    },
    {
      "cell_type": "code",
      "source": [
        "b=[]\n",
        "type(b)"
      ],
      "metadata": {
        "colab": {
          "base_uri": "https://localhost:8080/"
        },
        "id": "ktuAV4jPuwX-",
        "outputId": "0dedb4b5-3ed1-4529-8477-015d46239726"
      },
      "execution_count": null,
      "outputs": [
        {
          "output_type": "execute_result",
          "data": {
            "text/plain": [
              "list"
            ]
          },
          "metadata": {},
          "execution_count": 67
        }
      ]
    },
    {
      "cell_type": "code",
      "source": [
        "n=[2,3,4,5,6,7,88,2]\n",
        "set(n)"
      ],
      "metadata": {
        "colab": {
          "base_uri": "https://localhost:8080/"
        },
        "id": "84sJYeGEvAYB",
        "outputId": "d47ee4bb-4874-4c4f-dfc3-3757d47f0f93"
      },
      "execution_count": null,
      "outputs": [
        {
          "output_type": "execute_result",
          "data": {
            "text/plain": [
              "{2, 3, 4, 5, 6, 7, 88}"
            ]
          },
          "metadata": {},
          "execution_count": 70
        }
      ]
    },
    {
      "cell_type": "code",
      "source": [
        "x={1,2,3,4,5,6,7,8,9,'gh',(2,7)}\n",
        "x\n"
      ],
      "metadata": {
        "colab": {
          "base_uri": "https://localhost:8080/"
        },
        "id": "pZFJN0f4vVPW",
        "outputId": "3a341881-997d-4d4b-98a0-757e45370440"
      },
      "execution_count": null,
      "outputs": [
        {
          "output_type": "execute_result",
          "data": {
            "text/plain": [
              "{(2, 7), 1, 2, 3, 4, 5, 6, 7, 8, 9, 'gh'}"
            ]
          },
          "metadata": {},
          "execution_count": 73
        }
      ]
    },
    {
      "cell_type": "code",
      "source": [
        "g={12,23,42,54,544,24,3}\n",
        "print(g)"
      ],
      "metadata": {
        "colab": {
          "base_uri": "https://localhost:8080/"
        },
        "id": "2V5_Z1p77og1",
        "outputId": "0970438d-980f-4660-aff5-4fa530ca1120"
      },
      "execution_count": null,
      "outputs": [
        {
          "output_type": "stream",
          "name": "stdout",
          "text": [
            "{544, 3, 54, 23, 24, 42, 12}\n"
          ]
        }
      ]
    },
    {
      "cell_type": "markdown",
      "source": [
        "#1. add"
      ],
      "metadata": {
        "id": "oOAO9rk_8CLw"
      }
    },
    {
      "cell_type": "code",
      "source": [
        "g.add(65)\n",
        "print(g)"
      ],
      "metadata": {
        "colab": {
          "base_uri": "https://localhost:8080/"
        },
        "id": "hg0wC-R-8FGP",
        "outputId": "0ce820a6-e055-4f69-9a39-76d4dd36828b"
      },
      "execution_count": null,
      "outputs": [
        {
          "output_type": "stream",
          "name": "stdout",
          "text": [
            "{1, 65, 23, 24, 42, 54}\n"
          ]
        }
      ]
    },
    {
      "cell_type": "markdown",
      "source": [
        "#2. update"
      ],
      "metadata": {
        "id": "OoM59kle7gEJ"
      }
    },
    {
      "cell_type": "code",
      "source": [
        "g.update([2,3,1])\n",
        "print(g)"
      ],
      "metadata": {
        "colab": {
          "base_uri": "https://localhost:8080/"
        },
        "id": "WgwPz8Y68iWl",
        "outputId": "1a0c66b5-6e05-44a6-8682-32bcf4ec4758"
      },
      "execution_count": null,
      "outputs": [
        {
          "output_type": "stream",
          "name": "stdout",
          "text": [
            "{1, 2, 3, 12, 23, 24, 544, 42, 54}\n"
          ]
        }
      ]
    },
    {
      "cell_type": "markdown",
      "source": [
        "#3. remove"
      ],
      "metadata": {
        "id": "KFqbTSOp70cj"
      }
    },
    {
      "cell_type": "code",
      "source": [
        "g.remove(3)\n",
        "g"
      ],
      "metadata": {
        "colab": {
          "base_uri": "https://localhost:8080/"
        },
        "id": "N6BrYihK7icG",
        "outputId": "8edb0c6a-e675-41d2-c38e-162cfcfff81b"
      },
      "execution_count": null,
      "outputs": [
        {
          "output_type": "execute_result",
          "data": {
            "text/plain": [
              "{1, 12, 23, 24, 42, 54, 544}"
            ]
          },
          "metadata": {},
          "execution_count": 82
        }
      ]
    },
    {
      "cell_type": "code",
      "source": [
        "g.remove(12)\n",
        "g"
      ],
      "metadata": {
        "colab": {
          "base_uri": "https://localhost:8080/"
        },
        "id": "L1zGf-FO9a2z",
        "outputId": "afc17362-757d-4e77-ec63-14d8d30b2323"
      },
      "execution_count": null,
      "outputs": [
        {
          "output_type": "execute_result",
          "data": {
            "text/plain": [
              "{1, 23, 24, 42, 54, 544}"
            ]
          },
          "metadata": {},
          "execution_count": 83
        }
      ]
    },
    {
      "cell_type": "code",
      "source": [
        "g.remove(544)\n",
        "g"
      ],
      "metadata": {
        "colab": {
          "base_uri": "https://localhost:8080/"
        },
        "id": "lrt4GD259mEd",
        "outputId": "4368ff66-a1d4-444e-b3b8-0fc0ec23e906"
      },
      "execution_count": null,
      "outputs": [
        {
          "output_type": "execute_result",
          "data": {
            "text/plain": [
              "{1, 23, 24, 42, 54}"
            ]
          },
          "metadata": {},
          "execution_count": 84
        }
      ]
    },
    {
      "cell_type": "markdown",
      "source": [
        "#4. union"
      ],
      "metadata": {
        "id": "gUYTxuQN-dOo"
      }
    },
    {
      "cell_type": "code",
      "source": [
        "a={1,2,3,4,5,6,7}\n",
        "b={4,5,6,4,43,45}\n",
        "c=a.union(b)\n",
        "c"
      ],
      "metadata": {
        "colab": {
          "base_uri": "https://localhost:8080/"
        },
        "id": "sVESFH7b-pky",
        "outputId": "5e0a95bd-fab6-4a8a-eba3-d879286aa207"
      },
      "execution_count": null,
      "outputs": [
        {
          "output_type": "execute_result",
          "data": {
            "text/plain": [
              "{1, 2, 3, 4, 5, 6, 7, 43, 45}"
            ]
          },
          "metadata": {},
          "execution_count": 85
        }
      ]
    },
    {
      "cell_type": "markdown",
      "source": [
        "shortcut for that c=a.union(b)"
      ],
      "metadata": {
        "id": "WnBC5I8v_N7o"
      }
    },
    {
      "cell_type": "code",
      "source": [
        "c=a|b\n",
        "c"
      ],
      "metadata": {
        "colab": {
          "base_uri": "https://localhost:8080/"
        },
        "id": "5_04K7SK_CfD",
        "outputId": "38eb3dc5-5579-41db-f753-e184ac7862ec"
      },
      "execution_count": null,
      "outputs": [
        {
          "output_type": "execute_result",
          "data": {
            "text/plain": [
              "{1, 2, 3, 4, 5, 6, 7, 43, 45}"
            ]
          },
          "metadata": {},
          "execution_count": 86
        }
      ]
    },
    {
      "cell_type": "markdown",
      "source": [
        "#5.intersection"
      ],
      "metadata": {
        "id": "bgO40hdo_ZvM"
      }
    },
    {
      "cell_type": "code",
      "source": [
        "c={1,2,3,4,5,6,7}\n",
        "d={4,5,6,4,43,45}\n",
        "e=c.intersection(d)\n",
        "e\n"
      ],
      "metadata": {
        "colab": {
          "base_uri": "https://localhost:8080/"
        },
        "id": "-uCyfLN-_bO2",
        "outputId": "32d8b66f-2d79-4918-acf7-25ace8501c46"
      },
      "execution_count": null,
      "outputs": [
        {
          "output_type": "execute_result",
          "data": {
            "text/plain": [
              "{4, 5, 6}"
            ]
          },
          "metadata": {},
          "execution_count": 88
        }
      ]
    },
    {
      "cell_type": "markdown",
      "source": [
        "shortcut for that =c.intersection(d)"
      ],
      "metadata": {
        "id": "denj69zu_o6B"
      }
    },
    {
      "cell_type": "code",
      "source": [
        "e=c&d\n",
        "e"
      ],
      "metadata": {
        "colab": {
          "base_uri": "https://localhost:8080/"
        },
        "id": "MOdvtgwP_x2n",
        "outputId": "b0a4449f-70a1-4823-fb9c-eb46ccbff622"
      },
      "execution_count": null,
      "outputs": [
        {
          "output_type": "execute_result",
          "data": {
            "text/plain": [
              "{4, 5, 6}"
            ]
          },
          "metadata": {},
          "execution_count": 89
        }
      ]
    },
    {
      "cell_type": "code",
      "source": [
        "employee=({'name': \"mohammed shareef\",\"skills\": [\"mongo db\",\"python\",\"java\"],\"designation\":\"developer\"})\n",
        "employee"
      ],
      "metadata": {
        "colab": {
          "base_uri": "https://localhost:8080/"
        },
        "id": "mxUDOGzCIBKU",
        "outputId": "f6491d77-bad0-4c90-ea37-b390a5661541"
      },
      "execution_count": null,
      "outputs": [
        {
          "output_type": "execute_result",
          "data": {
            "text/plain": [
              "{'name': 'mohammed shareef',\n",
              " 'skills': ['mongo db', 'python', 'java'],\n",
              " 'designation': 'developer'}"
            ]
          },
          "metadata": {},
          "execution_count": 95
        }
      ]
    },
    {
      "cell_type": "code",
      "source": [
        "employee[\"skills\"]"
      ],
      "metadata": {
        "colab": {
          "base_uri": "https://localhost:8080/"
        },
        "id": "dVNsk4oGIUlA",
        "outputId": "6a3463ee-6861-4876-a9a8-d93fd91c3dd3"
      },
      "execution_count": null,
      "outputs": [
        {
          "output_type": "execute_result",
          "data": {
            "text/plain": [
              "['mongo db', 'python', 'java']"
            ]
          },
          "metadata": {},
          "execution_count": 97
        }
      ]
    },
    {
      "cell_type": "code",
      "source": [
        "type(employee[\"skills\"])"
      ],
      "metadata": {
        "colab": {
          "base_uri": "https://localhost:8080/"
        },
        "id": "Xq3Z6Ut1JAFp",
        "outputId": "d5292c4a-7a96-4ab0-fd45-e69c211ceba5"
      },
      "execution_count": null,
      "outputs": [
        {
          "output_type": "execute_result",
          "data": {
            "text/plain": [
              "list"
            ]
          },
          "metadata": {},
          "execution_count": 98
        }
      ]
    },
    {
      "cell_type": "code",
      "source": [
        "employee[\"salary\"]=1000\n",
        "employee"
      ],
      "metadata": {
        "colab": {
          "base_uri": "https://localhost:8080/"
        },
        "id": "BD29jPROJJbP",
        "outputId": "e75d089d-1517-47ca-97dc-fc114c7a6924"
      },
      "execution_count": null,
      "outputs": [
        {
          "output_type": "execute_result",
          "data": {
            "text/plain": [
              "{'name': 'mohammed shareef',\n",
              " 'skills': ['mongo db', 'python', 'java'],\n",
              " 'designation': 'developer',\n",
              " 'salary': 1000}"
            ]
          },
          "metadata": {},
          "execution_count": 99
        }
      ]
    },
    {
      "cell_type": "code",
      "source": [
        "employee[\"place\"]=\"delhi\"\n",
        "employee"
      ],
      "metadata": {
        "colab": {
          "base_uri": "https://localhost:8080/"
        },
        "id": "sP28lqSMJPfz",
        "outputId": "736d622f-e79b-43d5-b88e-3e10f9b2aa54"
      },
      "execution_count": null,
      "outputs": [
        {
          "output_type": "execute_result",
          "data": {
            "text/plain": [
              "{'name': 'mohammed shareef',\n",
              " 'skills': ['mongo db', 'python', 'java'],\n",
              " 'designation': 'developer',\n",
              " 'salary': 1000,\n",
              " 'place': 'delhi'}"
            ]
          },
          "metadata": {},
          "execution_count": 101
        }
      ]
    },
    {
      "cell_type": "markdown",
      "source": [
        "#update method"
      ],
      "metadata": {
        "id": "5oU4VIJXKqIA"
      }
    },
    {
      "cell_type": "code",
      "source": [
        "employee.update({\"salary\":400000})\n",
        "employee"
      ],
      "metadata": {
        "colab": {
          "base_uri": "https://localhost:8080/"
        },
        "id": "0RGb8XNzJX6R",
        "outputId": "4204d595-3c49-47ba-e063-e1182efa4901"
      },
      "execution_count": null,
      "outputs": [
        {
          "output_type": "execute_result",
          "data": {
            "text/plain": [
              "{'name': 'mohammed shareef',\n",
              " 'skills': ['mongo db', 'python', 'java'],\n",
              " 'designation': 'developer',\n",
              " 'salary': 400000,\n",
              " 'place': 'delhi'}"
            ]
          },
          "metadata": {},
          "execution_count": 104
        }
      ]
    },
    {
      "cell_type": "code",
      "source": [
        "employee.update({\"name\":\"mohammed shareef AT\"})\n",
        "employee\n"
      ],
      "metadata": {
        "colab": {
          "base_uri": "https://localhost:8080/"
        },
        "id": "Sv-jA1NTJjB7",
        "outputId": "0f430eda-f211-47cf-b729-44ef83baa2bd"
      },
      "execution_count": null,
      "outputs": [
        {
          "output_type": "execute_result",
          "data": {
            "text/plain": [
              "{'name': 'mohammed shareef AT',\n",
              " 'skills': ['mongo db', 'python', 'java'],\n",
              " 'designation': 'developer',\n",
              " 'salary': 400000,\n",
              " 'place': 'delhi'}"
            ]
          },
          "metadata": {},
          "execution_count": 105
        }
      ]
    }
  ]
}