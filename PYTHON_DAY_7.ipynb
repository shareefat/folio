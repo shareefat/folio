{
  "nbformat": 4,
  "nbformat_minor": 0,
  "metadata": {
    "colab": {
      "provenance": [],
      "authorship_tag": "ABX9TyOL9Rr5pLPPNs/RPxDHVt3P",
      "include_colab_link": true
    },
    "kernelspec": {
      "name": "python3",
      "display_name": "Python 3"
    },
    "language_info": {
      "name": "python"
    }
  },
  "cells": [
    {
      "cell_type": "markdown",
      "metadata": {
        "id": "view-in-github",
        "colab_type": "text"
      },
      "source": [
        "<a href=\"https://colab.research.google.com/github/shareefat/folio/blob/main/PYTHON_DAY_7.ipynb\" target=\"_parent\"><img src=\"https://colab.research.google.com/assets/colab-badge.svg\" alt=\"Open In Colab\"/></a>"
      ]
    },
    {
      "cell_type": "markdown",
      "source": [
        "#FILE HANDLING"
      ],
      "metadata": {
        "id": "SWNG_6sgJjCF"
      }
    },
    {
      "cell_type": "code",
      "execution_count": 3,
      "metadata": {
        "id": "If_1AWY2GuOh"
      },
      "outputs": [],
      "source": [
        "file=open('new.txt','w')\n",
        "file.write('hello\\n')\n",
        "file.write('iam shareef')\n",
        "file.close()"
      ]
    },
    {
      "cell_type": "code",
      "source": [
        "file=open('new.txt','r')\n",
        "q=file.read()\n",
        "print(q)\n",
        "file.close()"
      ],
      "metadata": {
        "colab": {
          "base_uri": "https://localhost:8080/"
        },
        "id": "2OpsN8TJMgIr",
        "outputId": "3aafc2e2-d44c-4a78-991a-a7d17531ba9c"
      },
      "execution_count": 4,
      "outputs": [
        {
          "output_type": "stream",
          "name": "stdout",
          "text": [
            "hello\n",
            "iam shareef\n"
          ]
        }
      ]
    },
    {
      "cell_type": "code",
      "source": [
        "file=open(\"file\",\"w\")\n",
        "file.write(\"hai guys welcome to this show\\n\")\n",
        "file.write(\"this is shareef\")\n",
        "file.close()"
      ],
      "metadata": {
        "id": "iOEhXcFaM90F"
      },
      "execution_count": 7,
      "outputs": []
    },
    {
      "cell_type": "code",
      "source": [
        "file=open('file','r')\n",
        "q=file.read()\n",
        "print(q)\n",
        "file.close()"
      ],
      "metadata": {
        "colab": {
          "base_uri": "https://localhost:8080/"
        },
        "id": "ETAguUttNd9w",
        "outputId": "040a76d1-3283-47b7-a334-2845be3dbd5e"
      },
      "execution_count": 8,
      "outputs": [
        {
          "output_type": "stream",
          "name": "stdout",
          "text": [
            "hai guys welcome to this show\n",
            "this is shareef\n"
          ]
        }
      ]
    },
    {
      "cell_type": "code",
      "source": [
        "file=open('file','a')\n",
        "file.write('\\nthis is PGDDM44')\n",
        "file.close()"
      ],
      "metadata": {
        "id": "3tlA5tWONx9G"
      },
      "execution_count": 14,
      "outputs": []
    },
    {
      "cell_type": "code",
      "source": [
        "file = open('file','r')\n",
        "q=file.read()\n",
        "print(q)\n",
        "file.close()"
      ],
      "metadata": {
        "colab": {
          "base_uri": "https://localhost:8080/"
        },
        "id": "bscC9tlxOA8x",
        "outputId": "88c30d9c-81e5-4f63-afc0-844bb993f17f"
      },
      "execution_count": 15,
      "outputs": [
        {
          "output_type": "stream",
          "name": "stdout",
          "text": [
            "hai guys welcome to this show\n",
            "this is shareefthis is PGDDM44\n",
            "this is PGDDM44\n"
          ]
        }
      ]
    },
    {
      "cell_type": "code",
      "source": [
        "file= open('file','w')\n",
        "file.write('\\ntoday we are starting our new session')\n",
        "file.close()\n",
        "file=open('file','r')\n",
        "q=file.read()\n",
        "print(q)\n",
        "file.close()"
      ],
      "metadata": {
        "colab": {
          "base_uri": "https://localhost:8080/"
        },
        "id": "OLW88wCSOoDS",
        "outputId": "19c6c379-d454-4142-b68c-7282d0ea7ada"
      },
      "execution_count": 17,
      "outputs": [
        {
          "output_type": "stream",
          "name": "stdout",
          "text": [
            "\n",
            "today we are starting our new session\n"
          ]
        }
      ]
    },
    {
      "cell_type": "code",
      "source": [
        "file=open('file','a')\n",
        "file.write('\\n so lets get started')\n",
        "file.close()\n",
        "file =open('file','r')\n",
        "q=file.read()\n",
        "print(q)\n",
        "file.close()\n"
      ],
      "metadata": {
        "colab": {
          "base_uri": "https://localhost:8080/"
        },
        "id": "tfwIiB9IRcyE",
        "outputId": "d612f350-f890-40ac-9b6e-21867e0834aa"
      },
      "execution_count": 25,
      "outputs": [
        {
          "output_type": "stream",
          "name": "stdout",
          "text": [
            "\n",
            "today we are starting our new session\n",
            " sp lets get started\n",
            " sp lets get started\n",
            " sp lets get started\n",
            " so lets get started\n",
            " so lets get started\n",
            " so lets get started\n",
            " so lets get started\n",
            " so lets get started\n"
          ]
        }
      ]
    },
    {
      "cell_type": "code",
      "source": [
        "file=open('file','r')\n",
        "ab=file.read(6)\n",
        "print(ab)\n",
        "file.close()"
      ],
      "metadata": {
        "colab": {
          "base_uri": "https://localhost:8080/"
        },
        "id": "lKiD8hlBXHmy",
        "outputId": "8b03fbae-c705-454e-849e-538320e6e022"
      },
      "execution_count": 34,
      "outputs": [
        {
          "output_type": "stream",
          "name": "stdout",
          "text": [
            "\n",
            "today\n"
          ]
        }
      ]
    },
    {
      "cell_type": "code",
      "source": [
        "file=open('file','r')\n",
        "ab=file.read(13)\n",
        "print(ab)\n",
        "file.close()"
      ],
      "metadata": {
        "colab": {
          "base_uri": "https://localhost:8080/"
        },
        "id": "Hg9ESvXjXTgY",
        "outputId": "2292e27b-0c6a-49ca-d659-ddd80c784926"
      },
      "execution_count": 36,
      "outputs": [
        {
          "output_type": "stream",
          "name": "stdout",
          "text": [
            "\n",
            "today we are\n"
          ]
        }
      ]
    },
    {
      "cell_type": "code",
      "source": [
        "file=open('file','r')\n",
        "df=file.readline()\n",
        "print(df)\n",
        "file.close()"
      ],
      "metadata": {
        "colab": {
          "base_uri": "https://localhost:8080/"
        },
        "id": "yhpL64V6Wu6H",
        "outputId": "37adff87-7f93-4990-92ba-334dba76bdfe"
      },
      "execution_count": 37,
      "outputs": [
        {
          "output_type": "stream",
          "name": "stdout",
          "text": [
            "\n",
            "\n"
          ]
        }
      ]
    },
    {
      "cell_type": "code",
      "source": [
        "file=open('best','w')\n",
        "file.write('hello')\n",
        "file.close()"
      ],
      "metadata": {
        "id": "F2JUTSCUZhMz"
      },
      "execution_count": 38,
      "outputs": []
    },
    {
      "cell_type": "markdown",
      "source": [
        "read line is used to read the lines"
      ],
      "metadata": {
        "id": "sWDwrgBNaBGD"
      }
    },
    {
      "cell_type": "code",
      "source": [
        "file=open('best','r')\n",
        "a=file.readline()\n",
        "print(a)\n",
        "file.close()\n"
      ],
      "metadata": {
        "colab": {
          "base_uri": "https://localhost:8080/"
        },
        "id": "zvPRygezZrZm",
        "outputId": "bbce9a28-3f58-4743-d2c2-8d474fce6f17"
      },
      "execution_count": 39,
      "outputs": [
        {
          "output_type": "stream",
          "name": "stdout",
          "text": [
            "hello\n"
          ]
        }
      ]
    },
    {
      "cell_type": "markdown",
      "source": [
        "read is used to read the specific words or letter"
      ],
      "metadata": {
        "id": "Wh-YLV45aGvr"
      }
    },
    {
      "cell_type": "code",
      "source": [
        "file=open('best','r')\n",
        "a=file.read(4)\n",
        "print(a)\n",
        "file.close()"
      ],
      "metadata": {
        "colab": {
          "base_uri": "https://localhost:8080/"
        },
        "id": "-NdyEGuUZ9aK",
        "outputId": "2669f8eb-749f-484e-8932-125cb2c50838"
      },
      "execution_count": 40,
      "outputs": [
        {
          "output_type": "stream",
          "name": "stdout",
          "text": [
            "hell\n"
          ]
        }
      ]
    },
    {
      "cell_type": "code",
      "source": [
        "file=open('best','a')\n",
        "file.write('\\nhai')\n",
        "file.write('\\niam shareef')\n",
        "file.write('\\nthis is python')\n",
        "file.close()"
      ],
      "metadata": {
        "id": "AG_5CCinaOJV"
      },
      "execution_count": 41,
      "outputs": []
    },
    {
      "cell_type": "code",
      "source": [
        "file=open('best','r')\n",
        "a=file.read()\n",
        "print(a)\n",
        "file.close()"
      ],
      "metadata": {
        "colab": {
          "base_uri": "https://localhost:8080/"
        },
        "id": "UI1jvhsEb55R",
        "outputId": "1d52a57c-84f0-45c1-c05a-37cabaf8c803"
      },
      "execution_count": 42,
      "outputs": [
        {
          "output_type": "stream",
          "name": "stdout",
          "text": [
            "hello\n",
            "hai\n",
            "iam shareef\n",
            "this is python\n"
          ]
        }
      ]
    },
    {
      "cell_type": "markdown",
      "source": [
        "extracting lines"
      ],
      "metadata": {
        "id": "kqJIK2gvdf0G"
      }
    },
    {
      "cell_type": "code",
      "source": [
        "file=open('best','r')\n",
        "a=file.readlines()\n",
        "print(a[2])\n",
        "file.close()"
      ],
      "metadata": {
        "colab": {
          "base_uri": "https://localhost:8080/"
        },
        "id": "VfsWSinNcAEq",
        "outputId": "e239d29e-4123-4df6-dc6f-56d1b203096c"
      },
      "execution_count": 51,
      "outputs": [
        {
          "output_type": "stream",
          "name": "stdout",
          "text": [
            "iam shareef\n",
            "\n"
          ]
        }
      ]
    },
    {
      "cell_type": "code",
      "source": [
        "#task\n",
        "\n",
        "file1=open('cranes.txt','w')\n",
        "file1.write('python')\n",
        "file1.write('\\ndata analysis')\n",
        "file1.write('\\nmachine learning')\n",
        "file1.write('\\ndeep learning')\n",
        "file1.write('\\ngen ai')\n",
        "file1.write('\\npower bi')\n",
        "file1.close()"
      ],
      "metadata": {
        "id": "gjmeHauGfXvn"
      },
      "execution_count": 52,
      "outputs": []
    },
    {
      "cell_type": "code",
      "source": [
        "file1=open('cranes.txt','r')\n",
        "a=file1.read()\n",
        "print(a)\n",
        "file1.close()"
      ],
      "metadata": {
        "colab": {
          "base_uri": "https://localhost:8080/"
        },
        "id": "KngWsdpBgHhx",
        "outputId": "42d34c1a-442c-4b4e-f81b-8dca7fc8f700"
      },
      "execution_count": 53,
      "outputs": [
        {
          "output_type": "stream",
          "name": "stdout",
          "text": [
            "python\n",
            "data analysis\n",
            "machine learning\n",
            "deep learning\n",
            "gen ai\n",
            "power bi\n"
          ]
        }
      ]
    },
    {
      "cell_type": "code",
      "source": [
        "file1=open('cranes.txt','r')\n",
        "a=file1.readlines()\n",
        "print(a[4])\n",
        "file1.close()"
      ],
      "metadata": {
        "colab": {
          "base_uri": "https://localhost:8080/"
        },
        "id": "IZzcgOSkgaIj",
        "outputId": "ea9fa88c-55eb-431a-9d7e-705a55c010a9"
      },
      "execution_count": 60,
      "outputs": [
        {
          "output_type": "stream",
          "name": "stdout",
          "text": [
            "gen ai\n",
            "\n"
          ]
        }
      ]
    },
    {
      "cell_type": "code",
      "source": [
        "#task\n",
        "\n",
        "file2=open('intership.txt','w')\n",
        "file2.write('data science')\n",
        "file2.write('\\nembedded')\n",
        "file2.write('\\npython')\n",
        "file2.write('\\nIOT')\n",
        "file2.write('\\nARM')\n",
        "file2.close()"
      ],
      "metadata": {
        "id": "rMwtUYpKuC9t"
      },
      "execution_count": 61,
      "outputs": []
    },
    {
      "cell_type": "code",
      "source": [
        "file2=open('intership.txt','r')\n",
        "ax=file2.read()\n",
        "print(ax)\n",
        "file2.close()"
      ],
      "metadata": {
        "colab": {
          "base_uri": "https://localhost:8080/"
        },
        "id": "LFZFHg40uljH",
        "outputId": "e806fe80-d974-43ee-8dbb-e6e526f42e03"
      },
      "execution_count": 62,
      "outputs": [
        {
          "output_type": "stream",
          "name": "stdout",
          "text": [
            "data science\n",
            "embedded\n",
            "python\n",
            "IOT\n",
            "ARM\n"
          ]
        }
      ]
    },
    {
      "cell_type": "code",
      "source": [
        "file2=open('intership.txt','r')\n",
        "ax=file2.readlines()\n",
        "print(ax[2])\n",
        "file2.close()"
      ],
      "metadata": {
        "colab": {
          "base_uri": "https://localhost:8080/"
        },
        "id": "1AYuIdQau6z1",
        "outputId": "3fc9b6b3-4621-4209-f2c5-a5ccf8d5b3a4"
      },
      "execution_count": 63,
      "outputs": [
        {
          "output_type": "stream",
          "name": "stdout",
          "text": [
            "python\n",
            "\n"
          ]
        }
      ]
    },
    {
      "cell_type": "markdown",
      "source": [
        "to find the total number present"
      ],
      "metadata": {
        "id": "GSeuC_4b0r3y"
      }
    },
    {
      "cell_type": "code",
      "source": [
        "file2=open('intership.txt','r')\n",
        "ax=file2.read()\n",
        "n=0\n",
        "for character in ax:\n",
        "    if character.isdigit():\n",
        "      n=n+1\n",
        "print(n)"
      ],
      "metadata": {
        "colab": {
          "base_uri": "https://localhost:8080/"
        },
        "id": "zIoTTOImygyA",
        "outputId": "41efa707-f468-4e0e-89bb-a691cdba89e9"
      },
      "execution_count": 72,
      "outputs": [
        {
          "output_type": "stream",
          "name": "stdout",
          "text": [
            "5\n"
          ]
        }
      ]
    },
    {
      "cell_type": "markdown",
      "source": [
        "to find the total alphabate present"
      ],
      "metadata": {
        "id": "kBSqIEQW0wg2"
      }
    },
    {
      "cell_type": "code",
      "source": [
        "file2=open('intership.txt','r')\n",
        "ax=file2.read()\n",
        "a=0\n",
        "for character in ax:\n",
        "    if character.isalpha():\n",
        "      a=a+1\n",
        "print(a)"
      ],
      "metadata": {
        "colab": {
          "base_uri": "https://localhost:8080/"
        },
        "id": "_7SadkDB0f6z",
        "outputId": "8c5d55e9-c0ad-4d9b-a8db-d5c37a197b2e"
      },
      "execution_count": 74,
      "outputs": [
        {
          "output_type": "stream",
          "name": "stdout",
          "text": [
            "31\n"
          ]
        }
      ]
    }
  ]
}