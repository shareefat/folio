{
  "nbformat": 4,
  "nbformat_minor": 0,
  "metadata": {
    "colab": {
      "provenance": [],
      "authorship_tag": "ABX9TyMg7QGJC6XAhdric+sLh6g1",
      "include_colab_link": true
    },
    "kernelspec": {
      "name": "python3",
      "display_name": "Python 3"
    },
    "language_info": {
      "name": "python"
    }
  },
  "cells": [
    {
      "cell_type": "markdown",
      "metadata": {
        "id": "view-in-github",
        "colab_type": "text"
      },
      "source": [
        "<a href=\"https://colab.research.google.com/github/shareefat/folio/blob/main/DAV_DAY_2.ipynb\" target=\"_parent\"><img src=\"https://colab.research.google.com/assets/colab-badge.svg\" alt=\"Open In Colab\"/></a>"
      ]
    },
    {
      "cell_type": "markdown",
      "source": [
        "#INSERT"
      ],
      "metadata": {
        "id": "-wSJrR9Qc_Rj"
      }
    },
    {
      "cell_type": "code",
      "execution_count": 1,
      "metadata": {
        "colab": {
          "base_uri": "https://localhost:8080/"
        },
        "id": "pFwItTvxYeUk",
        "outputId": "91e12ed7-32d2-45fe-a365-e640f9a17d11"
      },
      "outputs": [
        {
          "output_type": "execute_result",
          "data": {
            "text/plain": [
              "array([10, 11, 12, 13])"
            ]
          },
          "metadata": {},
          "execution_count": 1
        }
      ],
      "source": [
        "import numpy as np\n",
        "a=np.array([10,11,12,13])\n",
        "a"
      ]
    },
    {
      "cell_type": "code",
      "source": [
        "np.insert(a,0,9)"
      ],
      "metadata": {
        "colab": {
          "base_uri": "https://localhost:8080/"
        },
        "id": "7rav-yx-caE_",
        "outputId": "e79305a5-683f-41ea-fdd3-82f9d6f7d368"
      },
      "execution_count": 2,
      "outputs": [
        {
          "output_type": "execute_result",
          "data": {
            "text/plain": [
              "array([ 9, 10, 11, 12, 13])"
            ]
          },
          "metadata": {},
          "execution_count": 2
        }
      ]
    },
    {
      "cell_type": "code",
      "source": [
        "a"
      ],
      "metadata": {
        "colab": {
          "base_uri": "https://localhost:8080/"
        },
        "id": "GleoIKH3cwaX",
        "outputId": "4e450896-5443-4a60-faec-e8e2c964c019"
      },
      "execution_count": 3,
      "outputs": [
        {
          "output_type": "execute_result",
          "data": {
            "text/plain": [
              "array([10, 11, 12, 13])"
            ]
          },
          "metadata": {},
          "execution_count": 3
        }
      ]
    },
    {
      "cell_type": "code",
      "source": [
        "import numpy as np\n",
        "b=np.array([[10,17,13],\n",
        "            [20,26,29],\n",
        "            [41,39,15]])\n",
        "b"
      ],
      "metadata": {
        "colab": {
          "base_uri": "https://localhost:8080/"
        },
        "id": "KmfCrzcGcz23",
        "outputId": "c87cf146-f8ca-4711-f024-9a5b3880f6ad"
      },
      "execution_count": 6,
      "outputs": [
        {
          "output_type": "execute_result",
          "data": {
            "text/plain": [
              "array([[10, 17, 13],\n",
              "       [20, 26, 29],\n",
              "       [41, 39, 15]])"
            ]
          },
          "metadata": {},
          "execution_count": 6
        }
      ]
    },
    {
      "cell_type": "markdown",
      "source": [
        "#AXIS 1 = COLUMN WISE #--------#AXIS 0 = ROW WISE#--#AXIS=NONE"
      ],
      "metadata": {
        "id": "PTylQCnznJyh"
      }
    },
    {
      "cell_type": "code",
      "source": [
        "b.shape"
      ],
      "metadata": {
        "colab": {
          "base_uri": "https://localhost:8080/"
        },
        "id": "2jHuAf6kd-9h",
        "outputId": "12d33844-720f-49a2-e17a-b3016eab3a48"
      },
      "execution_count": 7,
      "outputs": [
        {
          "output_type": "execute_result",
          "data": {
            "text/plain": [
              "(3, 3)"
            ]
          },
          "metadata": {},
          "execution_count": 7
        }
      ]
    },
    {
      "cell_type": "code",
      "source": [
        "b.itemsize"
      ],
      "metadata": {
        "colab": {
          "base_uri": "https://localhost:8080/"
        },
        "id": "Ojdgy9dqeBZW",
        "outputId": "c40d1800-6b38-402d-8450-92a17f6e9491"
      },
      "execution_count": 8,
      "outputs": [
        {
          "output_type": "execute_result",
          "data": {
            "text/plain": [
              "8"
            ]
          },
          "metadata": {},
          "execution_count": 8
        }
      ]
    },
    {
      "cell_type": "code",
      "source": [
        "b.size"
      ],
      "metadata": {
        "colab": {
          "base_uri": "https://localhost:8080/"
        },
        "id": "X-DWUHM9eD2y",
        "outputId": "1aae3315-683e-4cc5-ee28-71c6a072927e"
      },
      "execution_count": 9,
      "outputs": [
        {
          "output_type": "execute_result",
          "data": {
            "text/plain": [
              "9"
            ]
          },
          "metadata": {},
          "execution_count": 9
        }
      ]
    },
    {
      "cell_type": "code",
      "source": [
        "b=np.insert(b,1,10,axis=1)\n",
        "b"
      ],
      "metadata": {
        "colab": {
          "base_uri": "https://localhost:8080/"
        },
        "id": "fbg9grLMeFea",
        "outputId": "c701f385-4608-47af-abb9-b8f9da95168b"
      },
      "execution_count": 10,
      "outputs": [
        {
          "output_type": "execute_result",
          "data": {
            "text/plain": [
              "array([[10, 10, 17, 13],\n",
              "       [20, 10, 26, 29],\n",
              "       [41, 10, 39, 15]])"
            ]
          },
          "metadata": {},
          "execution_count": 10
        }
      ]
    },
    {
      "cell_type": "code",
      "source": [
        "import numpy as np\n",
        "c=np.array([[10,17,13],\n",
        "            [20,26,29],\n",
        "            [41,39,15]])\n",
        "c"
      ],
      "metadata": {
        "colab": {
          "base_uri": "https://localhost:8080/"
        },
        "id": "UKrf6bqlh9MU",
        "outputId": "0733818a-3922-4aba-d95e-fa7762d07aa1"
      },
      "execution_count": 11,
      "outputs": [
        {
          "output_type": "execute_result",
          "data": {
            "text/plain": [
              "array([[10, 17, 13],\n",
              "       [20, 26, 29],\n",
              "       [41, 39, 15]])"
            ]
          },
          "metadata": {},
          "execution_count": 11
        }
      ]
    },
    {
      "cell_type": "code",
      "source": [
        "c=np.insert(c,0,values=[21,22,23],axis=0)\n",
        "c"
      ],
      "metadata": {
        "colab": {
          "base_uri": "https://localhost:8080/"
        },
        "id": "gw2ujC9fndSY",
        "outputId": "36b358f5-bdfa-418b-e3ed-5ce80d8da972"
      },
      "execution_count": 23,
      "outputs": [
        {
          "output_type": "execute_result",
          "data": {
            "text/plain": [
              "array([21, 22, 23, 21, 22, 23, 21, 22, 23, 21, 22, 23, 21, 22, 23, 21, 27,\n",
              "       33, 10, 10, 17, 13, 20, 10, 26, 29, 41, 10, 39, 15])"
            ]
          },
          "metadata": {},
          "execution_count": 23
        }
      ]
    },
    {
      "cell_type": "code",
      "source": [
        "c=np.insert(b,0,values=[21,27,33])\n",
        "c"
      ],
      "metadata": {
        "colab": {
          "base_uri": "https://localhost:8080/"
        },
        "id": "eH3ERSwifhp8",
        "outputId": "a197be7f-4765-4e4e-d236-333c3631772c"
      },
      "execution_count": 14,
      "outputs": [
        {
          "output_type": "execute_result",
          "data": {
            "text/plain": [
              "array([21, 27, 33, 21, 27, 33, 10, 10, 17, 13, 20, 10, 26, 29, 41, 10, 39,\n",
              "       15])"
            ]
          },
          "metadata": {},
          "execution_count": 14
        }
      ]
    },
    {
      "cell_type": "code",
      "source": [
        "q=np.arange(1,10,1).reshape(3,3)\n",
        "q"
      ],
      "metadata": {
        "colab": {
          "base_uri": "https://localhost:8080/"
        },
        "id": "Lm3-19Rlk-TO",
        "outputId": "22778f86-8cf5-4a33-a15f-a1fd686cc24b"
      },
      "execution_count": 17,
      "outputs": [
        {
          "output_type": "execute_result",
          "data": {
            "text/plain": [
              "array([[1, 2, 3],\n",
              "       [4, 5, 6],\n",
              "       [7, 8, 9]])"
            ]
          },
          "metadata": {},
          "execution_count": 17
        }
      ]
    },
    {
      "cell_type": "code",
      "source": [
        "import numpy as np\n",
        "w=np.eye(4)\n",
        "w"
      ],
      "metadata": {
        "colab": {
          "base_uri": "https://localhost:8080/"
        },
        "id": "jQGqYI49lVf2",
        "outputId": "a4a362ff-d0aa-4858-dd44-e3d81f452794"
      },
      "execution_count": 24,
      "outputs": [
        {
          "output_type": "execute_result",
          "data": {
            "text/plain": [
              "array([[1., 0., 0., 0.],\n",
              "       [0., 1., 0., 0.],\n",
              "       [0., 0., 1., 0.],\n",
              "       [0., 0., 0., 1.]])"
            ]
          },
          "metadata": {},
          "execution_count": 24
        }
      ]
    },
    {
      "cell_type": "code",
      "source": [
        "import numpy as np\n",
        "e=np.array([[12,2,3],[4,3,2],[1,2,3]])\n",
        "e"
      ],
      "metadata": {
        "colab": {
          "base_uri": "https://localhost:8080/"
        },
        "id": "pQ4XeIPgqESV",
        "outputId": "cf358ab1-84ba-49da-cfb5-1c807f82b3c5"
      },
      "execution_count": 25,
      "outputs": [
        {
          "output_type": "execute_result",
          "data": {
            "text/plain": [
              "array([[12,  2,  3],\n",
              "       [ 4,  3,  2],\n",
              "       [ 1,  2,  3]])"
            ]
          },
          "metadata": {},
          "execution_count": 25
        }
      ]
    },
    {
      "cell_type": "code",
      "source": [
        "e=np.array([[12,2,3],[4,3,2],[1,2,3]])\n",
        "rav=e.ravel()\n",
        "rav"
      ],
      "metadata": {
        "colab": {
          "base_uri": "https://localhost:8080/"
        },
        "id": "amFyty9uq-BG",
        "outputId": "dcb4edae-d14a-4c76-efc7-7a7b778efe38"
      },
      "execution_count": 39,
      "outputs": [
        {
          "output_type": "execute_result",
          "data": {
            "text/plain": [
              "array([12,  2,  3,  4,  3,  2,  1,  2,  3])"
            ]
          },
          "metadata": {},
          "execution_count": 39
        }
      ]
    },
    {
      "cell_type": "code",
      "source": [
        "rav[0]=1\n",
        "rav"
      ],
      "metadata": {
        "colab": {
          "base_uri": "https://localhost:8080/"
        },
        "id": "fTODGTEPr4Zy",
        "outputId": "47b29713-de2f-4664-e14e-678f2eaf4119"
      },
      "execution_count": 40,
      "outputs": [
        {
          "output_type": "execute_result",
          "data": {
            "text/plain": [
              "array([1, 2, 3, 4, 3, 2, 1, 2, 3])"
            ]
          },
          "metadata": {},
          "execution_count": 40
        }
      ]
    },
    {
      "cell_type": "code",
      "source": [
        "e"
      ],
      "metadata": {
        "colab": {
          "base_uri": "https://localhost:8080/"
        },
        "id": "0Z8PkEoisNgX",
        "outputId": "0202f08e-ab4e-47bb-ab98-ffdf665abc11"
      },
      "execution_count": 41,
      "outputs": [
        {
          "output_type": "execute_result",
          "data": {
            "text/plain": [
              "array([[1, 2, 3],\n",
              "       [4, 3, 2],\n",
              "       [1, 2, 3]])"
            ]
          },
          "metadata": {},
          "execution_count": 41
        }
      ]
    },
    {
      "cell_type": "code",
      "source": [
        "e=np.full((3,3),13)\n",
        "e"
      ],
      "metadata": {
        "colab": {
          "base_uri": "https://localhost:8080/"
        },
        "id": "mphk_vEEqYlf",
        "outputId": "1d473f25-62ed-4c31-dbd0-d4e1ced4486f"
      },
      "execution_count": 29,
      "outputs": [
        {
          "output_type": "execute_result",
          "data": {
            "text/plain": [
              "array([[13, 13, 13],\n",
              "       [13, 13, 13],\n",
              "       [13, 13, 13]])"
            ]
          },
          "metadata": {},
          "execution_count": 29
        }
      ]
    },
    {
      "cell_type": "code",
      "source": [
        "x=np.ones(10)\n",
        "x"
      ],
      "metadata": {
        "colab": {
          "base_uri": "https://localhost:8080/"
        },
        "id": "sdgGQ-pzsYSS",
        "outputId": "42af710c-7396-4db2-dd12-aa0d171d8cf6"
      },
      "execution_count": 44,
      "outputs": [
        {
          "output_type": "execute_result",
          "data": {
            "text/plain": [
              "array([1., 1., 1., 1., 1., 1., 1., 1., 1., 1.])"
            ]
          },
          "metadata": {},
          "execution_count": 44
        }
      ]
    },
    {
      "cell_type": "code",
      "source": [
        "r=np.array([[2,3,4],[5,6,7],[3,5,7]])\n",
        "r\n",
        "np.insert(r,1,10,axis=1)"
      ],
      "metadata": {
        "colab": {
          "base_uri": "https://localhost:8080/"
        },
        "id": "brQicTwFskmS",
        "outputId": "ea0c4dff-ad9f-497f-b3cb-c587ceb7de89"
      },
      "execution_count": 46,
      "outputs": [
        {
          "output_type": "execute_result",
          "data": {
            "text/plain": [
              "array([[ 2, 10,  3,  4],\n",
              "       [ 5, 10,  6,  7],\n",
              "       [ 3, 10,  5,  7]])"
            ]
          },
          "metadata": {},
          "execution_count": 46
        }
      ]
    },
    {
      "cell_type": "code",
      "source": [
        "np.insert(r,0,4,axis=0)"
      ],
      "metadata": {
        "colab": {
          "base_uri": "https://localhost:8080/"
        },
        "id": "J5-72VDStyR2",
        "outputId": "7571111c-65fc-45d7-f7a1-5c70dc579428"
      },
      "execution_count": 47,
      "outputs": [
        {
          "output_type": "execute_result",
          "data": {
            "text/plain": [
              "array([[4, 4, 4],\n",
              "       [2, 3, 4],\n",
              "       [5, 6, 7],\n",
              "       [3, 5, 7]])"
            ]
          },
          "metadata": {},
          "execution_count": 47
        }
      ]
    },
    {
      "cell_type": "markdown",
      "source": [
        "#delete"
      ],
      "metadata": {
        "id": "aPK9u41dzWXH"
      }
    },
    {
      "cell_type": "code",
      "source": [
        "r\n",
        "np.delete(r,2,axis=1)"
      ],
      "metadata": {
        "colab": {
          "base_uri": "https://localhost:8080/"
        },
        "id": "74L4TvEZzaGb",
        "outputId": "cb650d21-5b31-4bd1-f50c-9af72b264950"
      },
      "execution_count": 48,
      "outputs": [
        {
          "output_type": "execute_result",
          "data": {
            "text/plain": [
              "array([[2, 3],\n",
              "       [5, 6],\n",
              "       [3, 5]])"
            ]
          },
          "metadata": {},
          "execution_count": 48
        }
      ]
    },
    {
      "cell_type": "code",
      "source": [
        "l=np.array([[2,3,4],[5,6,7],[3,5,7]])\n",
        "l\n",
        "l.reshape(3,3)\n",
        "np.delete(l,0,axis=0)"
      ],
      "metadata": {
        "colab": {
          "base_uri": "https://localhost:8080/"
        },
        "id": "CLGQSvaE0TFq",
        "outputId": "30d940ee-d853-4ee1-b8d7-2df08fc50cfd"
      },
      "execution_count": 52,
      "outputs": [
        {
          "output_type": "execute_result",
          "data": {
            "text/plain": [
              "array([[5, 6, 7],\n",
              "       [3, 5, 7]])"
            ]
          },
          "metadata": {},
          "execution_count": 52
        }
      ]
    },
    {
      "cell_type": "code",
      "source": [
        "l=np.array([[2,3,4],[5,6,7],[3,5,7]])\n",
        "l\n",
        "l.reshape(-1,)\n",
        "np.delete(l,6)"
      ],
      "metadata": {
        "colab": {
          "base_uri": "https://localhost:8080/"
        },
        "id": "l9PI52_C1KBJ",
        "outputId": "05d4f49a-c8f6-4be4-e1f5-2dfb9f5442b2"
      },
      "execution_count": 62,
      "outputs": [
        {
          "output_type": "execute_result",
          "data": {
            "text/plain": [
              "array([2, 3, 4, 5, 6, 7, 5, 7])"
            ]
          },
          "metadata": {},
          "execution_count": 62
        }
      ]
    },
    {
      "cell_type": "markdown",
      "source": [
        "#Array concatenate"
      ],
      "metadata": {
        "id": "9oqNbXjv4hwl"
      }
    },
    {
      "cell_type": "code",
      "source": [
        "a=np.arange(1,9,2).reshape(2,2)\n",
        "b=np.arange(9,17,2).reshape(2,2)\n",
        "print(a)\n",
        "print(b)"
      ],
      "metadata": {
        "colab": {
          "base_uri": "https://localhost:8080/"
        },
        "id": "taPiE7eL4mZT",
        "outputId": "3ff0ec14-ae77-4152-d168-866f77f34dcb"
      },
      "execution_count": 70,
      "outputs": [
        {
          "output_type": "stream",
          "name": "stdout",
          "text": [
            "[[1 3]\n",
            " [5 7]]\n",
            "[[ 9 11]\n",
            " [13 15]]\n"
          ]
        }
      ]
    },
    {
      "cell_type": "code",
      "source": [
        "row_concate=np.concatenate((a,b),axis=0)\n",
        "row_concate"
      ],
      "metadata": {
        "colab": {
          "base_uri": "https://localhost:8080/"
        },
        "id": "0NQpegzU5P6d",
        "outputId": "acc38f6b-3a3a-47c8-86f2-7faa7f95cf84"
      },
      "execution_count": 64,
      "outputs": [
        {
          "output_type": "execute_result",
          "data": {
            "text/plain": [
              "array([[ 1,  3],\n",
              "       [ 5,  7],\n",
              "       [ 9, 11],\n",
              "       [ 9, 11],\n",
              "       [13, 15]])"
            ]
          },
          "metadata": {},
          "execution_count": 64
        }
      ]
    },
    {
      "cell_type": "code",
      "source": [
        "col_concate=np.concatenate((a,b),axis=1)\n",
        "col_concate"
      ],
      "metadata": {
        "colab": {
          "base_uri": "https://localhost:8080/"
        },
        "id": "UUp_4w_m5dNw",
        "outputId": "f4307b7d-ba31-4a03-a4d9-0b2f7b1e7871"
      },
      "execution_count": 71,
      "outputs": [
        {
          "output_type": "execute_result",
          "data": {
            "text/plain": [
              "array([[ 1,  3,  9, 11],\n",
              "       [ 5,  7, 13, 15]])"
            ]
          },
          "metadata": {},
          "execution_count": 71
        }
      ]
    },
    {
      "cell_type": "code",
      "source": [
        "none_concate=np.concatenate((a,b),axis=None)\n",
        "none_concate"
      ],
      "metadata": {
        "colab": {
          "base_uri": "https://localhost:8080/"
        },
        "id": "jk51JbYV6b0N",
        "outputId": "bd54b968-29b1-4635-e5ff-c06b1074a0de"
      },
      "execution_count": 73,
      "outputs": [
        {
          "output_type": "execute_result",
          "data": {
            "text/plain": [
              "array([ 1,  3,  5,  7,  9, 11, 13, 15])"
            ]
          },
          "metadata": {},
          "execution_count": 73
        }
      ]
    },
    {
      "cell_type": "code",
      "source": [
        "c=np.arange(1,10,1).reshape(3,3)\n",
        "c\n",
        "d=np.arange(11,20,1).reshape(3,3)\n",
        "d"
      ],
      "metadata": {
        "colab": {
          "base_uri": "https://localhost:8080/"
        },
        "id": "DAh_D1SL7ZB2",
        "outputId": "cad71654-2988-4712-cf0c-cf9dc358077b"
      },
      "execution_count": 76,
      "outputs": [
        {
          "output_type": "execute_result",
          "data": {
            "text/plain": [
              "array([[11, 12, 13],\n",
              "       [14, 15, 16],\n",
              "       [17, 18, 19]])"
            ]
          },
          "metadata": {},
          "execution_count": 76
        }
      ]
    },
    {
      "cell_type": "code",
      "source": [
        "row=np.vstack((c,d))\n",
        "row"
      ],
      "metadata": {
        "colab": {
          "base_uri": "https://localhost:8080/"
        },
        "id": "s4iC8xiT7yau",
        "outputId": "74b3e79e-7bc2-452f-a4aa-bd402aa131d4"
      },
      "execution_count": 77,
      "outputs": [
        {
          "output_type": "execute_result",
          "data": {
            "text/plain": [
              "array([[ 1,  2,  3],\n",
              "       [ 4,  5,  6],\n",
              "       [ 7,  8,  9],\n",
              "       [11, 12, 13],\n",
              "       [14, 15, 16],\n",
              "       [17, 18, 19]])"
            ]
          },
          "metadata": {},
          "execution_count": 77
        }
      ]
    },
    {
      "cell_type": "code",
      "source": [
        "row=np.hstack((c,d))\n",
        "row"
      ],
      "metadata": {
        "colab": {
          "base_uri": "https://localhost:8080/"
        },
        "id": "Jek2ykvC8CaD",
        "outputId": "481ee6cb-4dc3-4b4a-ebea-0e9c903f6308"
      },
      "execution_count": 78,
      "outputs": [
        {
          "output_type": "execute_result",
          "data": {
            "text/plain": [
              "array([[ 1,  2,  3, 11, 12, 13],\n",
              "       [ 4,  5,  6, 14, 15, 16],\n",
              "       [ 7,  8,  9, 17, 18, 19]])"
            ]
          },
          "metadata": {},
          "execution_count": 78
        }
      ]
    },
    {
      "cell_type": "code",
      "source": [
        "row=np.dstack((c,d))\n",
        "row"
      ],
      "metadata": {
        "colab": {
          "base_uri": "https://localhost:8080/"
        },
        "id": "hYlM1hT18GOd",
        "outputId": "fa81f5a4-b9c1-4264-84ca-3d4e3e50b66e"
      },
      "execution_count": 79,
      "outputs": [
        {
          "output_type": "execute_result",
          "data": {
            "text/plain": [
              "array([[[ 1, 11],\n",
              "        [ 2, 12],\n",
              "        [ 3, 13]],\n",
              "\n",
              "       [[ 4, 14],\n",
              "        [ 5, 15],\n",
              "        [ 6, 16]],\n",
              "\n",
              "       [[ 7, 17],\n",
              "        [ 8, 18],\n",
              "        [ 9, 19]]])"
            ]
          },
          "metadata": {},
          "execution_count": 79
        }
      ]
    },
    {
      "cell_type": "markdown",
      "source": [
        "#Split Array"
      ],
      "metadata": {
        "id": "--iZasaI8RcU"
      }
    },
    {
      "cell_type": "code",
      "source": [
        "e=np.arange(1,12,2).reshape(3,2)\n",
        "e"
      ],
      "metadata": {
        "colab": {
          "base_uri": "https://localhost:8080/"
        },
        "id": "iJbU06Yc8XL_",
        "outputId": "e77d1fe5-3204-4f9b-8456-a9dad155f4f1"
      },
      "execution_count": 89,
      "outputs": [
        {
          "output_type": "execute_result",
          "data": {
            "text/plain": [
              "array([[ 1,  3],\n",
              "       [ 5,  7],\n",
              "       [ 9, 11]])"
            ]
          },
          "metadata": {},
          "execution_count": 89
        }
      ]
    },
    {
      "cell_type": "code",
      "source": [
        "split2=np.split(e,3)\n",
        "split2"
      ],
      "metadata": {
        "colab": {
          "base_uri": "https://localhost:8080/"
        },
        "id": "GlO-wqdA8gwk",
        "outputId": "06b0880a-2455-4d7e-a425-68688d2324a6"
      },
      "execution_count": 91,
      "outputs": [
        {
          "output_type": "execute_result",
          "data": {
            "text/plain": [
              "[array([[1, 3]]), array([[5, 7]]), array([[ 9, 11]])]"
            ]
          },
          "metadata": {},
          "execution_count": 91
        }
      ]
    }
  ]
}