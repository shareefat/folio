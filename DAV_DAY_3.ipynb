{
  "nbformat": 4,
  "nbformat_minor": 0,
  "metadata": {
    "colab": {
      "provenance": [],
      "authorship_tag": "ABX9TyOqItpvwcDF4AY6NIwkmykE",
      "include_colab_link": true
    },
    "kernelspec": {
      "name": "python3",
      "display_name": "Python 3"
    },
    "language_info": {
      "name": "python"
    }
  },
  "cells": [
    {
      "cell_type": "markdown",
      "metadata": {
        "id": "view-in-github",
        "colab_type": "text"
      },
      "source": [
        "<a href=\"https://colab.research.google.com/github/shareefat/folio/blob/main/DAV_DAY_3.ipynb\" target=\"_parent\"><img src=\"https://colab.research.google.com/assets/colab-badge.svg\" alt=\"Open In Colab\"/></a>"
      ]
    },
    {
      "cell_type": "markdown",
      "source": [
        "#brodcasting"
      ],
      "metadata": {
        "id": "bMbMYwuOhy_d"
      }
    },
    {
      "cell_type": "code",
      "execution_count": null,
      "metadata": {
        "colab": {
          "base_uri": "https://localhost:8080/"
        },
        "id": "5LAmCn2qhZgH",
        "outputId": "fcd3f025-47f0-49b8-ffb3-869cafa6534d"
      },
      "outputs": [
        {
          "output_type": "execute_result",
          "data": {
            "text/plain": [
              "array([[10, 18],\n",
              "       [20, 40]])"
            ]
          },
          "metadata": {},
          "execution_count": 5
        }
      ],
      "source": [
        "import numpy as np\n",
        "a=np.array([[10,18],[20,40]]).reshape(2,2)\n",
        "a"
      ]
    },
    {
      "cell_type": "code",
      "source": [
        "import numpy as np\n",
        "b=np.array([[7,17],[5,30]]).reshape(2,2)\n",
        "b"
      ],
      "metadata": {
        "colab": {
          "base_uri": "https://localhost:8080/"
        },
        "id": "KfzEKxPulmKA",
        "outputId": "a326cac1-b4ed-4b46-e9b7-d01e50c5a29f"
      },
      "execution_count": null,
      "outputs": [
        {
          "output_type": "execute_result",
          "data": {
            "text/plain": [
              "array([[ 7, 17],\n",
              "       [ 5, 30]])"
            ]
          },
          "metadata": {},
          "execution_count": 6
        }
      ]
    },
    {
      "cell_type": "code",
      "source": [
        "print(\"The answer for this array is\")\n",
        "print(\"\")\n",
        "print(\"addition  :\")\n",
        "print(a+b)\n",
        "print(\"\")\n",
        "print(\"substracton  :\")\n",
        "print(a-b)\n",
        "print(\"\")\n",
        "print(\"multiplication  :\")\n",
        "print(a*b)\n",
        "print(\"\")\n",
        "print(\"division  :\")\n",
        "print(a/b)"
      ],
      "metadata": {
        "colab": {
          "base_uri": "https://localhost:8080/"
        },
        "id": "COBYdNtjluH6",
        "outputId": "c29ff956-00da-4ea9-d518-6d5210feb5f2"
      },
      "execution_count": null,
      "outputs": [
        {
          "output_type": "stream",
          "name": "stdout",
          "text": [
            "The answer for this array is\n",
            "\n",
            "addition  :\n",
            "[[17 35]\n",
            " [25 70]]\n",
            "\n",
            "substracton  :\n",
            "[[ 3  1]\n",
            " [15 10]]\n",
            "\n",
            "multiplication  :\n",
            "[[  70  306]\n",
            " [ 100 1200]]\n",
            "\n",
            "division  :\n",
            "[[1.42857143 1.05882353]\n",
            " [4.         1.33333333]]\n"
          ]
        }
      ]
    },
    {
      "cell_type": "code",
      "source": [
        "c = np.array([[10, 10], [20, 40]])\n",
        "c\n",
        "d=np.dot(a,c)\n",
        "print(d)"
      ],
      "metadata": {
        "colab": {
          "base_uri": "https://localhost:8080/"
        },
        "id": "JGr1HRienDnl",
        "outputId": "cbc29e59-a962-4072-eec4-476c512ceba3"
      },
      "execution_count": null,
      "outputs": [
        {
          "output_type": "stream",
          "name": "stdout",
          "text": [
            "[[ 460  820]\n",
            " [1000 1800]]\n"
          ]
        }
      ]
    },
    {
      "cell_type": "code",
      "source": [
        "matrix_a=np.matrix(a)\n",
        "matrix_b=np.matrix(b)\n",
        "print(matrix_a)"
      ],
      "metadata": {
        "colab": {
          "base_uri": "https://localhost:8080/"
        },
        "id": "9q10W777pnim",
        "outputId": "b32525bc-34e1-4c36-f39a-3ce14e52cfdc"
      },
      "execution_count": null,
      "outputs": [
        {
          "output_type": "stream",
          "name": "stdout",
          "text": [
            "[[10 18]\n",
            " [20 40]]\n"
          ]
        }
      ]
    },
    {
      "cell_type": "code",
      "source": [
        "lst = np.array([[20,30],[50,1]])\n",
        "lst\n"
      ],
      "metadata": {
        "colab": {
          "base_uri": "https://localhost:8080/"
        },
        "id": "5OUU-zqFsapB",
        "outputId": "30659fa8-a635-45ef-c152-1e73a2f35694"
      },
      "execution_count": null,
      "outputs": [
        {
          "output_type": "execute_result",
          "data": {
            "text/plain": [
              "array([[20, 30],\n",
              "       [50,  1]])"
            ]
          },
          "metadata": {},
          "execution_count": 29
        }
      ]
    },
    {
      "cell_type": "code",
      "source": [
        "arr = np.array([[20,30],[50,1]])\n",
        "arr"
      ],
      "metadata": {
        "colab": {
          "base_uri": "https://localhost:8080/"
        },
        "id": "9t3fRN4Ps067",
        "outputId": "ac72c7b3-0351-464c-cb61-39fed0575f3b"
      },
      "execution_count": null,
      "outputs": [
        {
          "output_type": "execute_result",
          "data": {
            "text/plain": [
              "array([[20, 30],\n",
              "       [50,  1]])"
            ]
          },
          "metadata": {},
          "execution_count": 30
        }
      ]
    },
    {
      "cell_type": "code",
      "source": [
        "matrixa = np.matrix(lst)\n",
        "matrixa"
      ],
      "metadata": {
        "colab": {
          "base_uri": "https://localhost:8080/"
        },
        "id": "zCfDAns1s3zn",
        "outputId": "ff9e56be-d5b0-43f1-bed4-3970973e451a"
      },
      "execution_count": null,
      "outputs": [
        {
          "output_type": "execute_result",
          "data": {
            "text/plain": [
              "matrix([[20, 30],\n",
              "        [50,  1]])"
            ]
          },
          "metadata": {},
          "execution_count": 31
        }
      ]
    },
    {
      "cell_type": "code",
      "source": [
        "matrixa * matrix_b"
      ],
      "metadata": {
        "colab": {
          "base_uri": "https://localhost:8080/"
        },
        "id": "LdY22kbds9nS",
        "outputId": "6c082c73-95d9-4e41-91c0-9c8482ddcdc3"
      },
      "execution_count": null,
      "outputs": [
        {
          "output_type": "execute_result",
          "data": {
            "text/plain": [
              "matrix([[1900,  630],\n",
              "        [1050, 1501]])"
            ]
          },
          "metadata": {},
          "execution_count": 34
        }
      ]
    },
    {
      "cell_type": "markdown",
      "source": [
        "#Linear Algebra"
      ],
      "metadata": {
        "id": "5cW0wrKM9CN2"
      }
    },
    {
      "cell_type": "code",
      "source": [
        "from numpy import linalg\n",
        "int,float=5,6.3\n",
        "print(int,float)"
      ],
      "metadata": {
        "id": "bYNs6-Y4tlEK",
        "colab": {
          "base_uri": "https://localhost:8080/"
        },
        "outputId": "8adf8445-6132-43b5-8fd7-87235756ba04"
      },
      "execution_count": null,
      "outputs": [
        {
          "output_type": "stream",
          "name": "stdout",
          "text": [
            "5 6.3\n"
          ]
        }
      ]
    },
    {
      "cell_type": "code",
      "source": [
        "from numpy import linalg\n",
        "a=np.arange(1,10).reshape(3,3)\n",
        "print(a)\n",
        "\n",
        "determinant=linalg.det(a)\n",
        "print(determinant)"
      ],
      "metadata": {
        "colab": {
          "base_uri": "https://localhost:8080/"
        },
        "id": "meQDgAUR-LCz",
        "outputId": "9e224e03-9a4f-4c1e-98b1-ffe50610d533"
      },
      "execution_count": null,
      "outputs": [
        {
          "output_type": "stream",
          "name": "stdout",
          "text": [
            "[[1 2 3]\n",
            " [4 5 6]\n",
            " [7 8 9]]\n",
            "0.0\n"
          ]
        }
      ]
    },
    {
      "cell_type": "code",
      "source": [
        "b=np.arange(1,5).reshape(2,2)\n",
        "b\n",
        "deteminant = linalg.det(b)\n",
        "print(deteminant)"
      ],
      "metadata": {
        "colab": {
          "base_uri": "https://localhost:8080/"
        },
        "id": "jRZiDOvmAmar",
        "outputId": "adbda3ee-4bf4-475d-d0d6-b74dd9dfb569"
      },
      "execution_count": 39,
      "outputs": [
        {
          "output_type": "stream",
          "name": "stdout",
          "text": [
            "-2.0000000000000004\n"
          ]
        }
      ]
    },
    {
      "cell_type": "markdown",
      "source": [
        "#algibra solving linalg.solve(a,b)"
      ],
      "metadata": {
        "id": "PHHTxihjEpyx"
      }
    },
    {
      "cell_type": "code",
      "source": [
        "from numpy import linalg\n",
        "a=np.array([[1,2],[5,1]])\n",
        "a\n",
        "b=np.array([7,17])\n",
        "b"
      ],
      "metadata": {
        "colab": {
          "base_uri": "https://localhost:8080/"
        },
        "id": "Zsv9PRZpBR5J",
        "outputId": "8f557089-74f0-4e21-8624-5467ec2c9acc"
      },
      "execution_count": 42,
      "outputs": [
        {
          "output_type": "execute_result",
          "data": {
            "text/plain": [
              "array([ 7, 17])"
            ]
          },
          "metadata": {},
          "execution_count": 42
        }
      ]
    },
    {
      "cell_type": "code",
      "source": [
        "solve = linalg.solve(a,b)\n",
        "print(solve)"
      ],
      "metadata": {
        "colab": {
          "base_uri": "https://localhost:8080/"
        },
        "id": "1sfNwgn2DnlA",
        "outputId": "d1817373-8529-4cb5-a496-e52367a53d5f"
      },
      "execution_count": 43,
      "outputs": [
        {
          "output_type": "stream",
          "name": "stdout",
          "text": [
            "[3. 2.]\n"
          ]
        }
      ]
    },
    {
      "cell_type": "code",
      "source": [
        "from numpy import linalg\n",
        "a=np.array([[5,7],[6,2]])\n",
        "a\n",
        "b=np.array([55,25])\n",
        "b\n",
        "\n",
        "solution=linalg.solve(a,b)\n",
        "print(\"the solution is  : \",solution)"
      ],
      "metadata": {
        "colab": {
          "base_uri": "https://localhost:8080/"
        },
        "id": "faHxoJ1wFTUr",
        "outputId": "3aca56ea-c6ed-4acd-dff5-fe9616ad1494"
      },
      "execution_count": 47,
      "outputs": [
        {
          "output_type": "stream",
          "name": "stdout",
          "text": [
            "the solution is  :  [2.03125 6.40625]\n"
          ]
        }
      ]
    },
    {
      "cell_type": "markdown",
      "source": [
        "#inverse"
      ],
      "metadata": {
        "id": "UqCzUs5wHirc"
      }
    },
    {
      "cell_type": "code",
      "source": [
        "from numpy import linalg\n",
        "a=np.array([[1,5],[10,7]])\n",
        "a\n",
        "b=linalg.inv(a)\n",
        "print(\"the solution for the question is : \",b)"
      ],
      "metadata": {
        "colab": {
          "base_uri": "https://localhost:8080/"
        },
        "id": "8-eIxh_yHiP8",
        "outputId": "8919b26a-91e5-4bc5-e53c-0656c1597c38"
      },
      "execution_count": 48,
      "outputs": [
        {
          "output_type": "stream",
          "name": "stdout",
          "text": [
            "the solution for the question is :  [[-0.1627907   0.11627907]\n",
            " [ 0.23255814 -0.02325581]]\n"
          ]
        }
      ]
    },
    {
      "cell_type": "markdown",
      "source": [
        "#Transpose ----np.transpose(a) or for array a.T"
      ],
      "metadata": {
        "id": "Sewfk8P8IV0t"
      }
    },
    {
      "cell_type": "code",
      "source": [
        "transpose=np.transpose(a)\n",
        "print(transpose)"
      ],
      "metadata": {
        "colab": {
          "base_uri": "https://localhost:8080/"
        },
        "id": "r6G4f0ldIVAd",
        "outputId": "08dbc563-9e7a-4652-f88d-a9188103082e"
      },
      "execution_count": 49,
      "outputs": [
        {
          "output_type": "stream",
          "name": "stdout",
          "text": [
            "[[ 1 10]\n",
            " [ 5  7]]\n"
          ]
        }
      ]
    }
  ]
}