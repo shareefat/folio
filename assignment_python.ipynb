{
  "nbformat": 4,
  "nbformat_minor": 0,
  "metadata": {
    "colab": {
      "provenance": [],
      "authorship_tag": "ABX9TyMdhGRgqxUsAuDSe3b7uAtZ",
      "include_colab_link": true
    },
    "kernelspec": {
      "name": "python3",
      "display_name": "Python 3"
    },
    "language_info": {
      "name": "python"
    }
  },
  "cells": [
    {
      "cell_type": "markdown",
      "metadata": {
        "id": "view-in-github",
        "colab_type": "text"
      },
      "source": [
        "<a href=\"https://colab.research.google.com/github/shareefat/folio/blob/main/assignment_python.ipynb\" target=\"_parent\"><img src=\"https://colab.research.google.com/assets/colab-badge.svg\" alt=\"Open In Colab\"/></a>"
      ]
    },
    {
      "cell_type": "markdown",
      "source": [
        "Write a Python program to print \"Hello, World!\"."
      ],
      "metadata": {
        "id": "Nc6Uhr5j-F2P"
      }
    },
    {
      "cell_type": "code",
      "execution_count": 1,
      "metadata": {
        "colab": {
          "base_uri": "https://localhost:8080/"
        },
        "id": "770wX4Y7-Cfe",
        "outputId": "4950a491-a4f2-42a0-bbd2-1832d1a2b606"
      },
      "outputs": [
        {
          "output_type": "stream",
          "name": "stdout",
          "text": [
            "hello world\n"
          ]
        }
      ],
      "source": [
        "a=\"hello world\"\n",
        "print(a)"
      ]
    },
    {
      "cell_type": "markdown",
      "source": [
        "Write a program to swap two variables without using a third variable."
      ],
      "metadata": {
        "id": "-JB25vmm-S92"
      }
    },
    {
      "cell_type": "code",
      "source": [
        "a=10\n",
        "b=20\n",
        "print(\"before swapping\")\n",
        "print(\"a =\",a)\n",
        "print(\"b =\",b)\n",
        "a=a+b\n",
        "b=a-b\n",
        "a=a-b\n",
        "print(\"after swapping\")\n",
        "print(\"a =\",a)\n",
        "print(\"b =\",b)"
      ],
      "metadata": {
        "colab": {
          "base_uri": "https://localhost:8080/"
        },
        "id": "Lb31HLhZ-Y2i",
        "outputId": "f8dfdb8f-8ab7-415f-ef43-27c77d0fbbee"
      },
      "execution_count": 11,
      "outputs": [
        {
          "output_type": "stream",
          "name": "stdout",
          "text": [
            "before swapping\n",
            "a = 10\n",
            "b = 20\n",
            "after swapping\n",
            "a = 20\n",
            "b = 10\n"
          ]
        }
      ]
    },
    {
      "cell_type": "markdown",
      "source": [
        "Write a program that checks whether a given number is even or odd."
      ],
      "metadata": {
        "id": "gNR-HTM1ArZs"
      }
    },
    {
      "cell_type": "code",
      "source": [
        "even_or_odd=int(input(\"enter a number  :\"))\n",
        "if even_or_odd%2==0:\n",
        "  print(\"the number is even :\",even_or_odd)\n",
        "else:\n",
        "  print(\"the number is odd :\",even_or_odd)"
      ],
      "metadata": {
        "colab": {
          "base_uri": "https://localhost:8080/"
        },
        "id": "sxQgpwy2AvN6",
        "outputId": "2d0f56cd-dbf2-4bdb-bf5a-155ebaa232b1"
      },
      "execution_count": 13,
      "outputs": [
        {
          "output_type": "stream",
          "name": "stdout",
          "text": [
            "enter a number  :2\n",
            "the number is even : 2\n"
          ]
        }
      ]
    },
    {
      "cell_type": "markdown",
      "source": [
        "Write a Python program to print the first 10 natural numbers using a loop"
      ],
      "metadata": {
        "id": "jluoJFEUBYGF"
      }
    },
    {
      "cell_type": "code",
      "source": [
        "a=1\n",
        "while a<=10:\n",
        "  print(a)\n",
        "  a=a+1"
      ],
      "metadata": {
        "colab": {
          "base_uri": "https://localhost:8080/"
        },
        "id": "NjylMZYIBZeW",
        "outputId": "26e2dabb-277d-426e-ee87-fbbc70a74e7f"
      },
      "execution_count": 24,
      "outputs": [
        {
          "output_type": "stream",
          "name": "stdout",
          "text": [
            "1\n",
            "2\n",
            "3\n",
            "4\n",
            "5\n",
            "6\n",
            "7\n",
            "8\n",
            "9\n",
            "10\n"
          ]
        }
      ]
    },
    {
      "cell_type": "markdown",
      "source": [
        "Write a Python function that takes two numbers as arguments and returns their sum"
      ],
      "metadata": {
        "id": "Lpn60ZXQBpna"
      }
    },
    {
      "cell_type": "code",
      "source": [
        "a=int(input(\"entera number  :\"))\n",
        "b=int(input(\"enter a number  :\"))\n",
        "def sum(a,b):\n",
        "  return(a+b)\n",
        "print(sum(a,b))"
      ],
      "metadata": {
        "colab": {
          "base_uri": "https://localhost:8080/"
        },
        "id": "4rQ3dmPXCHD-",
        "outputId": "43dd32bd-dd27-44de-f7e5-e1e1c7159310"
      },
      "execution_count": 28,
      "outputs": [
        {
          "output_type": "stream",
          "name": "stdout",
          "text": [
            "entera number  :10\n",
            "enter a number  :21\n",
            "31\n"
          ]
        }
      ]
    },
    {
      "cell_type": "markdown",
      "source": [
        "Write a program to find the largest number in a list"
      ],
      "metadata": {
        "id": "ZTWQIwyyC2MY"
      }
    },
    {
      "cell_type": "code",
      "source": [
        "a=[1,2,3,4,5,6,7,8,9]\n",
        "print(max(a))"
      ],
      "metadata": {
        "colab": {
          "base_uri": "https://localhost:8080/"
        },
        "id": "i6qjatBbC354",
        "outputId": "dd136ce3-b5e2-411e-d4e5-9399caaa9692"
      },
      "execution_count": 29,
      "outputs": [
        {
          "output_type": "stream",
          "name": "stdout",
          "text": [
            "9\n"
          ]
        }
      ]
    },
    {
      "cell_type": "markdown",
      "source": [
        "Write a Python program to count the number of vowels in a string."
      ],
      "metadata": {
        "id": "xkKNQ2MfC9Hw"
      }
    },
    {
      "cell_type": "code",
      "source": [
        "v={'a','e','i','o','u'}\n",
        "a=input(\"enter a string  :\")\n",
        "count=0\n",
        "for i in a:\n",
        "  if i in v:\n",
        "    count=count+1\n",
        "print(count)\n"
      ],
      "metadata": {
        "colab": {
          "base_uri": "https://localhost:8080/"
        },
        "id": "idRCa57hDBu-",
        "outputId": "961ebd95-ab67-45d0-b376-06233938df9a"
      },
      "execution_count": 34,
      "outputs": [
        {
          "output_type": "stream",
          "name": "stdout",
          "text": [
            "enter a string  :shareef\n",
            "3\n"
          ]
        }
      ]
    },
    {
      "cell_type": "markdown",
      "source": [
        "Write a program that takes a dictionary and prints the sum of all its values."
      ],
      "metadata": {
        "id": "pc2s5BKdD8ca"
      }
    },
    {
      "cell_type": "code",
      "source": [
        "d={'a':1,'b':2,'c':3}\n",
        "sum=0\n",
        "for i in d.values():\n",
        "  sum=sum+i\n",
        "print(sum)"
      ],
      "metadata": {
        "colab": {
          "base_uri": "https://localhost:8080/"
        },
        "id": "ZHuVoRJ1EArt",
        "outputId": "953832d6-b4a4-4afb-e3dc-2fa68cdb3226"
      },
      "execution_count": 39,
      "outputs": [
        {
          "output_type": "stream",
          "name": "stdout",
          "text": [
            "6\n"
          ]
        }
      ]
    },
    {
      "cell_type": "markdown",
      "source": [
        "Write a Python program to read a text file and count the number of lines in it."
      ],
      "metadata": {
        "id": "hO8Ikl6RFNKE"
      }
    },
    {
      "cell_type": "code",
      "source": [
        "file=open(\"shareef.txt\",\"w\")\n",
        "file.write(\"hello\")\n",
        "file.write(\"hai\")\n",
        "file.close()\n",
        "file=open(\"shareef.txt\",'r')\n",
        "\n"
      ],
      "metadata": {
        "id": "ARN9EOqMFOTG"
      },
      "execution_count": 51,
      "outputs": []
    },
    {
      "cell_type": "code",
      "source": [
        "file=open(\"shareef.txt\",'r')\n",
        "count=0\n",
        "for i in file:\n",
        "  count=count+1\n",
        "print(count)"
      ],
      "metadata": {
        "colab": {
          "base_uri": "https://localhost:8080/"
        },
        "id": "1_G6dYZcKze8",
        "outputId": "c1434597-6a98-43fd-c107-4cdf25fc83d5"
      },
      "execution_count": 52,
      "outputs": [
        {
          "output_type": "stream",
          "name": "stdout",
          "text": [
            "1\n"
          ]
        }
      ]
    },
    {
      "cell_type": "markdown",
      "source": [
        "Write a Python program that handles division by zero using a try-except block."
      ],
      "metadata": {
        "id": "IOszUCD1K4bT"
      }
    },
    {
      "cell_type": "code",
      "source": [
        "a=int(input(\"enter a number  :\"))\n",
        "b=int(input(\"enter a number  :\"))\n",
        "try:\n",
        "  print(a/b)\n",
        "except:\n",
        "  print(\"error\")"
      ],
      "metadata": {
        "colab": {
          "base_uri": "https://localhost:8080/"
        },
        "id": "-FvloatbK7cN",
        "outputId": "7c362d4b-52ba-40af-947d-c5a31d808cc0"
      },
      "execution_count": 54,
      "outputs": [
        {
          "output_type": "stream",
          "name": "stdout",
          "text": [
            "enter a number  :1000\n",
            "enter a number  :1\n",
            "1000.0\n"
          ]
        }
      ]
    }
  ]
}