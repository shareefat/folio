{
  "nbformat": 4,
  "nbformat_minor": 0,
  "metadata": {
    "colab": {
      "provenance": [],
      "authorship_tag": "ABX9TyMH2d5NQO3z72kFYHf3BPBH",
      "include_colab_link": true
    },
    "kernelspec": {
      "name": "python3",
      "display_name": "Python 3"
    },
    "language_info": {
      "name": "python"
    }
  },
  "cells": [
    {
      "cell_type": "markdown",
      "metadata": {
        "id": "view-in-github",
        "colab_type": "text"
      },
      "source": [
        "<a href=\"https://colab.research.google.com/github/shareefat/folio/blob/main/PYTHON_DAY_5.ipynb\" target=\"_parent\"><img src=\"https://colab.research.google.com/assets/colab-badge.svg\" alt=\"Open In Colab\"/></a>"
      ]
    },
    {
      "cell_type": "markdown",
      "source": [
        "#scope of the variable\n",
        "\n",
        "2 types:\n",
        "#1.local variable\n",
        "#2.global variable"
      ],
      "metadata": {
        "id": "hsEoTCrZBSak"
      }
    },
    {
      "cell_type": "markdown",
      "source": [
        "1. local variale\n",
        "\n",
        "the value only change in inside"
      ],
      "metadata": {
        "id": "WNv5W0zbBx6i"
      }
    },
    {
      "cell_type": "code",
      "execution_count": 2,
      "metadata": {
        "id": "JZFZnNjX82Lg"
      },
      "outputs": [],
      "source": [
        "def class1():\n",
        "  student=40\n",
        "  return student"
      ]
    },
    {
      "cell_type": "code",
      "source": [
        "student=70"
      ],
      "metadata": {
        "id": "S3XUCuydBovh"
      },
      "execution_count": 14,
      "outputs": []
    },
    {
      "cell_type": "code",
      "source": [
        "class1()"
      ],
      "metadata": {
        "colab": {
          "base_uri": "https://localhost:8080/"
        },
        "id": "_Y_sAN5iBrMv",
        "outputId": "a7065de4-1b25-4d9d-dd8c-ed3172241d24"
      },
      "execution_count": 15,
      "outputs": [
        {
          "output_type": "execute_result",
          "data": {
            "text/plain": [
              "40"
            ]
          },
          "metadata": {},
          "execution_count": 15
        }
      ]
    },
    {
      "cell_type": "code",
      "source": [
        "student"
      ],
      "metadata": {
        "colab": {
          "base_uri": "https://localhost:8080/"
        },
        "id": "kqVmnGwqBt-B",
        "outputId": "5ecc1f8a-197e-449f-d150-d466418f6f04"
      },
      "execution_count": 16,
      "outputs": [
        {
          "output_type": "execute_result",
          "data": {
            "text/plain": [
              "70"
            ]
          },
          "metadata": {},
          "execution_count": 16
        }
      ]
    },
    {
      "cell_type": "markdown",
      "source": [
        "2.global variable\n",
        "the value will change in both inside and outside"
      ],
      "metadata": {
        "id": "VhyiL1C0B6bj"
      }
    },
    {
      "cell_type": "code",
      "source": [
        "def class2():\n",
        "  global student\n",
        "  student=50\n",
        "  return student"
      ],
      "metadata": {
        "id": "XB_LdUOdAj2-"
      },
      "execution_count": 9,
      "outputs": []
    },
    {
      "cell_type": "code",
      "source": [
        "class2()"
      ],
      "metadata": {
        "colab": {
          "base_uri": "https://localhost:8080/"
        },
        "id": "-zXMSZ1KAtkD",
        "outputId": "aa82604d-e59e-44d5-9846-ee41c3a9c8f8"
      },
      "execution_count": 10,
      "outputs": [
        {
          "output_type": "execute_result",
          "data": {
            "text/plain": [
              "50"
            ]
          },
          "metadata": {},
          "execution_count": 10
        }
      ]
    },
    {
      "cell_type": "code",
      "source": [
        "student=70"
      ],
      "metadata": {
        "id": "QjN6QNzKA0XN"
      },
      "execution_count": 11,
      "outputs": []
    },
    {
      "cell_type": "code",
      "source": [
        "class2()"
      ],
      "metadata": {
        "colab": {
          "base_uri": "https://localhost:8080/"
        },
        "id": "Ke5sAFfaA3FG",
        "outputId": "908ea869-49ea-482a-dffc-3b2af9140183"
      },
      "execution_count": 12,
      "outputs": [
        {
          "output_type": "execute_result",
          "data": {
            "text/plain": [
              "50"
            ]
          },
          "metadata": {},
          "execution_count": 12
        }
      ]
    },
    {
      "cell_type": "code",
      "source": [
        "student"
      ],
      "metadata": {
        "colab": {
          "base_uri": "https://localhost:8080/"
        },
        "id": "GrdH5PJLA6N2",
        "outputId": "f22f0d05-7779-40d6-b0c8-11014b38140a"
      },
      "execution_count": 13,
      "outputs": [
        {
          "output_type": "execute_result",
          "data": {
            "text/plain": [
              "50"
            ]
          },
          "metadata": {},
          "execution_count": 13
        }
      ]
    },
    {
      "cell_type": "code",
      "source": [
        "def abc():\n",
        "   global X\n",
        "   X=10\n",
        "   return X"
      ],
      "metadata": {
        "id": "AAePt4ALA-Qv"
      },
      "execution_count": 35,
      "outputs": []
    },
    {
      "cell_type": "code",
      "source": [
        "X=20"
      ],
      "metadata": {
        "id": "OG7RwZSbGx7M"
      },
      "execution_count": 39,
      "outputs": []
    },
    {
      "cell_type": "code",
      "source": [
        "abc()"
      ],
      "metadata": {
        "colab": {
          "base_uri": "https://localhost:8080/"
        },
        "id": "2y1e-_VHGzg6",
        "outputId": "f7e1305b-4111-43aa-f8d7-e9fc7dd5893b"
      },
      "execution_count": 40,
      "outputs": [
        {
          "output_type": "execute_result",
          "data": {
            "text/plain": [
              "10"
            ]
          },
          "metadata": {},
          "execution_count": 40
        }
      ]
    },
    {
      "cell_type": "code",
      "source": [
        "X"
      ],
      "metadata": {
        "colab": {
          "base_uri": "https://localhost:8080/"
        },
        "id": "mZbpjKvsG0_-",
        "outputId": "51a573e8-dfd6-49e6-8f01-5f9b771013af"
      },
      "execution_count": 41,
      "outputs": [
        {
          "output_type": "execute_result",
          "data": {
            "text/plain": [
              "10"
            ]
          },
          "metadata": {},
          "execution_count": 41
        }
      ]
    },
    {
      "cell_type": "code",
      "source": [
        "def xyz():\n",
        "  y=20\n",
        "  return y"
      ],
      "metadata": {
        "id": "R3szDAG9Fumo"
      },
      "execution_count": 31,
      "outputs": []
    },
    {
      "cell_type": "code",
      "source": [
        "y=30"
      ],
      "metadata": {
        "id": "_qcm50DCG9wb"
      },
      "execution_count": 42,
      "outputs": []
    },
    {
      "cell_type": "code",
      "source": [
        "xyz()"
      ],
      "metadata": {
        "colab": {
          "base_uri": "https://localhost:8080/"
        },
        "id": "N2QCbNaOG_qV",
        "outputId": "6e7d66fa-25f5-45d5-da46-feea3cca0dd4"
      },
      "execution_count": 43,
      "outputs": [
        {
          "output_type": "execute_result",
          "data": {
            "text/plain": [
              "20"
            ]
          },
          "metadata": {},
          "execution_count": 43
        }
      ]
    },
    {
      "cell_type": "code",
      "source": [
        "y"
      ],
      "metadata": {
        "colab": {
          "base_uri": "https://localhost:8080/"
        },
        "id": "TfZkxelDHBjI",
        "outputId": "0cf458fe-cb2c-4d9b-ad12-edcbb6c06c5f"
      },
      "execution_count": 44,
      "outputs": [
        {
          "output_type": "execute_result",
          "data": {
            "text/plain": [
              "30"
            ]
          },
          "metadata": {},
          "execution_count": 44
        }
      ]
    },
    {
      "cell_type": "code",
      "source": [
        "#list comprehension"
      ],
      "metadata": {
        "id": "xHoTkInqHDPs"
      },
      "execution_count": null,
      "outputs": []
    },
    {
      "cell_type": "markdown",
      "source": [
        "generate a list of squared number x=[1,2,3,4,5,6,7,8,9,10]"
      ],
      "metadata": {
        "id": "uTrIuaQ_Hn-O"
      }
    },
    {
      "cell_type": "code",
      "source": [
        "x=[1,2,3,4,5,6,7,8,9,10]\n",
        "y=[]\n",
        "for i in x:\n",
        "  y.append(i**2)\n",
        "  print(y)"
      ],
      "metadata": {
        "colab": {
          "base_uri": "https://localhost:8080/"
        },
        "id": "-2DIjMaEKl4G",
        "outputId": "40f2951a-f879-4e17-8871-854cf1921b4b"
      },
      "execution_count": 58,
      "outputs": [
        {
          "output_type": "stream",
          "name": "stdout",
          "text": [
            "[1]\n",
            "[1, 4]\n",
            "[1, 4, 9]\n",
            "[1, 4, 9, 16]\n",
            "[1, 4, 9, 16, 25]\n",
            "[1, 4, 9, 16, 25, 36]\n",
            "[1, 4, 9, 16, 25, 36, 49]\n",
            "[1, 4, 9, 16, 25, 36, 49, 64]\n",
            "[1, 4, 9, 16, 25, 36, 49, 64, 81]\n",
            "[1, 4, 9, 16, 25, 36, 49, 64, 81, 100]\n"
          ]
        }
      ]
    },
    {
      "cell_type": "markdown",
      "source": [
        "find the square of even number in x"
      ],
      "metadata": {
        "id": "fxIxvqsWMY5_"
      }
    },
    {
      "cell_type": "code",
      "source": [
        "\n",
        "x=[1,2,3,4,5,6,7,8,9,10]\n",
        "y=[]\n",
        "for i in x:\n",
        "  if i%2==0:\n",
        "    y.append(i**2)\n",
        "print(y)"
      ],
      "metadata": {
        "colab": {
          "base_uri": "https://localhost:8080/"
        },
        "id": "O18nFN_7MYi4",
        "outputId": "43e6ec27-47f4-46ae-f9f5-c6f1a39e9b9b"
      },
      "execution_count": 82,
      "outputs": [
        {
          "output_type": "stream",
          "name": "stdout",
          "text": [
            "[4, 16, 36, 64, 100]\n"
          ]
        }
      ]
    },
    {
      "cell_type": "code",
      "source": [
        "x=[1,2,3,4,5,6,7,8,9,10,11,12,13]\n"
      ],
      "metadata": {
        "id": "-mYatDq5M6Dp"
      },
      "execution_count": 83,
      "outputs": []
    },
    {
      "cell_type": "markdown",
      "source": [
        "squaring number without using def function"
      ],
      "metadata": {
        "id": "MgFa1m2AQYHC"
      }
    },
    {
      "cell_type": "code",
      "source": [
        "squared_numbers =[i**2  for i in x]\n",
        "squared_numbers"
      ],
      "metadata": {
        "colab": {
          "base_uri": "https://localhost:8080/"
        },
        "id": "6arc0GmwP0FZ",
        "outputId": "cb8da6a8-2399-42bb-da4e-7390d5d60e7c"
      },
      "execution_count": 86,
      "outputs": [
        {
          "output_type": "execute_result",
          "data": {
            "text/plain": [
              "[1, 4, 9, 16, 25, 36, 49, 64, 81, 100, 121, 144, 169]"
            ]
          },
          "metadata": {},
          "execution_count": 86
        }
      ]
    },
    {
      "cell_type": "code",
      "source": [
        "even_squared_numbers =[i**2 for i in x if i%2==0]\n",
        "even_squared_numbers"
      ],
      "metadata": {
        "colab": {
          "base_uri": "https://localhost:8080/"
        },
        "id": "zmEDutUSQdNZ",
        "outputId": "3e07f584-b680-45b8-93e2-8c999b52c5e2"
      },
      "execution_count": 87,
      "outputs": [
        {
          "output_type": "execute_result",
          "data": {
            "text/plain": [
              "[4, 16, 36, 64, 100, 144]"
            ]
          },
          "metadata": {},
          "execution_count": 87
        }
      ]
    },
    {
      "cell_type": "code",
      "source": [
        "z=[]\n",
        "for i in x:\n",
        "  if i%2==0:\n",
        "    z.append(i**2)\n",
        "else:\n",
        "      z.append(i**3)\n",
        "      print(z)"
      ],
      "metadata": {
        "colab": {
          "base_uri": "https://localhost:8080/"
        },
        "id": "m1-m0sJTQz4K",
        "outputId": "e01cd5ae-30aa-447a-c691-876b7a80414e"
      },
      "execution_count": 92,
      "outputs": [
        {
          "output_type": "stream",
          "name": "stdout",
          "text": [
            "[4, 16, 36, 64, 100, 144, 2197]\n"
          ]
        }
      ]
    },
    {
      "cell_type": "markdown",
      "source": [
        "q) extract the first letter from the list"
      ],
      "metadata": {
        "id": "pJNsjsvxUIWy"
      }
    },
    {
      "cell_type": "code",
      "source": [
        "x=[\"apple\",\"banana\",\"cherry\",\"date\"]\n",
        "first_letters=[i[0] for i in x]\n",
        "first_letters"
      ],
      "metadata": {
        "colab": {
          "base_uri": "https://localhost:8080/"
        },
        "id": "dzHL-LgnUPfP",
        "outputId": "8c91b375-a1cb-4173-a202-40b9c9a4f3a6"
      },
      "execution_count": 97,
      "outputs": [
        {
          "output_type": "execute_result",
          "data": {
            "text/plain": [
              "['a', 'b', 'c', 'd']"
            ]
          },
          "metadata": {},
          "execution_count": 97
        }
      ]
    },
    {
      "cell_type": "markdown",
      "source": [
        "q) create a list of number from 1 to 20 using list comprehension"
      ],
      "metadata": {
        "id": "EeGsrgxfU0I1"
      }
    },
    {
      "cell_type": "code",
      "source": [
        "list_of_numbers=[i for i in range(1,21)]\n",
        "list_of_numbers"
      ],
      "metadata": {
        "colab": {
          "base_uri": "https://localhost:8080/"
        },
        "id": "x2T_OGyPUzA4",
        "outputId": "d4691e06-78f6-4da8-bd06-c215fe51f8e9"
      },
      "execution_count": 96,
      "outputs": [
        {
          "output_type": "execute_result",
          "data": {
            "text/plain": [
              "[1, 2, 3, 4, 5, 6, 7, 8, 9, 10, 11, 12, 13, 14, 15, 16, 17, 18, 19, 20]"
            ]
          },
          "metadata": {},
          "execution_count": 96
        }
      ]
    },
    {
      "cell_type": "markdown",
      "source": [
        "q) create a list of number from 1 to 20 that contain only odd numbers using list comprehension"
      ],
      "metadata": {
        "id": "Yza6jzL6e3eH"
      }
    },
    {
      "cell_type": "code",
      "source": [
        "n=[i for i in range(1,21) if i%2!=0]\n",
        "n"
      ],
      "metadata": {
        "colab": {
          "base_uri": "https://localhost:8080/"
        },
        "id": "h5yBpf7_eGWw",
        "outputId": "7851acc8-0901-4533-bc6f-384fc4f40b48"
      },
      "execution_count": 98,
      "outputs": [
        {
          "output_type": "execute_result",
          "data": {
            "text/plain": [
              "[1, 3, 5, 7, 9, 11, 13, 15, 17, 19]"
            ]
          },
          "metadata": {},
          "execution_count": 98
        }
      ]
    },
    {
      "cell_type": "markdown",
      "source": [
        "q) find the square of evennumber in x"
      ],
      "metadata": {
        "id": "ILN3LDwqfm0G"
      }
    },
    {
      "cell_type": "code",
      "source": [
        "x=[1,2,3,4,5,6,7,8,9,10]\n",
        "even_squared_numbers =[abc**2 for abc in x if abc%2==0]\n",
        "even_squared_numbers\n"
      ],
      "metadata": {
        "colab": {
          "base_uri": "https://localhost:8080/"
        },
        "id": "HdHUUlu6fsj9",
        "outputId": "95604dae-120f-48c6-e6ae-771e53bfdee0"
      },
      "execution_count": 107,
      "outputs": [
        {
          "output_type": "execute_result",
          "data": {
            "text/plain": [
              "[4, 16, 36, 64, 100]"
            ]
          },
          "metadata": {},
          "execution_count": 107
        }
      ]
    },
    {
      "cell_type": "markdown",
      "source": [
        "q) create a list of numbers that contain cube od odd number starting from 10 to 20"
      ],
      "metadata": {
        "id": "DNvm5xKugt9s"
      }
    },
    {
      "cell_type": "markdown",
      "source": [
        "#first namala need\n",
        "#second range\n",
        "#third condition"
      ],
      "metadata": {
        "id": "PQGhHFIFjI3t"
      }
    },
    {
      "cell_type": "code",
      "source": [
        "a=[i**3 for i in range(10,21) if i%2!=0]\n",
        "a"
      ],
      "metadata": {
        "colab": {
          "base_uri": "https://localhost:8080/"
        },
        "id": "05yuHi_ogqoo",
        "outputId": "e16f79ef-5658-4221-fc00-95d447215692"
      },
      "execution_count": 114,
      "outputs": [
        {
          "output_type": "execute_result",
          "data": {
            "text/plain": [
              "[1331, 2197, 3375, 4913, 6859]"
            ]
          },
          "metadata": {},
          "execution_count": 114
        }
      ]
    },
    {
      "cell_type": "markdown",
      "source": [
        "2 conditions"
      ],
      "metadata": {
        "id": "vbEV3DwXjBSU"
      }
    },
    {
      "cell_type": "code",
      "source": [
        "x=[i**2 if i%2==0 else i**3 for i in x ]\n",
        "x"
      ],
      "metadata": {
        "colab": {
          "base_uri": "https://localhost:8080/"
        },
        "id": "5RQo4YPnh6cY",
        "outputId": "613705ef-32ea-4147-d809-43e8a2b2675e"
      },
      "execution_count": 117,
      "outputs": [
        {
          "output_type": "execute_result",
          "data": {
            "text/plain": [
              "[1, 4, 27, 16, 125, 36, 343, 64, 729, 100]"
            ]
          },
          "metadata": {},
          "execution_count": 117
        }
      ]
    },
    {
      "cell_type": "markdown",
      "source": [
        "q) create a list of numbers from 1 to 20 thatare divisibleby 3"
      ],
      "metadata": {
        "id": "01ri9DFglQgO"
      }
    },
    {
      "cell_type": "code",
      "source": [
        "s=[i for i in range(1,21) if i%2==0]\n",
        "s"
      ],
      "metadata": {
        "colab": {
          "base_uri": "https://localhost:8080/"
        },
        "id": "aOH2MHz9lZpB",
        "outputId": "733c8317-8078-4560-b73b-14be1d401dbe"
      },
      "execution_count": 118,
      "outputs": [
        {
          "output_type": "execute_result",
          "data": {
            "text/plain": [
              "[2, 4, 6, 8, 10, 12, 14, 16, 18, 20]"
            ]
          },
          "metadata": {},
          "execution_count": 118
        }
      ]
    },
    {
      "cell_type": "markdown",
      "source": [
        "create a list that assigns 'pass' if score is 50 or higher and 'fail' if the score is below 50\n",
        "\n",
        "\n",
        "scores=[45,67,32,89,50,23,78]"
      ],
      "metadata": {
        "id": "Z8HdbbCRlyoY"
      }
    },
    {
      "cell_type": "code",
      "source": [
        "m=[45,67,32,89,50,23,78]\n",
        "pass_fail=['pass' if i>=50 else 'fail' for i in m]\n",
        "pass_fail"
      ],
      "metadata": {
        "colab": {
          "base_uri": "https://localhost:8080/"
        },
        "id": "qWbqProUmIyW",
        "outputId": "cc5c9856-41cd-4d16-9ced-ca3bfb714238"
      },
      "execution_count": 125,
      "outputs": [
        {
          "output_type": "execute_result",
          "data": {
            "text/plain": [
              "['fail', 'pass', 'fail', 'pass', 'pass', 'fail', 'pass']"
            ]
          },
          "metadata": {},
          "execution_count": 125
        }
      ]
    },
    {
      "cell_type": "markdown",
      "source": [
        "q) create a list that assign 'positive' for number greater than or equl to 0,'negative' for number less than 0\n",
        "numbers =[5,3,0,-2,7,0,-8]"
      ],
      "metadata": {
        "id": "6IX3h3GCnV57"
      }
    },
    {
      "cell_type": "code",
      "source": [
        "n=[5,3,0,-2,7,0,-8]\n",
        "positive_negative=['positive' if i>=0 else 'negative' for i in n]\n",
        "positive_negative\n"
      ],
      "metadata": {
        "colab": {
          "base_uri": "https://localhost:8080/"
        },
        "id": "Wlgi7B8wnvtU",
        "outputId": "26561e1f-5046-43ac-b961-93b9d55ec6f4"
      },
      "execution_count": 126,
      "outputs": [
        {
          "output_type": "execute_result",
          "data": {
            "text/plain": [
              "['positive',\n",
              " 'positive',\n",
              " 'positive',\n",
              " 'negative',\n",
              " 'positive',\n",
              " 'positive',\n",
              " 'negative']"
            ]
          },
          "metadata": {},
          "execution_count": 126
        }
      ]
    },
    {
      "cell_type": "markdown",
      "source": [
        "q) how do you create a for loop that calculate the sum of the numbers in a list"
      ],
      "metadata": {
        "id": "JgbMBhBtqH3a"
      }
    },
    {
      "cell_type": "code",
      "source": [
        "a=[1,2,3,4,5,6,7,8,9,10]\n",
        "sum=0\n",
        "for i in a:\n",
        "  sum=sum+i\n",
        "print(sum)"
      ],
      "metadata": {
        "colab": {
          "base_uri": "https://localhost:8080/"
        },
        "id": "gRPFxsoJqfur",
        "outputId": "e6dc790b-9232-4e87-8e9e-78caaad37151"
      },
      "execution_count": 129,
      "outputs": [
        {
          "output_type": "stream",
          "name": "stdout",
          "text": [
            "55\n"
          ]
        }
      ]
    },
    {
      "cell_type": "markdown",
      "source": [
        "q) how do you create a for loop that prints a multiplication table for a given number"
      ],
      "metadata": {
        "id": "O6qhN3I0q7e4"
      }
    },
    {
      "cell_type": "code",
      "source": [
        "x=7\n",
        "for i in range(1,11):\n",
        "  print(x*i)"
      ],
      "metadata": {
        "colab": {
          "base_uri": "https://localhost:8080/"
        },
        "id": "93OohboErHs5",
        "outputId": "05ef8fe4-9f83-4906-9e62-d7255f7ae0bf"
      },
      "execution_count": 131,
      "outputs": [
        {
          "output_type": "stream",
          "name": "stdout",
          "text": [
            "7\n",
            "14\n",
            "21\n",
            "28\n",
            "35\n",
            "42\n",
            "49\n",
            "56\n",
            "63\n",
            "70\n"
          ]
        }
      ]
    },
    {
      "cell_type": "markdown",
      "source": [
        "another"
      ],
      "metadata": {
        "id": "A-TkokomsVvi"
      }
    },
    {
      "cell_type": "code",
      "source": [
        "y=5\n",
        "for i in range(1,11):\n",
        "  print(f'{y} * {i} ={y*i}')"
      ],
      "metadata": {
        "colab": {
          "base_uri": "https://localhost:8080/"
        },
        "id": "L12YtAU4sXNT",
        "outputId": "989fb294-c7d4-4e04-a15b-fd20ae31caf3"
      },
      "execution_count": 134,
      "outputs": [
        {
          "output_type": "stream",
          "name": "stdout",
          "text": [
            "5 * 1 =5\n",
            "5 * 2 =10\n",
            "5 * 3 =15\n",
            "5 * 4 =20\n",
            "5 * 5 =25\n",
            "5 * 6 =30\n",
            "5 * 7 =35\n",
            "5 * 8 =40\n",
            "5 * 9 =45\n",
            "5 * 10 =50\n"
          ]
        }
      ]
    }
  ]
}